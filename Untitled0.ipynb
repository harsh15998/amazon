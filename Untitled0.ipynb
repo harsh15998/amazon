{
  "cells": [
    {
      "cell_type": "markdown",
      "metadata": {
        "id": "view-in-github",
        "colab_type": "text"
      },
      "source": [
        "<a href=\"https://colab.research.google.com/github/harsh15998/amazon/blob/main/Untitled0.ipynb\" target=\"_parent\"><img src=\"https://colab.research.google.com/assets/colab-badge.svg\" alt=\"Open In Colab\"/></a>"
      ]
    },
    {
      "cell_type": "code",
      "execution_count": null,
      "metadata": {
        "colab": {
          "base_uri": "https://localhost:8080/"
        },
        "id": "VLg6wWKZvqDn",
        "outputId": "cf22d0e6-f86d-47ba-f6dc-21bef30dacad"
      },
      "outputs": [
        {
          "output_type": "stream",
          "name": "stdout",
          "text": [
            "Drive already mounted at /content/drive; to attempt to forcibly remount, call drive.mount(\"/content/drive\", force_remount=True).\n"
          ]
        }
      ],
      "source": [
        "#mounting drive\n",
        "from google.colab import drive\n",
        "drive.mount('/content/drive')\n"
      ]
    },
    {
      "cell_type": "markdown",
      "source": [
        "**Project Name** -Book Recommendation System"
      ],
      "metadata": {
        "id": "8LeQ9pX6UBfy"
      }
    },
    {
      "cell_type": "markdown",
      "source": [
        "##### **Project Type**    - Unsupervised\n",
        "##### **Contribution**    - Individual\n",
        "##### **Name**            - Harsh Jain\n"
      ],
      "metadata": {
        "id": "beRrZCGUAJYm"
      }
    },
    {
      "cell_type": "markdown",
      "source": [
        "# **Project Summary -**"
      ],
      "metadata": {
        "id": "FJNUwmbgGyua"
      }
    },
    {
      "cell_type": "markdown",
      "source": [
        "The objective of this project is to build a book recommendation system using Amazon's book dataset. The system will analyze the user's past purchase history and ratings to suggest books that the user may be interested in buying.\n",
        "\n",
        "The project will involve collecting and cleaning the Amazon book dataset, which contains information on book titles, authors, genres, and ratings. This dataset will be used to train a machine learning model that can predict a user's preferences based on their past behavior.\n",
        "\n",
        "The machine learning model will use various techniques such as collaborative filtering, content-based filtering, and matrix factorization to recommend books to users. The system will also incorporate user feedback and ratings to continually refine and improve its recommendations.\n",
        "\n",
        "Overall, this project aims to create a book recommendation system that provides users with relevant and personalized recommendations, ultimately increasing the user's satisfaction and sales for Amazon."
      ],
      "metadata": {
        "id": "F6v_1wHtG2nS"
      }
    },
    {
      "cell_type": "markdown",
      "source": [
        "# **GitHub Link -** https://github.com/harsh15998/amazon"
      ],
      "metadata": {
        "id": "w6K7xa23Elo4"
      }
    },
    {
      "cell_type": "markdown",
      "source": [
        "# **Problem Statement** -\n",
        "\n",
        "The problem with the current Amazon book recommendation system is that it is not personalized enough to cater to the individual tastes and preferences of the user. While it takes into account the user's purchase history, browsing behavior, and ratings, it fails to consider the context, such as the user's current reading interests, mood, and the time of the year. As a result, the recommendations can be irrelevant, repetitive, or unappealing, leading to a suboptimal user experience and lower sales for Amazon. Therefore, there is a need to develop a more advanced and personalized recommendation system that can accurately predict the user's book preferences and provide relevant and engaging recommendations in real-time.\n",
        "\n",
        "\n"
      ],
      "metadata": {
        "id": "q4REIjj90fZE"
      }
    },
    {
      "cell_type": "code",
      "execution_count": null,
      "metadata": {
        "id": "2xCSeEWhwuKZ"
      },
      "outputs": [],
      "source": [
        "# loading the required libraries\n",
        "import pandas as pd\n",
        "import numpy as np\n",
        "import matplotlib.pyplot as plt\n",
        "import seaborn as sns\n",
        "import warnings\n",
        "warnings.filterwarnings(\"ignore\")\n",
        "import re\n",
        "from scipy.sparse.linalg import svds\n",
        ""
      ]
    },
    {
      "cell_type": "code",
      "execution_count": null,
      "metadata": {
        "id": "XHfj15-bw9i0"
      },
      "outputs": [],
      "source": [
        "drive_path ='/content/drive/MyDrive/amazon/'"
      ]
    },
    {
      "cell_type": "code",
      "execution_count": null,
      "metadata": {
        "id": "jnBj4La8xKH6"
      },
      "outputs": [],
      "source": [
        "books_df=pd.read_csv(\"/content/drive/MyDrive/amazon/Books (1).csv\")\n",
        "\n",
        ""
      ]
    },
    {
      "cell_type": "code",
      "execution_count": null,
      "metadata": {
        "id": "5vvpQgNTyMZY"
      },
      "outputs": [],
      "source": [
        "ratings_df=pd.read_csv(\"/content/drive/MyDrive/amazon/Ratings (1).csv\")"
      ]
    },
    {
      "cell_type": "code",
      "execution_count": null,
      "metadata": {
        "id": "Bp9ottHqyVlN"
      },
      "outputs": [],
      "source": [
        "users_df=pd.read_csv(\"/content/drive/MyDrive/amazon/Users (1).csv\")"
      ]
    },
    {
      "cell_type": "markdown",
      "metadata": {
        "id": "4_QkoCpp9_de"
      },
      "source": [
        "**Pre-processing of datasets**"
      ]
    },
    {
      "cell_type": "markdown",
      "metadata": {
        "id": "yR83NE37-SIF"
      },
      "source": [
        "We have three different datasets which contains details of books, users and book ratings. Let's deep dive into each of those datasets.\n"
      ]
    },
    {
      "cell_type": "markdown",
      "metadata": {
        "id": "Gb3nvD26-XNt"
      },
      "source": [
        "**Books**\n"
      ]
    },
    {
      "cell_type": "code",
      "execution_count": null,
      "metadata": {
        "colab": {
          "base_uri": "https://localhost:8080/",
          "height": 478
        },
        "id": "F24QJ2kP-fqz",
        "outputId": "253ab3ba-d9a0-4ae5-b6ab-1f40b58df610"
      },
      "outputs": [
        {
          "output_type": "execute_result",
          "data": {
            "text/plain": [
              "         ISBN                                         Book-Title  \\\n",
              "0  0195153448                                Classical Mythology   \n",
              "1  0002005018                                       Clara Callan   \n",
              "2  0060973129                               Decision in Normandy   \n",
              "3  0374157065  Flu: The Story of the Great Influenza Pandemic...   \n",
              "4  0393045218                             The Mummies of Urumchi   \n",
              "\n",
              "            Book-Author Year-Of-Publication                   Publisher  \\\n",
              "0    Mark P. O. Morford                2002     Oxford University Press   \n",
              "1  Richard Bruce Wright                2001       HarperFlamingo Canada   \n",
              "2          Carlo D'Este                1991             HarperPerennial   \n",
              "3      Gina Bari Kolata                1999        Farrar Straus Giroux   \n",
              "4       E. J. W. Barber                1999  W. W. Norton &amp; Company   \n",
              "\n",
              "                                         Image-URL-S  \\\n",
              "0  http://images.amazon.com/images/P/0195153448.0...   \n",
              "1  http://images.amazon.com/images/P/0002005018.0...   \n",
              "2  http://images.amazon.com/images/P/0060973129.0...   \n",
              "3  http://images.amazon.com/images/P/0374157065.0...   \n",
              "4  http://images.amazon.com/images/P/0393045218.0...   \n",
              "\n",
              "                                         Image-URL-M  \\\n",
              "0  http://images.amazon.com/images/P/0195153448.0...   \n",
              "1  http://images.amazon.com/images/P/0002005018.0...   \n",
              "2  http://images.amazon.com/images/P/0060973129.0...   \n",
              "3  http://images.amazon.com/images/P/0374157065.0...   \n",
              "4  http://images.amazon.com/images/P/0393045218.0...   \n",
              "\n",
              "                                         Image-URL-L  \n",
              "0  http://images.amazon.com/images/P/0195153448.0...  \n",
              "1  http://images.amazon.com/images/P/0002005018.0...  \n",
              "2  http://images.amazon.com/images/P/0060973129.0...  \n",
              "3  http://images.amazon.com/images/P/0374157065.0...  \n",
              "4  http://images.amazon.com/images/P/0393045218.0...  "
            ],
            "text/html": [
              "\n",
              "  <div id=\"df-4f47406a-6b4e-4afc-bb6c-ad24901e71d2\">\n",
              "    <div class=\"colab-df-container\">\n",
              "      <div>\n",
              "<style scoped>\n",
              "    .dataframe tbody tr th:only-of-type {\n",
              "        vertical-align: middle;\n",
              "    }\n",
              "\n",
              "    .dataframe tbody tr th {\n",
              "        vertical-align: top;\n",
              "    }\n",
              "\n",
              "    .dataframe thead th {\n",
              "        text-align: right;\n",
              "    }\n",
              "</style>\n",
              "<table border=\"1\" class=\"dataframe\">\n",
              "  <thead>\n",
              "    <tr style=\"text-align: right;\">\n",
              "      <th></th>\n",
              "      <th>ISBN</th>\n",
              "      <th>Book-Title</th>\n",
              "      <th>Book-Author</th>\n",
              "      <th>Year-Of-Publication</th>\n",
              "      <th>Publisher</th>\n",
              "      <th>Image-URL-S</th>\n",
              "      <th>Image-URL-M</th>\n",
              "      <th>Image-URL-L</th>\n",
              "    </tr>\n",
              "  </thead>\n",
              "  <tbody>\n",
              "    <tr>\n",
              "      <th>0</th>\n",
              "      <td>0195153448</td>\n",
              "      <td>Classical Mythology</td>\n",
              "      <td>Mark P. O. Morford</td>\n",
              "      <td>2002</td>\n",
              "      <td>Oxford University Press</td>\n",
              "      <td>http://images.amazon.com/images/P/0195153448.0...</td>\n",
              "      <td>http://images.amazon.com/images/P/0195153448.0...</td>\n",
              "      <td>http://images.amazon.com/images/P/0195153448.0...</td>\n",
              "    </tr>\n",
              "    <tr>\n",
              "      <th>1</th>\n",
              "      <td>0002005018</td>\n",
              "      <td>Clara Callan</td>\n",
              "      <td>Richard Bruce Wright</td>\n",
              "      <td>2001</td>\n",
              "      <td>HarperFlamingo Canada</td>\n",
              "      <td>http://images.amazon.com/images/P/0002005018.0...</td>\n",
              "      <td>http://images.amazon.com/images/P/0002005018.0...</td>\n",
              "      <td>http://images.amazon.com/images/P/0002005018.0...</td>\n",
              "    </tr>\n",
              "    <tr>\n",
              "      <th>2</th>\n",
              "      <td>0060973129</td>\n",
              "      <td>Decision in Normandy</td>\n",
              "      <td>Carlo D'Este</td>\n",
              "      <td>1991</td>\n",
              "      <td>HarperPerennial</td>\n",
              "      <td>http://images.amazon.com/images/P/0060973129.0...</td>\n",
              "      <td>http://images.amazon.com/images/P/0060973129.0...</td>\n",
              "      <td>http://images.amazon.com/images/P/0060973129.0...</td>\n",
              "    </tr>\n",
              "    <tr>\n",
              "      <th>3</th>\n",
              "      <td>0374157065</td>\n",
              "      <td>Flu: The Story of the Great Influenza Pandemic...</td>\n",
              "      <td>Gina Bari Kolata</td>\n",
              "      <td>1999</td>\n",
              "      <td>Farrar Straus Giroux</td>\n",
              "      <td>http://images.amazon.com/images/P/0374157065.0...</td>\n",
              "      <td>http://images.amazon.com/images/P/0374157065.0...</td>\n",
              "      <td>http://images.amazon.com/images/P/0374157065.0...</td>\n",
              "    </tr>\n",
              "    <tr>\n",
              "      <th>4</th>\n",
              "      <td>0393045218</td>\n",
              "      <td>The Mummies of Urumchi</td>\n",
              "      <td>E. J. W. Barber</td>\n",
              "      <td>1999</td>\n",
              "      <td>W. W. Norton &amp;amp; Company</td>\n",
              "      <td>http://images.amazon.com/images/P/0393045218.0...</td>\n",
              "      <td>http://images.amazon.com/images/P/0393045218.0...</td>\n",
              "      <td>http://images.amazon.com/images/P/0393045218.0...</td>\n",
              "    </tr>\n",
              "  </tbody>\n",
              "</table>\n",
              "</div>\n",
              "      <button class=\"colab-df-convert\" onclick=\"convertToInteractive('df-4f47406a-6b4e-4afc-bb6c-ad24901e71d2')\"\n",
              "              title=\"Convert this dataframe to an interactive table.\"\n",
              "              style=\"display:none;\">\n",
              "        \n",
              "  <svg xmlns=\"http://www.w3.org/2000/svg\" height=\"24px\"viewBox=\"0 0 24 24\"\n",
              "       width=\"24px\">\n",
              "    <path d=\"M0 0h24v24H0V0z\" fill=\"none\"/>\n",
              "    <path d=\"M18.56 5.44l.94 2.06.94-2.06 2.06-.94-2.06-.94-.94-2.06-.94 2.06-2.06.94zm-11 1L8.5 8.5l.94-2.06 2.06-.94-2.06-.94L8.5 2.5l-.94 2.06-2.06.94zm10 10l.94 2.06.94-2.06 2.06-.94-2.06-.94-.94-2.06-.94 2.06-2.06.94z\"/><path d=\"M17.41 7.96l-1.37-1.37c-.4-.4-.92-.59-1.43-.59-.52 0-1.04.2-1.43.59L10.3 9.45l-7.72 7.72c-.78.78-.78 2.05 0 2.83L4 21.41c.39.39.9.59 1.41.59.51 0 1.02-.2 1.41-.59l7.78-7.78 2.81-2.81c.8-.78.8-2.07 0-2.86zM5.41 20L4 18.59l7.72-7.72 1.47 1.35L5.41 20z\"/>\n",
              "  </svg>\n",
              "      </button>\n",
              "      \n",
              "  <style>\n",
              "    .colab-df-container {\n",
              "      display:flex;\n",
              "      flex-wrap:wrap;\n",
              "      gap: 12px;\n",
              "    }\n",
              "\n",
              "    .colab-df-convert {\n",
              "      background-color: #E8F0FE;\n",
              "      border: none;\n",
              "      border-radius: 50%;\n",
              "      cursor: pointer;\n",
              "      display: none;\n",
              "      fill: #1967D2;\n",
              "      height: 32px;\n",
              "      padding: 0 0 0 0;\n",
              "      width: 32px;\n",
              "    }\n",
              "\n",
              "    .colab-df-convert:hover {\n",
              "      background-color: #E2EBFA;\n",
              "      box-shadow: 0px 1px 2px rgba(60, 64, 67, 0.3), 0px 1px 3px 1px rgba(60, 64, 67, 0.15);\n",
              "      fill: #174EA6;\n",
              "    }\n",
              "\n",
              "    [theme=dark] .colab-df-convert {\n",
              "      background-color: #3B4455;\n",
              "      fill: #D2E3FC;\n",
              "    }\n",
              "\n",
              "    [theme=dark] .colab-df-convert:hover {\n",
              "      background-color: #434B5C;\n",
              "      box-shadow: 0px 1px 3px 1px rgba(0, 0, 0, 0.15);\n",
              "      filter: drop-shadow(0px 1px 2px rgba(0, 0, 0, 0.3));\n",
              "      fill: #FFFFFF;\n",
              "    }\n",
              "  </style>\n",
              "\n",
              "      <script>\n",
              "        const buttonEl =\n",
              "          document.querySelector('#df-4f47406a-6b4e-4afc-bb6c-ad24901e71d2 button.colab-df-convert');\n",
              "        buttonEl.style.display =\n",
              "          google.colab.kernel.accessAllowed ? 'block' : 'none';\n",
              "\n",
              "        async function convertToInteractive(key) {\n",
              "          const element = document.querySelector('#df-4f47406a-6b4e-4afc-bb6c-ad24901e71d2');\n",
              "          const dataTable =\n",
              "            await google.colab.kernel.invokeFunction('convertToInteractive',\n",
              "                                                     [key], {});\n",
              "          if (!dataTable) return;\n",
              "\n",
              "          const docLinkHtml = 'Like what you see? Visit the ' +\n",
              "            '<a target=\"_blank\" href=https://colab.research.google.com/notebooks/data_table.ipynb>data table notebook</a>'\n",
              "            + ' to learn more about interactive tables.';\n",
              "          element.innerHTML = '';\n",
              "          dataTable['output_type'] = 'display_data';\n",
              "          await google.colab.output.renderOutput(dataTable, element);\n",
              "          const docLink = document.createElement('div');\n",
              "          docLink.innerHTML = docLinkHtml;\n",
              "          element.appendChild(docLink);\n",
              "        }\n",
              "      </script>\n",
              "    </div>\n",
              "  </div>\n",
              "  "
            ]
          },
          "metadata": {},
          "execution_count": 8
        }
      ],
      "source": [
        "#first look\n",
        "books_df.head()"
      ]
    },
    {
      "cell_type": "code",
      "execution_count": null,
      "metadata": {
        "colab": {
          "base_uri": "https://localhost:8080/"
        },
        "id": "yD4HuHpiIxq_",
        "outputId": "589f746b-be50-4dcd-a9f3-093f0178dfb0"
      },
      "outputs": [
        {
          "output_type": "stream",
          "name": "stdout",
          "text": [
            "<class 'pandas.core.frame.DataFrame'>\n",
            "RangeIndex: 271360 entries, 0 to 271359\n",
            "Data columns (total 8 columns):\n",
            " #   Column               Non-Null Count   Dtype \n",
            "---  ------               --------------   ----- \n",
            " 0   ISBN                 271360 non-null  object\n",
            " 1   Book-Title           271360 non-null  object\n",
            " 2   Book-Author          271359 non-null  object\n",
            " 3   Year-Of-Publication  271360 non-null  object\n",
            " 4   Publisher            271358 non-null  object\n",
            " 5   Image-URL-S          271360 non-null  object\n",
            " 6   Image-URL-M          271360 non-null  object\n",
            " 7   Image-URL-L          271357 non-null  object\n",
            "dtypes: object(8)\n",
            "memory usage: 16.6+ MB\n"
          ]
        }
      ],
      "source": [
        "#Checking basic information\n",
        "books_df.info()\n",
        ""
      ]
    },
    {
      "cell_type": "markdown",
      "metadata": {
        "id": "1khLC7rPRSc8"
      },
      "source": [
        "The last three columns contains no information that helps in the analysis process, hence we consider only the first 5 columns for further process."
      ]
    },
    {
      "cell_type": "code",
      "execution_count": null,
      "metadata": {
        "id": "iMKJElnDRTys"
      },
      "outputs": [],
      "source": [
        "#Taking the required subset\n",
        "books_df=books_df[[\"ISBN\",\"Book-Title\",\"Book-Author\",\t\"Year-Of-Publication\", \"Publisher\"]]\n",
        ""
      ]
    },
    {
      "cell_type": "code",
      "execution_count": null,
      "metadata": {
        "colab": {
          "base_uri": "https://localhost:8080/"
        },
        "id": "lfUw46RmWs9J",
        "outputId": "12bf03d4-3f66-4c8a-85ae-6f178613bcd8"
      },
      "outputs": [
        {
          "output_type": "execute_result",
          "data": {
            "text/plain": [
              "ISBN                   0\n",
              "Book-Title             0\n",
              "Book-Author            1\n",
              "Year-Of-Publication    0\n",
              "Publisher              2\n",
              "dtype: int64"
            ]
          },
          "metadata": {},
          "execution_count": 11
        }
      ],
      "source": [
        "\n",
        "# Checking for null values\n",
        "books_df.isnull().sum()"
      ]
    },
    {
      "cell_type": "code",
      "execution_count": null,
      "metadata": {
        "colab": {
          "base_uri": "https://localhost:8080/",
          "height": 143
        },
        "id": "dWtY9CsrXu7o",
        "outputId": "a8b88589-554a-4fc6-eb5a-4b32b04900b6"
      },
      "outputs": [
        {
          "output_type": "execute_result",
          "data": {
            "text/plain": [
              "              ISBN                                         Book-Title  \\\n",
              "128890  193169656X                                        Tyrant Moon   \n",
              "129037  1931696993                                    Finders Keepers   \n",
              "187689  9627982032  The Credit Suisse Guide to Managing Your Perso...   \n",
              "\n",
              "            Book-Author Year-Of-Publication                       Publisher  \n",
              "128890  Elaine Corvidae                2002                             NaN  \n",
              "129037  Linnea Sinclair                2001                             NaN  \n",
              "187689              NaN                1995  Edinburgh Financial Publishing  "
            ],
            "text/html": [
              "\n",
              "  <div id=\"df-1235d9d7-d0c2-47d4-8a54-defc42185f28\">\n",
              "    <div class=\"colab-df-container\">\n",
              "      <div>\n",
              "<style scoped>\n",
              "    .dataframe tbody tr th:only-of-type {\n",
              "        vertical-align: middle;\n",
              "    }\n",
              "\n",
              "    .dataframe tbody tr th {\n",
              "        vertical-align: top;\n",
              "    }\n",
              "\n",
              "    .dataframe thead th {\n",
              "        text-align: right;\n",
              "    }\n",
              "</style>\n",
              "<table border=\"1\" class=\"dataframe\">\n",
              "  <thead>\n",
              "    <tr style=\"text-align: right;\">\n",
              "      <th></th>\n",
              "      <th>ISBN</th>\n",
              "      <th>Book-Title</th>\n",
              "      <th>Book-Author</th>\n",
              "      <th>Year-Of-Publication</th>\n",
              "      <th>Publisher</th>\n",
              "    </tr>\n",
              "  </thead>\n",
              "  <tbody>\n",
              "    <tr>\n",
              "      <th>128890</th>\n",
              "      <td>193169656X</td>\n",
              "      <td>Tyrant Moon</td>\n",
              "      <td>Elaine Corvidae</td>\n",
              "      <td>2002</td>\n",
              "      <td>NaN</td>\n",
              "    </tr>\n",
              "    <tr>\n",
              "      <th>129037</th>\n",
              "      <td>1931696993</td>\n",
              "      <td>Finders Keepers</td>\n",
              "      <td>Linnea Sinclair</td>\n",
              "      <td>2001</td>\n",
              "      <td>NaN</td>\n",
              "    </tr>\n",
              "    <tr>\n",
              "      <th>187689</th>\n",
              "      <td>9627982032</td>\n",
              "      <td>The Credit Suisse Guide to Managing Your Perso...</td>\n",
              "      <td>NaN</td>\n",
              "      <td>1995</td>\n",
              "      <td>Edinburgh Financial Publishing</td>\n",
              "    </tr>\n",
              "  </tbody>\n",
              "</table>\n",
              "</div>\n",
              "      <button class=\"colab-df-convert\" onclick=\"convertToInteractive('df-1235d9d7-d0c2-47d4-8a54-defc42185f28')\"\n",
              "              title=\"Convert this dataframe to an interactive table.\"\n",
              "              style=\"display:none;\">\n",
              "        \n",
              "  <svg xmlns=\"http://www.w3.org/2000/svg\" height=\"24px\"viewBox=\"0 0 24 24\"\n",
              "       width=\"24px\">\n",
              "    <path d=\"M0 0h24v24H0V0z\" fill=\"none\"/>\n",
              "    <path d=\"M18.56 5.44l.94 2.06.94-2.06 2.06-.94-2.06-.94-.94-2.06-.94 2.06-2.06.94zm-11 1L8.5 8.5l.94-2.06 2.06-.94-2.06-.94L8.5 2.5l-.94 2.06-2.06.94zm10 10l.94 2.06.94-2.06 2.06-.94-2.06-.94-.94-2.06-.94 2.06-2.06.94z\"/><path d=\"M17.41 7.96l-1.37-1.37c-.4-.4-.92-.59-1.43-.59-.52 0-1.04.2-1.43.59L10.3 9.45l-7.72 7.72c-.78.78-.78 2.05 0 2.83L4 21.41c.39.39.9.59 1.41.59.51 0 1.02-.2 1.41-.59l7.78-7.78 2.81-2.81c.8-.78.8-2.07 0-2.86zM5.41 20L4 18.59l7.72-7.72 1.47 1.35L5.41 20z\"/>\n",
              "  </svg>\n",
              "      </button>\n",
              "      \n",
              "  <style>\n",
              "    .colab-df-container {\n",
              "      display:flex;\n",
              "      flex-wrap:wrap;\n",
              "      gap: 12px;\n",
              "    }\n",
              "\n",
              "    .colab-df-convert {\n",
              "      background-color: #E8F0FE;\n",
              "      border: none;\n",
              "      border-radius: 50%;\n",
              "      cursor: pointer;\n",
              "      display: none;\n",
              "      fill: #1967D2;\n",
              "      height: 32px;\n",
              "      padding: 0 0 0 0;\n",
              "      width: 32px;\n",
              "    }\n",
              "\n",
              "    .colab-df-convert:hover {\n",
              "      background-color: #E2EBFA;\n",
              "      box-shadow: 0px 1px 2px rgba(60, 64, 67, 0.3), 0px 1px 3px 1px rgba(60, 64, 67, 0.15);\n",
              "      fill: #174EA6;\n",
              "    }\n",
              "\n",
              "    [theme=dark] .colab-df-convert {\n",
              "      background-color: #3B4455;\n",
              "      fill: #D2E3FC;\n",
              "    }\n",
              "\n",
              "    [theme=dark] .colab-df-convert:hover {\n",
              "      background-color: #434B5C;\n",
              "      box-shadow: 0px 1px 3px 1px rgba(0, 0, 0, 0.15);\n",
              "      filter: drop-shadow(0px 1px 2px rgba(0, 0, 0, 0.3));\n",
              "      fill: #FFFFFF;\n",
              "    }\n",
              "  </style>\n",
              "\n",
              "      <script>\n",
              "        const buttonEl =\n",
              "          document.querySelector('#df-1235d9d7-d0c2-47d4-8a54-defc42185f28 button.colab-df-convert');\n",
              "        buttonEl.style.display =\n",
              "          google.colab.kernel.accessAllowed ? 'block' : 'none';\n",
              "\n",
              "        async function convertToInteractive(key) {\n",
              "          const element = document.querySelector('#df-1235d9d7-d0c2-47d4-8a54-defc42185f28');\n",
              "          const dataTable =\n",
              "            await google.colab.kernel.invokeFunction('convertToInteractive',\n",
              "                                                     [key], {});\n",
              "          if (!dataTable) return;\n",
              "\n",
              "          const docLinkHtml = 'Like what you see? Visit the ' +\n",
              "            '<a target=\"_blank\" href=https://colab.research.google.com/notebooks/data_table.ipynb>data table notebook</a>'\n",
              "            + ' to learn more about interactive tables.';\n",
              "          element.innerHTML = '';\n",
              "          dataTable['output_type'] = 'display_data';\n",
              "          await google.colab.output.renderOutput(dataTable, element);\n",
              "          const docLink = document.createElement('div');\n",
              "          docLink.innerHTML = docLinkHtml;\n",
              "          element.appendChild(docLink);\n",
              "        }\n",
              "      </script>\n",
              "    </div>\n",
              "  </div>\n",
              "  "
            ]
          },
          "metadata": {},
          "execution_count": 12
        }
      ],
      "source": [
        "#obtaining the rows that contain null values\n",
        "books_df[books_df.isnull().any(axis=1)]"
      ]
    },
    {
      "cell_type": "markdown",
      "metadata": {
        "id": "LSUdRx8UY8Dv"
      },
      "source": [
        "We can see that the column Book-Author contains one null value and the column Publisher contains two null values. Therefore we replace them by 'Unknown'."
      ]
    },
    {
      "cell_type": "code",
      "execution_count": null,
      "metadata": {
        "id": "Viact-qmZAMO"
      },
      "outputs": [],
      "source": [
        "#Replacing null values by 'Unknown'\n",
        "books_df.fillna(\"Unknown\",inplace=True)"
      ]
    },
    {
      "cell_type": "code",
      "execution_count": null,
      "metadata": {
        "colab": {
          "base_uri": "https://localhost:8080/"
        },
        "id": "lu1emO05ZHZ2",
        "outputId": "43f155ab-9f1b-4d5c-84ea-5761152eeb87"
      },
      "outputs": [
        {
          "output_type": "execute_result",
          "data": {
            "text/plain": [
              "ISBN                   object\n",
              "Book-Title             object\n",
              "Book-Author            object\n",
              "Year-Of-Publication    object\n",
              "Publisher              object\n",
              "dtype: object"
            ]
          },
          "metadata": {},
          "execution_count": 14
        }
      ],
      "source": [
        "#Checking the datatype\n",
        "books_df.dtypes"
      ]
    },
    {
      "cell_type": "code",
      "execution_count": null,
      "metadata": {
        "colab": {
          "base_uri": "https://localhost:8080/"
        },
        "id": "-IHX9k8YZWG-",
        "outputId": "c02326c1-3fde-46af-a14c-64c8c723a556"
      },
      "outputs": [
        {
          "output_type": "execute_result",
          "data": {
            "text/plain": [
              "array([2002, 2001, 1991, 1999, 2000, 1993, 1996, 1988, 2004, 1998, 1994,\n",
              "       2003, 1997, 1983, 1979, 1995, 1982, 1985, 1992, 1986, 1978, 1980,\n",
              "       1952, 1987, 1990, 1981, 1989, 1984, 0, 1968, 1961, 1958, 1974,\n",
              "       1976, 1971, 1977, 1975, 1965, 1941, 1970, 1962, 1973, 1972, 1960,\n",
              "       1966, 1920, 1956, 1959, 1953, 1951, 1942, 1963, 1964, 1969, 1954,\n",
              "       1950, 1967, 2005, 1957, 1940, 1937, 1955, 1946, 1936, 1930, 2011,\n",
              "       1925, 1948, 1943, 1947, 1945, 1923, 2020, 1939, 1926, 1938, 2030,\n",
              "       1911, 1904, 1949, 1932, 1928, 1929, 1927, 1931, 1914, 2050, 1934,\n",
              "       1910, 1933, 1902, 1924, 1921, 1900, 2038, 2026, 1944, 1917, 1901,\n",
              "       2010, 1908, 1906, 1935, 1806, 2021, '2000', '1995', '1999', '2004',\n",
              "       '2003', '1990', '1994', '1986', '1989', '2002', '1981', '1993',\n",
              "       '1983', '1982', '1976', '1991', '1977', '1998', '1992', '1996',\n",
              "       '0', '1997', '2001', '1974', '1968', '1987', '1984', '1988',\n",
              "       '1963', '1956', '1970', '1985', '1978', '1973', '1980', '1979',\n",
              "       '1975', '1969', '1961', '1965', '1939', '1958', '1950', '1953',\n",
              "       '1966', '1971', '1959', '1972', '1955', '1957', '1945', '1960',\n",
              "       '1967', '1932', '1924', '1964', '2012', '1911', '1927', '1948',\n",
              "       '1962', '2006', '1952', '1940', '1951', '1931', '1954', '2005',\n",
              "       '1930', '1941', '1944', 'DK Publishing Inc', '1943', '1938',\n",
              "       '1900', '1942', '1923', '1920', '1933', 'Gallimard', '1909',\n",
              "       '1946', '2008', '1378', '2030', '1936', '1947', '2011', '2020',\n",
              "       '1919', '1949', '1922', '1897', '2024', '1376', '1926', '2037'],\n",
              "      dtype=object)"
            ]
          },
          "metadata": {},
          "execution_count": 15
        }
      ],
      "source": [
        "#Obtaining the unique years\n",
        "books_df[\"Year-Of-Publication\"].unique()\n",
        ""
      ]
    },
    {
      "cell_type": "markdown",
      "metadata": {
        "id": "7UtMI8u4ZxhQ"
      },
      "source": [
        "While checking the unique years we can see that two years are mistakenly replaced by some text. Let's try to fix this issue."
      ]
    },
    {
      "cell_type": "code",
      "execution_count": null,
      "metadata": {
        "id": "0zPxFM9tZzfP"
      },
      "outputs": [],
      "source": [
        "pd.set_option('display.max_colwidth', -1)"
      ]
    },
    {
      "cell_type": "code",
      "execution_count": null,
      "metadata": {
        "colab": {
          "base_uri": "https://localhost:8080/",
          "height": 159
        },
        "id": "2NiV2vMhZ3xw",
        "outputId": "10952e75-3480-4db8-a91f-8ac228f6eb9d"
      },
      "outputs": [
        {
          "output_type": "execute_result",
          "data": {
            "text/plain": [
              "              ISBN  \\\n",
              "220731  2070426769   \n",
              "\n",
              "                                                                      Book-Title  \\\n",
              "220731  Peuple du ciel, suivi de 'Les Bergers\\\";Jean-Marie Gustave Le ClÃ?Â©zio\"   \n",
              "\n",
              "       Book-Author Year-Of-Publication  \\\n",
              "220731  2003        Gallimard            \n",
              "\n",
              "                                                           Publisher  \n",
              "220731  http://images.amazon.com/images/P/2070426769.01.THUMBZZZ.jpg  "
            ],
            "text/html": [
              "\n",
              "  <div id=\"df-34aaad89-1f18-4580-ae9a-938917bedff9\">\n",
              "    <div class=\"colab-df-container\">\n",
              "      <div>\n",
              "<style scoped>\n",
              "    .dataframe tbody tr th:only-of-type {\n",
              "        vertical-align: middle;\n",
              "    }\n",
              "\n",
              "    .dataframe tbody tr th {\n",
              "        vertical-align: top;\n",
              "    }\n",
              "\n",
              "    .dataframe thead th {\n",
              "        text-align: right;\n",
              "    }\n",
              "</style>\n",
              "<table border=\"1\" class=\"dataframe\">\n",
              "  <thead>\n",
              "    <tr style=\"text-align: right;\">\n",
              "      <th></th>\n",
              "      <th>ISBN</th>\n",
              "      <th>Book-Title</th>\n",
              "      <th>Book-Author</th>\n",
              "      <th>Year-Of-Publication</th>\n",
              "      <th>Publisher</th>\n",
              "    </tr>\n",
              "  </thead>\n",
              "  <tbody>\n",
              "    <tr>\n",
              "      <th>220731</th>\n",
              "      <td>2070426769</td>\n",
              "      <td>Peuple du ciel, suivi de 'Les Bergers\\\";Jean-Marie Gustave Le ClÃ?Â©zio\"</td>\n",
              "      <td>2003</td>\n",
              "      <td>Gallimard</td>\n",
              "      <td>http://images.amazon.com/images/P/2070426769.01.THUMBZZZ.jpg</td>\n",
              "    </tr>\n",
              "  </tbody>\n",
              "</table>\n",
              "</div>\n",
              "      <button class=\"colab-df-convert\" onclick=\"convertToInteractive('df-34aaad89-1f18-4580-ae9a-938917bedff9')\"\n",
              "              title=\"Convert this dataframe to an interactive table.\"\n",
              "              style=\"display:none;\">\n",
              "        \n",
              "  <svg xmlns=\"http://www.w3.org/2000/svg\" height=\"24px\"viewBox=\"0 0 24 24\"\n",
              "       width=\"24px\">\n",
              "    <path d=\"M0 0h24v24H0V0z\" fill=\"none\"/>\n",
              "    <path d=\"M18.56 5.44l.94 2.06.94-2.06 2.06-.94-2.06-.94-.94-2.06-.94 2.06-2.06.94zm-11 1L8.5 8.5l.94-2.06 2.06-.94-2.06-.94L8.5 2.5l-.94 2.06-2.06.94zm10 10l.94 2.06.94-2.06 2.06-.94-2.06-.94-.94-2.06-.94 2.06-2.06.94z\"/><path d=\"M17.41 7.96l-1.37-1.37c-.4-.4-.92-.59-1.43-.59-.52 0-1.04.2-1.43.59L10.3 9.45l-7.72 7.72c-.78.78-.78 2.05 0 2.83L4 21.41c.39.39.9.59 1.41.59.51 0 1.02-.2 1.41-.59l7.78-7.78 2.81-2.81c.8-.78.8-2.07 0-2.86zM5.41 20L4 18.59l7.72-7.72 1.47 1.35L5.41 20z\"/>\n",
              "  </svg>\n",
              "      </button>\n",
              "      \n",
              "  <style>\n",
              "    .colab-df-container {\n",
              "      display:flex;\n",
              "      flex-wrap:wrap;\n",
              "      gap: 12px;\n",
              "    }\n",
              "\n",
              "    .colab-df-convert {\n",
              "      background-color: #E8F0FE;\n",
              "      border: none;\n",
              "      border-radius: 50%;\n",
              "      cursor: pointer;\n",
              "      display: none;\n",
              "      fill: #1967D2;\n",
              "      height: 32px;\n",
              "      padding: 0 0 0 0;\n",
              "      width: 32px;\n",
              "    }\n",
              "\n",
              "    .colab-df-convert:hover {\n",
              "      background-color: #E2EBFA;\n",
              "      box-shadow: 0px 1px 2px rgba(60, 64, 67, 0.3), 0px 1px 3px 1px rgba(60, 64, 67, 0.15);\n",
              "      fill: #174EA6;\n",
              "    }\n",
              "\n",
              "    [theme=dark] .colab-df-convert {\n",
              "      background-color: #3B4455;\n",
              "      fill: #D2E3FC;\n",
              "    }\n",
              "\n",
              "    [theme=dark] .colab-df-convert:hover {\n",
              "      background-color: #434B5C;\n",
              "      box-shadow: 0px 1px 3px 1px rgba(0, 0, 0, 0.15);\n",
              "      filter: drop-shadow(0px 1px 2px rgba(0, 0, 0, 0.3));\n",
              "      fill: #FFFFFF;\n",
              "    }\n",
              "  </style>\n",
              "\n",
              "      <script>\n",
              "        const buttonEl =\n",
              "          document.querySelector('#df-34aaad89-1f18-4580-ae9a-938917bedff9 button.colab-df-convert');\n",
              "        buttonEl.style.display =\n",
              "          google.colab.kernel.accessAllowed ? 'block' : 'none';\n",
              "\n",
              "        async function convertToInteractive(key) {\n",
              "          const element = document.querySelector('#df-34aaad89-1f18-4580-ae9a-938917bedff9');\n",
              "          const dataTable =\n",
              "            await google.colab.kernel.invokeFunction('convertToInteractive',\n",
              "                                                     [key], {});\n",
              "          if (!dataTable) return;\n",
              "\n",
              "          const docLinkHtml = 'Like what you see? Visit the ' +\n",
              "            '<a target=\"_blank\" href=https://colab.research.google.com/notebooks/data_table.ipynb>data table notebook</a>'\n",
              "            + ' to learn more about interactive tables.';\n",
              "          element.innerHTML = '';\n",
              "          dataTable['output_type'] = 'display_data';\n",
              "          await google.colab.output.renderOutput(dataTable, element);\n",
              "          const docLink = document.createElement('div');\n",
              "          docLink.innerHTML = docLinkHtml;\n",
              "          element.appendChild(docLink);\n",
              "        }\n",
              "      </script>\n",
              "    </div>\n",
              "  </div>\n",
              "  "
            ]
          },
          "metadata": {},
          "execution_count": 17
        }
      ],
      "source": [
        "books_df[books_df[\"Year-Of-Publication\"]=='Gallimard']\n",
        ""
      ]
    },
    {
      "cell_type": "code",
      "execution_count": null,
      "metadata": {
        "colab": {
          "base_uri": "https://localhost:8080/",
          "height": 208
        },
        "id": "NwjQif0NaB6F",
        "outputId": "9e2a4ac4-34b0-4fb0-d331-9ab382e687cd"
      },
      "outputs": [
        {
          "output_type": "execute_result",
          "data": {
            "text/plain": [
              "              ISBN  \\\n",
              "209538  078946697X   \n",
              "221678  0789466953   \n",
              "\n",
              "                                                                                                         Book-Title  \\\n",
              "209538  DK Readers: Creating the X-Men, How It All Began (Level 4: Proficient Readers)\\\";Michael Teitelbaum\"          \n",
              "221678  DK Readers: Creating the X-Men, How Comic Books Come to Life (Level 4: Proficient Readers)\\\";James Buckley\"   \n",
              "\n",
              "       Book-Author Year-Of-Publication  \\\n",
              "209538  2000        DK Publishing Inc    \n",
              "221678  2000        DK Publishing Inc    \n",
              "\n",
              "                                                           Publisher  \n",
              "209538  http://images.amazon.com/images/P/078946697X.01.THUMBZZZ.jpg  \n",
              "221678  http://images.amazon.com/images/P/0789466953.01.THUMBZZZ.jpg  "
            ],
            "text/html": [
              "\n",
              "  <div id=\"df-6c3985bf-4fdf-4aa5-9079-b9678d6e5849\">\n",
              "    <div class=\"colab-df-container\">\n",
              "      <div>\n",
              "<style scoped>\n",
              "    .dataframe tbody tr th:only-of-type {\n",
              "        vertical-align: middle;\n",
              "    }\n",
              "\n",
              "    .dataframe tbody tr th {\n",
              "        vertical-align: top;\n",
              "    }\n",
              "\n",
              "    .dataframe thead th {\n",
              "        text-align: right;\n",
              "    }\n",
              "</style>\n",
              "<table border=\"1\" class=\"dataframe\">\n",
              "  <thead>\n",
              "    <tr style=\"text-align: right;\">\n",
              "      <th></th>\n",
              "      <th>ISBN</th>\n",
              "      <th>Book-Title</th>\n",
              "      <th>Book-Author</th>\n",
              "      <th>Year-Of-Publication</th>\n",
              "      <th>Publisher</th>\n",
              "    </tr>\n",
              "  </thead>\n",
              "  <tbody>\n",
              "    <tr>\n",
              "      <th>209538</th>\n",
              "      <td>078946697X</td>\n",
              "      <td>DK Readers: Creating the X-Men, How It All Began (Level 4: Proficient Readers)\\\";Michael Teitelbaum\"</td>\n",
              "      <td>2000</td>\n",
              "      <td>DK Publishing Inc</td>\n",
              "      <td>http://images.amazon.com/images/P/078946697X.01.THUMBZZZ.jpg</td>\n",
              "    </tr>\n",
              "    <tr>\n",
              "      <th>221678</th>\n",
              "      <td>0789466953</td>\n",
              "      <td>DK Readers: Creating the X-Men, How Comic Books Come to Life (Level 4: Proficient Readers)\\\";James Buckley\"</td>\n",
              "      <td>2000</td>\n",
              "      <td>DK Publishing Inc</td>\n",
              "      <td>http://images.amazon.com/images/P/0789466953.01.THUMBZZZ.jpg</td>\n",
              "    </tr>\n",
              "  </tbody>\n",
              "</table>\n",
              "</div>\n",
              "      <button class=\"colab-df-convert\" onclick=\"convertToInteractive('df-6c3985bf-4fdf-4aa5-9079-b9678d6e5849')\"\n",
              "              title=\"Convert this dataframe to an interactive table.\"\n",
              "              style=\"display:none;\">\n",
              "        \n",
              "  <svg xmlns=\"http://www.w3.org/2000/svg\" height=\"24px\"viewBox=\"0 0 24 24\"\n",
              "       width=\"24px\">\n",
              "    <path d=\"M0 0h24v24H0V0z\" fill=\"none\"/>\n",
              "    <path d=\"M18.56 5.44l.94 2.06.94-2.06 2.06-.94-2.06-.94-.94-2.06-.94 2.06-2.06.94zm-11 1L8.5 8.5l.94-2.06 2.06-.94-2.06-.94L8.5 2.5l-.94 2.06-2.06.94zm10 10l.94 2.06.94-2.06 2.06-.94-2.06-.94-.94-2.06-.94 2.06-2.06.94z\"/><path d=\"M17.41 7.96l-1.37-1.37c-.4-.4-.92-.59-1.43-.59-.52 0-1.04.2-1.43.59L10.3 9.45l-7.72 7.72c-.78.78-.78 2.05 0 2.83L4 21.41c.39.39.9.59 1.41.59.51 0 1.02-.2 1.41-.59l7.78-7.78 2.81-2.81c.8-.78.8-2.07 0-2.86zM5.41 20L4 18.59l7.72-7.72 1.47 1.35L5.41 20z\"/>\n",
              "  </svg>\n",
              "      </button>\n",
              "      \n",
              "  <style>\n",
              "    .colab-df-container {\n",
              "      display:flex;\n",
              "      flex-wrap:wrap;\n",
              "      gap: 12px;\n",
              "    }\n",
              "\n",
              "    .colab-df-convert {\n",
              "      background-color: #E8F0FE;\n",
              "      border: none;\n",
              "      border-radius: 50%;\n",
              "      cursor: pointer;\n",
              "      display: none;\n",
              "      fill: #1967D2;\n",
              "      height: 32px;\n",
              "      padding: 0 0 0 0;\n",
              "      width: 32px;\n",
              "    }\n",
              "\n",
              "    .colab-df-convert:hover {\n",
              "      background-color: #E2EBFA;\n",
              "      box-shadow: 0px 1px 2px rgba(60, 64, 67, 0.3), 0px 1px 3px 1px rgba(60, 64, 67, 0.15);\n",
              "      fill: #174EA6;\n",
              "    }\n",
              "\n",
              "    [theme=dark] .colab-df-convert {\n",
              "      background-color: #3B4455;\n",
              "      fill: #D2E3FC;\n",
              "    }\n",
              "\n",
              "    [theme=dark] .colab-df-convert:hover {\n",
              "      background-color: #434B5C;\n",
              "      box-shadow: 0px 1px 3px 1px rgba(0, 0, 0, 0.15);\n",
              "      filter: drop-shadow(0px 1px 2px rgba(0, 0, 0, 0.3));\n",
              "      fill: #FFFFFF;\n",
              "    }\n",
              "  </style>\n",
              "\n",
              "      <script>\n",
              "        const buttonEl =\n",
              "          document.querySelector('#df-6c3985bf-4fdf-4aa5-9079-b9678d6e5849 button.colab-df-convert');\n",
              "        buttonEl.style.display =\n",
              "          google.colab.kernel.accessAllowed ? 'block' : 'none';\n",
              "\n",
              "        async function convertToInteractive(key) {\n",
              "          const element = document.querySelector('#df-6c3985bf-4fdf-4aa5-9079-b9678d6e5849');\n",
              "          const dataTable =\n",
              "            await google.colab.kernel.invokeFunction('convertToInteractive',\n",
              "                                                     [key], {});\n",
              "          if (!dataTable) return;\n",
              "\n",
              "          const docLinkHtml = 'Like what you see? Visit the ' +\n",
              "            '<a target=\"_blank\" href=https://colab.research.google.com/notebooks/data_table.ipynb>data table notebook</a>'\n",
              "            + ' to learn more about interactive tables.';\n",
              "          element.innerHTML = '';\n",
              "          dataTable['output_type'] = 'display_data';\n",
              "          await google.colab.output.renderOutput(dataTable, element);\n",
              "          const docLink = document.createElement('div');\n",
              "          docLink.innerHTML = docLinkHtml;\n",
              "          element.appendChild(docLink);\n",
              "        }\n",
              "      </script>\n",
              "    </div>\n",
              "  </div>\n",
              "  "
            ]
          },
          "metadata": {},
          "execution_count": 18
        }
      ],
      "source": [
        "books_df[books_df[\"Year-Of-Publication\"]=='DK Publishing Inc']\n",
        ""
      ]
    },
    {
      "cell_type": "markdown",
      "metadata": {
        "id": "Uie6l1RvchK6"
      },
      "source": [
        "We can see that for these three rows, the values have been interchanged mistakenly. So we will correct this mistake\n"
      ]
    },
    {
      "cell_type": "code",
      "execution_count": null,
      "metadata": {
        "id": "xV7YRhQZcjmW"
      },
      "outputs": [],
      "source": [
        "#Interchanging the values\n",
        "books_df.at[209538 ,'Book-Title'] = 'DK Readers: Creating the X-Men, How It All Began (Level 4: Proficient Readers)'\n",
        "books_df.at[209538 ,'Book-Author'] = 'Michael Teitelbaum'\n",
        "books_df.at[209538 ,'Publisher'] = 'DK Publishing Inc'\n",
        "books_df.at[209538 ,'Year-Of-Publication'] = '2000'\n",
        "\n",
        "books_df.at[221678 ,'Book-Title'] = 'DK Readers: Creating the X-Men, How Comic Books Come to Life (Level 4: Proficient Readers)'\n",
        "books_df.at[221678 ,'Book-Author'] = 'James Buckley'\n",
        "books_df.at[221678 ,'Publisher'] = 'DK Publishing Inc'\n",
        "books_df.at[221678 ,'Year-Of-Publication'] = '2000'\n",
        "\n",
        "books_df.at[220731 ,'Book-Title'] = 'Peuple du ciel - Suivi de Les bergers '\n",
        "books_df.at[220731 ,'Book-Author'] = 'Jean-Marie Gustave Le ClÃ?Â©zio'\n",
        "books_df.at[220731 ,'Publisher'] = 'Gallimard'\n",
        "books_df.at[220731 ,'Year-Of-Publication'] = '2003'"
      ]
    },
    {
      "cell_type": "code",
      "execution_count": null,
      "metadata": {
        "id": "uX0vKL4vcxis"
      },
      "outputs": [],
      "source": [
        "#Converting year into int\n",
        "books_df['Year-Of-Publication'] = books_df['Year-Of-Publication'].astype(int)\n",
        "\n"
      ]
    },
    {
      "cell_type": "code",
      "execution_count": null,
      "metadata": {
        "colab": {
          "base_uri": "https://localhost:8080/"
        },
        "id": "z3s0DqWwc0zx",
        "outputId": "dd4403f0-18d2-4438-b6a2-c38ce35d4525"
      },
      "outputs": [
        {
          "output_type": "stream",
          "name": "stdout",
          "text": [
            "<class 'pandas.core.frame.DataFrame'>\n",
            "RangeIndex: 271360 entries, 0 to 271359\n",
            "Data columns (total 5 columns):\n",
            " #   Column               Non-Null Count   Dtype \n",
            "---  ------               --------------   ----- \n",
            " 0   ISBN                 271360 non-null  object\n",
            " 1   Book-Title           271360 non-null  object\n",
            " 2   Book-Author          271360 non-null  object\n",
            " 3   Year-Of-Publication  271360 non-null  int64 \n",
            " 4   Publisher            271360 non-null  object\n",
            "dtypes: int64(1), object(4)\n",
            "memory usage: 10.4+ MB\n"
          ]
        }
      ],
      "source": [
        "#Checking info\n",
        "books_df.info()\n",
        ""
      ]
    },
    {
      "cell_type": "code",
      "execution_count": null,
      "metadata": {
        "colab": {
          "base_uri": "https://localhost:8080/"
        },
        "id": "VGNf8whkc7OU",
        "outputId": "cb8f83fa-6b3d-4476-ffab-b242af727753"
      },
      "outputs": [
        {
          "output_type": "stream",
          "name": "stdout",
          "text": [
            "[0, 1376, 1378, 1806, 1897, 1900, 1901, 1902, 1904, 1906, 1908, 1909, 1910, 1911, 1914, 1917, 1919, 1920, 1921, 1922, 1923, 1924, 1925, 1926, 1927, 1928, 1929, 1930, 1931, 1932, 1933, 1934, 1935, 1936, 1937, 1938, 1939, 1940, 1941, 1942, 1943, 1944, 1945, 1946, 1947, 1948, 1949, 1950, 1951, 1952, 1953, 1954, 1955, 1956, 1957, 1958, 1959, 1960, 1961, 1962, 1963, 1964, 1965, 1966, 1967, 1968, 1969, 1970, 1971, 1972, 1973, 1974, 1975, 1976, 1977, 1978, 1979, 1980, 1981, 1982, 1983, 1984, 1985, 1986, 1987, 1988, 1989, 1990, 1991, 1992, 1993, 1994, 1995, 1996, 1997, 1998, 1999, 2000, 2001, 2002, 2003, 2004, 2005, 2006, 2008, 2010, 2011, 2012, 2020, 2021, 2024, 2026, 2030, 2037, 2038, 2050]\n"
          ]
        }
      ],
      "source": [
        "#Getting the years in ascending order\n",
        "print(sorted(list(books_df['Year-Of-Publication'].unique())))"
      ]
    },
    {
      "cell_type": "markdown",
      "metadata": {
        "id": "-sJUBSpmdCu1"
      },
      "source": [
        "In the column Year of Publication there are invalid values such as 0 and greater than the present year. We will replace such values by mode.\n",
        "\n"
      ]
    },
    {
      "cell_type": "code",
      "execution_count": null,
      "metadata": {
        "colab": {
          "base_uri": "https://localhost:8080/"
        },
        "id": "FvG_PmEjdESH",
        "outputId": "448df6e5-df7b-41a4-9ebc-c78fabff3606"
      },
      "outputs": [
        {
          "output_type": "stream",
          "name": "stdout",
          "text": [
            "The mode of year of publication is: 2002\n",
            "[1376, 1378, 1806, 1897, 1900, 1901, 1902, 1904, 1906, 1908, 1909, 1910, 1911, 1914, 1917, 1919, 1920, 1921, 1922, 1923, 1924, 1925, 1926, 1927, 1928, 1929, 1930, 1931, 1932, 1933, 1934, 1935, 1936, 1937, 1938, 1939, 1940, 1941, 1942, 1943, 1944, 1945, 1946, 1947, 1948, 1949, 1950, 1951, 1952, 1953, 1954, 1955, 1956, 1957, 1958, 1959, 1960, 1961, 1962, 1963, 1964, 1965, 1966, 1967, 1968, 1969, 1970, 1971, 1972, 1973, 1974, 1975, 1976, 1977, 1978, 1979, 1980, 1981, 1982, 1983, 1984, 1985, 1986, 1987, 1988, 1989, 1990, 1991, 1992, 1993, 1994, 1995, 1996, 1997, 1998, 1999, 2000, 2001, 2002, 2003, 2004, 2005, 2006, 2008, 2010, 2011, 2012, 2020, 2021]\n"
          ]
        }
      ],
      "source": [
        "#Imputing invalid values by mode\n",
        "print(\"The mode of year of publication is:\",books_df['Year-Of-Publication'].mode()[0])\n",
        "books_df[books_df['Year-Of-Publication'] > 2021] = books_df['Year-Of-Publication'].mode()[0]\n",
        "books_df[books_df['Year-Of-Publication'] == 0] = books_df['Year-Of-Publication'].mode()[0]\n",
        "#Checking for unique years after replacement\n",
        "print(sorted(list(books_df['Year-Of-Publication'].unique())))\n",
        ""
      ]
    },
    {
      "cell_type": "code",
      "execution_count": null,
      "metadata": {
        "id": "A-vpFVZ9dRJE"
      },
      "outputs": [],
      "source": [
        "# Uppercasing all alphabets in ISBN\n",
        "books_df['ISBN'] = books_df['ISBN'].str.upper()\n"
      ]
    },
    {
      "cell_type": "code",
      "execution_count": null,
      "metadata": {
        "colab": {
          "base_uri": "https://localhost:8080/"
        },
        "id": "Z6QyG_rLdUX0",
        "outputId": "e1f25904-df96-4220-e1c0-a944e51a2457"
      },
      "outputs": [
        {
          "output_type": "stream",
          "name": "stdout",
          "text": [
            "Number of duplicates is: 4936\n"
          ]
        }
      ],
      "source": [
        "#checking for duplicates\n",
        "print(\"Number of duplicates is:\",len(books_df[books_df.duplicated()]))"
      ]
    },
    {
      "cell_type": "code",
      "execution_count": null,
      "metadata": {
        "id": "ZaA0_KyVdcId"
      },
      "outputs": [],
      "source": [
        "# Drop duplicate rows\n",
        "books_df.drop_duplicates(keep='last', inplace=True)\n",
        "books_df.reset_index(drop=True, inplace=True)\n",
        ""
      ]
    },
    {
      "cell_type": "code",
      "execution_count": null,
      "metadata": {
        "colab": {
          "base_uri": "https://localhost:8080/"
        },
        "id": "zNqn6kF2dfXc",
        "outputId": "30209681-cbf6-4881-a594-67eeb75396c8"
      },
      "outputs": [
        {
          "output_type": "stream",
          "name": "stdout",
          "text": [
            "The shape of users_df is (266424, 5)\n"
          ]
        }
      ],
      "source": [
        "#Checking for the shape\n",
        "print(\"The shape of users_df is\",books_df.shape)\n",
        ""
      ]
    },
    {
      "cell_type": "markdown",
      "metadata": {
        "id": "jHViTX2wdkAx"
      },
      "source": [
        "Users"
      ]
    },
    {
      "cell_type": "code",
      "execution_count": null,
      "metadata": {
        "colab": {
          "base_uri": "https://localhost:8080/",
          "height": 206
        },
        "id": "C3-SmbTNdlt6",
        "outputId": "6b24f602-5dc9-4299-8ffd-7a499efb5619"
      },
      "outputs": [
        {
          "output_type": "execute_result",
          "data": {
            "text/plain": [
              "   User-ID                            Location   Age\n",
              "0  1        nyc, new york, usa                 NaN  \n",
              "1  2        stockton, california, usa           18.0\n",
              "2  3        moscow, yukon territory, russia    NaN  \n",
              "3  4        porto, v.n.gaia, portugal           17.0\n",
              "4  5        farnborough, hants, united kingdom NaN  "
            ],
            "text/html": [
              "\n",
              "  <div id=\"df-4d0ca1c8-56e1-481b-b4f4-130a298007eb\">\n",
              "    <div class=\"colab-df-container\">\n",
              "      <div>\n",
              "<style scoped>\n",
              "    .dataframe tbody tr th:only-of-type {\n",
              "        vertical-align: middle;\n",
              "    }\n",
              "\n",
              "    .dataframe tbody tr th {\n",
              "        vertical-align: top;\n",
              "    }\n",
              "\n",
              "    .dataframe thead th {\n",
              "        text-align: right;\n",
              "    }\n",
              "</style>\n",
              "<table border=\"1\" class=\"dataframe\">\n",
              "  <thead>\n",
              "    <tr style=\"text-align: right;\">\n",
              "      <th></th>\n",
              "      <th>User-ID</th>\n",
              "      <th>Location</th>\n",
              "      <th>Age</th>\n",
              "    </tr>\n",
              "  </thead>\n",
              "  <tbody>\n",
              "    <tr>\n",
              "      <th>0</th>\n",
              "      <td>1</td>\n",
              "      <td>nyc, new york, usa</td>\n",
              "      <td>NaN</td>\n",
              "    </tr>\n",
              "    <tr>\n",
              "      <th>1</th>\n",
              "      <td>2</td>\n",
              "      <td>stockton, california, usa</td>\n",
              "      <td>18.0</td>\n",
              "    </tr>\n",
              "    <tr>\n",
              "      <th>2</th>\n",
              "      <td>3</td>\n",
              "      <td>moscow, yukon territory, russia</td>\n",
              "      <td>NaN</td>\n",
              "    </tr>\n",
              "    <tr>\n",
              "      <th>3</th>\n",
              "      <td>4</td>\n",
              "      <td>porto, v.n.gaia, portugal</td>\n",
              "      <td>17.0</td>\n",
              "    </tr>\n",
              "    <tr>\n",
              "      <th>4</th>\n",
              "      <td>5</td>\n",
              "      <td>farnborough, hants, united kingdom</td>\n",
              "      <td>NaN</td>\n",
              "    </tr>\n",
              "  </tbody>\n",
              "</table>\n",
              "</div>\n",
              "      <button class=\"colab-df-convert\" onclick=\"convertToInteractive('df-4d0ca1c8-56e1-481b-b4f4-130a298007eb')\"\n",
              "              title=\"Convert this dataframe to an interactive table.\"\n",
              "              style=\"display:none;\">\n",
              "        \n",
              "  <svg xmlns=\"http://www.w3.org/2000/svg\" height=\"24px\"viewBox=\"0 0 24 24\"\n",
              "       width=\"24px\">\n",
              "    <path d=\"M0 0h24v24H0V0z\" fill=\"none\"/>\n",
              "    <path d=\"M18.56 5.44l.94 2.06.94-2.06 2.06-.94-2.06-.94-.94-2.06-.94 2.06-2.06.94zm-11 1L8.5 8.5l.94-2.06 2.06-.94-2.06-.94L8.5 2.5l-.94 2.06-2.06.94zm10 10l.94 2.06.94-2.06 2.06-.94-2.06-.94-.94-2.06-.94 2.06-2.06.94z\"/><path d=\"M17.41 7.96l-1.37-1.37c-.4-.4-.92-.59-1.43-.59-.52 0-1.04.2-1.43.59L10.3 9.45l-7.72 7.72c-.78.78-.78 2.05 0 2.83L4 21.41c.39.39.9.59 1.41.59.51 0 1.02-.2 1.41-.59l7.78-7.78 2.81-2.81c.8-.78.8-2.07 0-2.86zM5.41 20L4 18.59l7.72-7.72 1.47 1.35L5.41 20z\"/>\n",
              "  </svg>\n",
              "      </button>\n",
              "      \n",
              "  <style>\n",
              "    .colab-df-container {\n",
              "      display:flex;\n",
              "      flex-wrap:wrap;\n",
              "      gap: 12px;\n",
              "    }\n",
              "\n",
              "    .colab-df-convert {\n",
              "      background-color: #E8F0FE;\n",
              "      border: none;\n",
              "      border-radius: 50%;\n",
              "      cursor: pointer;\n",
              "      display: none;\n",
              "      fill: #1967D2;\n",
              "      height: 32px;\n",
              "      padding: 0 0 0 0;\n",
              "      width: 32px;\n",
              "    }\n",
              "\n",
              "    .colab-df-convert:hover {\n",
              "      background-color: #E2EBFA;\n",
              "      box-shadow: 0px 1px 2px rgba(60, 64, 67, 0.3), 0px 1px 3px 1px rgba(60, 64, 67, 0.15);\n",
              "      fill: #174EA6;\n",
              "    }\n",
              "\n",
              "    [theme=dark] .colab-df-convert {\n",
              "      background-color: #3B4455;\n",
              "      fill: #D2E3FC;\n",
              "    }\n",
              "\n",
              "    [theme=dark] .colab-df-convert:hover {\n",
              "      background-color: #434B5C;\n",
              "      box-shadow: 0px 1px 3px 1px rgba(0, 0, 0, 0.15);\n",
              "      filter: drop-shadow(0px 1px 2px rgba(0, 0, 0, 0.3));\n",
              "      fill: #FFFFFF;\n",
              "    }\n",
              "  </style>\n",
              "\n",
              "      <script>\n",
              "        const buttonEl =\n",
              "          document.querySelector('#df-4d0ca1c8-56e1-481b-b4f4-130a298007eb button.colab-df-convert');\n",
              "        buttonEl.style.display =\n",
              "          google.colab.kernel.accessAllowed ? 'block' : 'none';\n",
              "\n",
              "        async function convertToInteractive(key) {\n",
              "          const element = document.querySelector('#df-4d0ca1c8-56e1-481b-b4f4-130a298007eb');\n",
              "          const dataTable =\n",
              "            await google.colab.kernel.invokeFunction('convertToInteractive',\n",
              "                                                     [key], {});\n",
              "          if (!dataTable) return;\n",
              "\n",
              "          const docLinkHtml = 'Like what you see? Visit the ' +\n",
              "            '<a target=\"_blank\" href=https://colab.research.google.com/notebooks/data_table.ipynb>data table notebook</a>'\n",
              "            + ' to learn more about interactive tables.';\n",
              "          element.innerHTML = '';\n",
              "          dataTable['output_type'] = 'display_data';\n",
              "          await google.colab.output.renderOutput(dataTable, element);\n",
              "          const docLink = document.createElement('div');\n",
              "          docLink.innerHTML = docLinkHtml;\n",
              "          element.appendChild(docLink);\n",
              "        }\n",
              "      </script>\n",
              "    </div>\n",
              "  </div>\n",
              "  "
            ]
          },
          "metadata": {},
          "execution_count": 28
        }
      ],
      "source": [
        "#first look\n",
        "users_df.head()\n",
        ""
      ]
    },
    {
      "cell_type": "code",
      "execution_count": null,
      "metadata": {
        "colab": {
          "base_uri": "https://localhost:8080/"
        },
        "id": "kgmrH6C5dtLr",
        "outputId": "3fbc4aa2-81e3-4a63-8bbb-3504aa59cbbb"
      },
      "outputs": [
        {
          "output_type": "stream",
          "name": "stdout",
          "text": [
            "<class 'pandas.core.frame.DataFrame'>\n",
            "RangeIndex: 278858 entries, 0 to 278857\n",
            "Data columns (total 3 columns):\n",
            " #   Column    Non-Null Count   Dtype  \n",
            "---  ------    --------------   -----  \n",
            " 0   User-ID   278858 non-null  int64  \n",
            " 1   Location  278858 non-null  object \n",
            " 2   Age       168096 non-null  float64\n",
            "dtypes: float64(1), int64(1), object(1)\n",
            "memory usage: 6.4+ MB\n"
          ]
        }
      ],
      "source": [
        "#checking basic info\n",
        "users_df.info()"
      ]
    },
    {
      "cell_type": "code",
      "execution_count": null,
      "metadata": {
        "colab": {
          "base_uri": "https://localhost:8080/"
        },
        "id": "VayrrpqddyBF",
        "outputId": "c9cbdcff-01d5-48fb-8a51-8b90fd623cd5"
      },
      "outputs": [
        {
          "output_type": "execute_result",
          "data": {
            "text/plain": [
              "User-ID     0     \n",
              "Location    0     \n",
              "Age         110762\n",
              "dtype: int64"
            ]
          },
          "metadata": {},
          "execution_count": 30
        }
      ],
      "source": [
        "# checking for null values\n",
        "users_df.isnull().sum()"
      ]
    },
    {
      "cell_type": "code",
      "execution_count": null,
      "metadata": {
        "colab": {
          "base_uri": "https://localhost:8080/",
          "height": 296
        },
        "id": "KTx939zhd3XG",
        "outputId": "533cc4fc-8248-430e-fe6a-84312eb2cc48"
      },
      "outputs": [
        {
          "output_type": "execute_result",
          "data": {
            "text/plain": [
              "<AxesSubplot:xlabel='Age'>"
            ]
          },
          "metadata": {},
          "execution_count": 31
        },
        {
          "output_type": "display_data",
          "data": {
            "text/plain": [
              "<Figure size 432x288 with 2 Axes>"
            ],
            "image/png": "[encoded data removed]"
          },
          "metadata": {
            "needs_background": "light"
          }
        }
      ],
      "source": [
        "plt.subplot(1, 2, 1)\n",
        "sns.distplot(users_df[\"Age\"])\n",
        "plt.subplot(1, 2, 2)\n",
        "sns.boxplot(users_df[\"Age\"])"
      ]
    },
    {
      "cell_type": "code",
      "execution_count": null,
      "metadata": {
        "colab": {
          "base_uri": "https://localhost:8080/"
        },
        "id": "RfKGAVmqeEJu",
        "outputId": "077f8b11-de59-4788-d423-d820b86f7320"
      },
      "outputs": [
        {
          "output_type": "stream",
          "name": "stdout",
          "text": [
            "[nan, 0.0, 1.0, 2.0, 3.0, 4.0, 5.0, 6.0, 7.0, 8.0, 9.0, 10.0, 11.0, 12.0, 13.0, 14.0, 15.0, 16.0, 17.0, 18.0, 19.0, 20.0, 21.0, 22.0, 23.0, 24.0, 25.0, 26.0, 27.0, 28.0, 29.0, 30.0, 31.0, 32.0, 33.0, 34.0, 35.0, 36.0, 37.0, 38.0, 39.0, 40.0, 41.0, 42.0, 43.0, 44.0, 45.0, 46.0, 47.0, 48.0, 49.0, 50.0, 51.0, 52.0, 53.0, 54.0, 55.0, 56.0, 57.0, 58.0, 59.0, 60.0, 61.0, 62.0, 63.0, 64.0, 65.0, 66.0, 67.0, 68.0, 69.0, 70.0, 71.0, 72.0, 73.0, 74.0, 75.0, 76.0, 77.0, 78.0, 79.0, 80.0, 81.0, 82.0, 83.0, 84.0, 85.0, 86.0, 87.0, 88.0, 89.0, 90.0, 91.0, 92.0, 93.0, 94.0, 95.0, 96.0, 97.0, 98.0, 99.0, 100.0, 101.0, 102.0, 103.0, 104.0, 105.0, 106.0, 107.0, 108.0, 109.0, 110.0, 111.0, 113.0, 114.0, 115.0, 116.0, 118.0, 119.0, 123.0, 124.0, 127.0, 128.0, 132.0, 133.0, 136.0, 137.0, 138.0, 140.0, 141.0, 143.0, 146.0, 147.0, 148.0, 151.0, 152.0, 156.0, 157.0, 159.0, 162.0, 168.0, 172.0, 175.0, 183.0, 186.0, 189.0, 199.0, 200.0, 201.0, 204.0, 207.0, 208.0, 209.0, 210.0, 212.0, 219.0, 220.0, 223.0, 226.0, 228.0, 229.0, 230.0, 231.0, 237.0, 239.0, 244.0]\n"
          ]
        }
      ],
      "source": [
        "# checking for unique values\n",
        "print(sorted(list(users_df['Age'].unique())))\n",
        ""
      ]
    },
    {
      "cell_type": "markdown",
      "metadata": {
        "id": "BSWSuhF7eMKl"
      },
      "source": [
        "There are so many invalid entries in this column. So we will replace those with median. Here we will fix the lower age limit as 10 and upper age limit as 90.\n"
      ]
    },
    {
      "cell_type": "code",
      "execution_count": null,
      "metadata": {
        "colab": {
          "base_uri": "https://localhost:8080/"
        },
        "id": "6DT1-sy9eNuF",
        "outputId": "19447e9b-dd83-4a82-c9a6-1a1a686e2881"
      },
      "outputs": [
        {
          "output_type": "stream",
          "name": "stdout",
          "text": [
            "[10, 11, 12, 13, 14, 15, 16, 17, 18, 19, 20, 21, 22, 23, 24, 25, 26, 27, 28, 29, 30, 31, 32, 33, 34, 35, 36, 37, 38, 39, 40, 41, 42, 43, 44, 45, 46, 47, 48, 49, 50, 51, 52, 53, 54, 55, 56, 57, 58, 59, 60, 61, 62, 63, 64, 65, 66, 67, 68, 69, 70, 71, 72, 73, 74, 75, 76, 77, 78, 79, 80, 81, 82, 83, 84, 85, 86, 87, 88, 89, 90]\n"
          ]
        }
      ],
      "source": [
        "# Imputing invalid entries with nan\n",
        "users_df.loc[(users_df.Age > 90) | (users_df.Age < 10), 'Age'] = np.nan\n",
        "#filling nan with median\n",
        "users_df.Age = users_df.Age.fillna(users_df.Age.median())\n",
        "#converting datatype to integer\n",
        "users_df.Age = users_df.Age.astype(np.int32)\n",
        "#checking unique age after replacement\n",
        "print(sorted(users_df.Age.unique()))"
      ]
    },
    {
      "cell_type": "code",
      "execution_count": null,
      "metadata": {
        "colab": {
          "base_uri": "https://localhost:8080/"
        },
        "id": "tPNxff2ieXxs",
        "outputId": "e126a1c0-05a8-47f9-e290-7a975599bb27"
      },
      "outputs": [
        {
          "output_type": "execute_result",
          "data": {
            "text/plain": [
              "0         nyc, new york, usa                \n",
              "1         stockton, california, usa         \n",
              "2         moscow, yukon territory, russia   \n",
              "3         porto, v.n.gaia, portugal         \n",
              "4         farnborough, hants, united kingdom\n",
              "                         ...                \n",
              "278853    portland, oregon, usa             \n",
              "278854    tacoma, washington, united kingdom\n",
              "278855    brampton, ontario, canada         \n",
              "278856    knoxville, tennessee, usa         \n",
              "278857    dublin, n/a, ireland              \n",
              "Name: Location, Length: 278858, dtype: object"
            ]
          },
          "metadata": {},
          "execution_count": 34
        }
      ],
      "source": [
        "\n",
        "#Examining Location\n",
        "users_df['Location']\n",
        ""
      ]
    },
    {
      "cell_type": "markdown",
      "metadata": {
        "id": "CcGLM4O_ecZN"
      },
      "source": [
        "Since the location is given in city,state,country format, we will now extract these from location.\n"
      ]
    },
    {
      "cell_type": "code",
      "execution_count": null,
      "metadata": {
        "id": "beN6owxnehFF"
      },
      "outputs": [],
      "source": [
        "#Creating a list for each location\n",
        "sep_list = users_df.Location.str.split(', ')\n",
        "#Creating empty lists to store city, state and country\n",
        "city = []\n",
        "state = []\n",
        "country = []\n",
        "\n",
        "for i in range(0,len(sep_list)):\n",
        "     #removing invalid entries\n",
        "    if sep_list[i][0] == ' ' or sep_list[i][0] == '' or sep_list[i][0]=='n/a' or sep_list[i][0] == ',':\n",
        "        city.append('other')\n",
        "    else:\n",
        "        city.append(sep_list[i][0].lower())\n",
        "\n",
        "    #if the sep_list contains only city\n",
        "    if(len(sep_list[i])<2):\n",
        "        state.append('other')\n",
        "        country.append('other')\n",
        "    else:\n",
        "        #removing invalid entries\n",
        "        if sep_list[i][1] == ' ' or sep_list[i][1] == '' or sep_list[i][1]=='n/a' or sep_list[i][1] == ',':\n",
        "            state.append('other')\n",
        "        else:\n",
        "            state.append(sep_list[i][1].lower())\n",
        "\n",
        "        #if the sep_list contains only city and country\n",
        "        if(len(sep_list[i])<3):\n",
        "            country.append('other')\n",
        "        else:\n",
        "            #removing invalid entries\n",
        "            if sep_list[i][2] == ''or sep_list[i][1] == ',' or sep_list[i][2] == ' ' or sep_list[i][2] == 'n/a':\n",
        "                country.append('other')\n",
        "            else:\n",
        "                country.append(sep_list[i][2].lower())\n",
        "\n",
        "\n",
        "#Removing location column\n",
        "users_df = users_df.drop('Location',axis=1)\n",
        "temp = []\n",
        "\n",
        "#handling cases in which entries are in the form city/state\n",
        "for ent in city:\n",
        "    c = ent.split('/')\n",
        "    temp.append(c[0])\n",
        "\n",
        "#creating dataframes for city, state and country\n",
        "df_city = pd.DataFrame(temp,columns=['City'])\n",
        "df_state = pd.DataFrame(state,columns=['State'])\n",
        "df_country = pd.DataFrame(country,columns=['Country'])\n",
        "\n",
        "#concatenating these dataframe with users_df\n",
        "users_df = pd.concat([users_df, df_city], axis=1)\n",
        "users_df = pd.concat([users_df, df_state], axis=1)\n",
        "users_df = pd.concat([users_df, df_country], axis=1)\n"
      ]
    },
    {
      "cell_type": "code",
      "execution_count": null,
      "metadata": {
        "colab": {
          "base_uri": "https://localhost:8080/",
          "height": 206
        },
        "id": "fL5XhKZAe7UU",
        "outputId": "68d10ae4-3c6e-475d-d033-c5851923cb76"
      },
      "outputs": [
        {
          "output_type": "execute_result",
          "data": {
            "text/plain": [
              "   User-ID  Age         City            State         Country\n",
              "0  1        32   nyc          new york         usa           \n",
              "1  2        18   stockton     california       usa           \n",
              "2  3        32   moscow       yukon territory  russia        \n",
              "3  4        17   porto        v.n.gaia         portugal      \n",
              "4  5        32   farnborough  hants            united kingdom"
            ],
            "text/html": [
              "\n",
              "  <div id=\"df-dfc9712b-53e7-4647-82a1-96aab49929c3\">\n",
              "    <div class=\"colab-df-container\">\n",
              "      <div>\n",
              "<style scoped>\n",
              "    .dataframe tbody tr th:only-of-type {\n",
              "        vertical-align: middle;\n",
              "    }\n",
              "\n",
              "    .dataframe tbody tr th {\n",
              "        vertical-align: top;\n",
              "    }\n",
              "\n",
              "    .dataframe thead th {\n",
              "        text-align: right;\n",
              "    }\n",
              "</style>\n",
              "<table border=\"1\" class=\"dataframe\">\n",
              "  <thead>\n",
              "    <tr style=\"text-align: right;\">\n",
              "      <th></th>\n",
              "      <th>User-ID</th>\n",
              "      <th>Age</th>\n",
              "      <th>City</th>\n",
              "      <th>State</th>\n",
              "      <th>Country</th>\n",
              "    </tr>\n",
              "  </thead>\n",
              "  <tbody>\n",
              "    <tr>\n",
              "      <th>0</th>\n",
              "      <td>1</td>\n",
              "      <td>32</td>\n",
              "      <td>nyc</td>\n",
              "      <td>new york</td>\n",
              "      <td>usa</td>\n",
              "    </tr>\n",
              "    <tr>\n",
              "      <th>1</th>\n",
              "      <td>2</td>\n",
              "      <td>18</td>\n",
              "      <td>stockton</td>\n",
              "      <td>california</td>\n",
              "      <td>usa</td>\n",
              "    </tr>\n",
              "    <tr>\n",
              "      <th>2</th>\n",
              "      <td>3</td>\n",
              "      <td>32</td>\n",
              "      <td>moscow</td>\n",
              "      <td>yukon territory</td>\n",
              "      <td>russia</td>\n",
              "    </tr>\n",
              "    <tr>\n",
              "      <th>3</th>\n",
              "      <td>4</td>\n",
              "      <td>17</td>\n",
              "      <td>porto</td>\n",
              "      <td>v.n.gaia</td>\n",
              "      <td>portugal</td>\n",
              "    </tr>\n",
              "    <tr>\n",
              "      <th>4</th>\n",
              "      <td>5</td>\n",
              "      <td>32</td>\n",
              "      <td>farnborough</td>\n",
              "      <td>hants</td>\n",
              "      <td>united kingdom</td>\n",
              "    </tr>\n",
              "  </tbody>\n",
              "</table>\n",
              "</div>\n",
              "      <button class=\"colab-df-convert\" onclick=\"convertToInteractive('df-dfc9712b-53e7-4647-82a1-96aab49929c3')\"\n",
              "              title=\"Convert this dataframe to an interactive table.\"\n",
              "              style=\"display:none;\">\n",
              "        \n",
              "  <svg xmlns=\"http://www.w3.org/2000/svg\" height=\"24px\"viewBox=\"0 0 24 24\"\n",
              "       width=\"24px\">\n",
              "    <path d=\"M0 0h24v24H0V0z\" fill=\"none\"/>\n",
              "    <path d=\"M18.56 5.44l.94 2.06.94-2.06 2.06-.94-2.06-.94-.94-2.06-.94 2.06-2.06.94zm-11 1L8.5 8.5l.94-2.06 2.06-.94-2.06-.94L8.5 2.5l-.94 2.06-2.06.94zm10 10l.94 2.06.94-2.06 2.06-.94-2.06-.94-.94-2.06-.94 2.06-2.06.94z\"/><path d=\"M17.41 7.96l-1.37-1.37c-.4-.4-.92-.59-1.43-.59-.52 0-1.04.2-1.43.59L10.3 9.45l-7.72 7.72c-.78.78-.78 2.05 0 2.83L4 21.41c.39.39.9.59 1.41.59.51 0 1.02-.2 1.41-.59l7.78-7.78 2.81-2.81c.8-.78.8-2.07 0-2.86zM5.41 20L4 18.59l7.72-7.72 1.47 1.35L5.41 20z\"/>\n",
              "  </svg>\n",
              "      </button>\n",
              "      \n",
              "  <style>\n",
              "    .colab-df-container {\n",
              "      display:flex;\n",
              "      flex-wrap:wrap;\n",
              "      gap: 12px;\n",
              "    }\n",
              "\n",
              "    .colab-df-convert {\n",
              "      background-color: #E8F0FE;\n",
              "      border: none;\n",
              "      border-radius: 50%;\n",
              "      cursor: pointer;\n",
              "      display: none;\n",
              "      fill: #1967D2;\n",
              "      height: 32px;\n",
              "      padding: 0 0 0 0;\n",
              "      width: 32px;\n",
              "    }\n",
              "\n",
              "    .colab-df-convert:hover {\n",
              "      background-color: #E2EBFA;\n",
              "      box-shadow: 0px 1px 2px rgba(60, 64, 67, 0.3), 0px 1px 3px 1px rgba(60, 64, 67, 0.15);\n",
              "      fill: #174EA6;\n",
              "    }\n",
              "\n",
              "    [theme=dark] .colab-df-convert {\n",
              "      background-color: #3B4455;\n",
              "      fill: #D2E3FC;\n",
              "    }\n",
              "\n",
              "    [theme=dark] .colab-df-convert:hover {\n",
              "      background-color: #434B5C;\n",
              "      box-shadow: 0px 1px 3px 1px rgba(0, 0, 0, 0.15);\n",
              "      filter: drop-shadow(0px 1px 2px rgba(0, 0, 0, 0.3));\n",
              "      fill: #FFFFFF;\n",
              "    }\n",
              "  </style>\n",
              "\n",
              "      <script>\n",
              "        const buttonEl =\n",
              "          document.querySelector('#df-dfc9712b-53e7-4647-82a1-96aab49929c3 button.colab-df-convert');\n",
              "        buttonEl.style.display =\n",
              "          google.colab.kernel.accessAllowed ? 'block' : 'none';\n",
              "\n",
              "        async function convertToInteractive(key) {\n",
              "          const element = document.querySelector('#df-dfc9712b-53e7-4647-82a1-96aab49929c3');\n",
              "          const dataTable =\n",
              "            await google.colab.kernel.invokeFunction('convertToInteractive',\n",
              "                                                     [key], {});\n",
              "          if (!dataTable) return;\n",
              "\n",
              "          const docLinkHtml = 'Like what you see? Visit the ' +\n",
              "            '<a target=\"_blank\" href=https://colab.research.google.com/notebooks/data_table.ipynb>data table notebook</a>'\n",
              "            + ' to learn more about interactive tables.';\n",
              "          element.innerHTML = '';\n",
              "          dataTable['output_type'] = 'display_data';\n",
              "          await google.colab.output.renderOutput(dataTable, element);\n",
              "          const docLink = document.createElement('div');\n",
              "          docLink.innerHTML = docLinkHtml;\n",
              "          element.appendChild(docLink);\n",
              "        }\n",
              "      </script>\n",
              "    </div>\n",
              "  </div>\n",
              "  "
            ]
          },
          "metadata": {},
          "execution_count": 36
        }
      ],
      "source": [
        "\n",
        "#new users_df\n",
        "users_df.head()"
      ]
    },
    {
      "cell_type": "code",
      "execution_count": null,
      "metadata": {
        "colab": {
          "base_uri": "https://localhost:8080/"
        },
        "id": "95lnpCBVe_mN",
        "outputId": "f51f56fb-7e71-46e9-fb8d-0d44189b4bfb"
      },
      "outputs": [
        {
          "output_type": "stream",
          "name": "stdout",
          "text": [
            "Number of duplicates is: 0\n"
          ]
        }
      ],
      "source": [
        "#checking for duplicates\n",
        "print(\"Number of duplicates is:\",len(users_df[users_df.duplicated()]))"
      ]
    },
    {
      "cell_type": "code",
      "execution_count": null,
      "metadata": {
        "colab": {
          "base_uri": "https://localhost:8080/"
        },
        "id": "2YSAYODZfC2U",
        "outputId": "48820230-1c41-4ed8-f547-57fd7327aefc"
      },
      "outputs": [
        {
          "output_type": "stream",
          "name": "stdout",
          "text": [
            "The shape of users_df is (278858, 5)\n"
          ]
        }
      ],
      "source": [
        "#checking shape\n",
        "print(\"The shape of users_df is\",users_df.shape)"
      ]
    },
    {
      "cell_type": "markdown",
      "metadata": {
        "id": "T_b1UVvQfOm2"
      },
      "source": [
        "Ratings"
      ]
    },
    {
      "cell_type": "code",
      "execution_count": null,
      "metadata": {
        "colab": {
          "base_uri": "https://localhost:8080/",
          "height": 206
        },
        "id": "JEwAn4GKfSgn",
        "outputId": "8867e775-1107-44a3-db88-0ef50c07c308"
      },
      "outputs": [
        {
          "output_type": "execute_result",
          "data": {
            "text/plain": [
              "   User-ID        ISBN  Book-Rating\n",
              "0  276725   034545104X  0          \n",
              "1  276726   0155061224  5          \n",
              "2  276727   0446520802  0          \n",
              "3  276729   052165615X  3          \n",
              "4  276729   0521795028  6          "
            ],
            "text/html": [
              "\n",
              "  <div id=\"df-6e84e1a8-8200-4113-a5a7-07b8333b7a75\">\n",
              "    <div class=\"colab-df-container\">\n",
              "      <div>\n",
              "<style scoped>\n",
              "    .dataframe tbody tr th:only-of-type {\n",
              "        vertical-align: middle;\n",
              "    }\n",
              "\n",
              "    .dataframe tbody tr th {\n",
              "        vertical-align: top;\n",
              "    }\n",
              "\n",
              "    .dataframe thead th {\n",
              "        text-align: right;\n",
              "    }\n",
              "</style>\n",
              "<table border=\"1\" class=\"dataframe\">\n",
              "  <thead>\n",
              "    <tr style=\"text-align: right;\">\n",
              "      <th></th>\n",
              "      <th>User-ID</th>\n",
              "      <th>ISBN</th>\n",
              "      <th>Book-Rating</th>\n",
              "    </tr>\n",
              "  </thead>\n",
              "  <tbody>\n",
              "    <tr>\n",
              "      <th>0</th>\n",
              "      <td>276725</td>\n",
              "      <td>034545104X</td>\n",
              "      <td>0</td>\n",
              "    </tr>\n",
              "    <tr>\n",
              "      <th>1</th>\n",
              "      <td>276726</td>\n",
              "      <td>0155061224</td>\n",
              "      <td>5</td>\n",
              "    </tr>\n",
              "    <tr>\n",
              "      <th>2</th>\n",
              "      <td>276727</td>\n",
              "      <td>0446520802</td>\n",
              "      <td>0</td>\n",
              "    </tr>\n",
              "    <tr>\n",
              "      <th>3</th>\n",
              "      <td>276729</td>\n",
              "      <td>052165615X</td>\n",
              "      <td>3</td>\n",
              "    </tr>\n",
              "    <tr>\n",
              "      <th>4</th>\n",
              "      <td>276729</td>\n",
              "      <td>0521795028</td>\n",
              "      <td>6</td>\n",
              "    </tr>\n",
              "  </tbody>\n",
              "</table>\n",
              "</div>\n",
              "      <button class=\"colab-df-convert\" onclick=\"convertToInteractive('df-6e84e1a8-8200-4113-a5a7-07b8333b7a75')\"\n",
              "              title=\"Convert this dataframe to an interactive table.\"\n",
              "              style=\"display:none;\">\n",
              "        \n",
              "  <svg xmlns=\"http://www.w3.org/2000/svg\" height=\"24px\"viewBox=\"0 0 24 24\"\n",
              "       width=\"24px\">\n",
              "    <path d=\"M0 0h24v24H0V0z\" fill=\"none\"/>\n",
              "    <path d=\"M18.56 5.44l.94 2.06.94-2.06 2.06-.94-2.06-.94-.94-2.06-.94 2.06-2.06.94zm-11 1L8.5 8.5l.94-2.06 2.06-.94-2.06-.94L8.5 2.5l-.94 2.06-2.06.94zm10 10l.94 2.06.94-2.06 2.06-.94-2.06-.94-.94-2.06-.94 2.06-2.06.94z\"/><path d=\"M17.41 7.96l-1.37-1.37c-.4-.4-.92-.59-1.43-.59-.52 0-1.04.2-1.43.59L10.3 9.45l-7.72 7.72c-.78.78-.78 2.05 0 2.83L4 21.41c.39.39.9.59 1.41.59.51 0 1.02-.2 1.41-.59l7.78-7.78 2.81-2.81c.8-.78.8-2.07 0-2.86zM5.41 20L4 18.59l7.72-7.72 1.47 1.35L5.41 20z\"/>\n",
              "  </svg>\n",
              "      </button>\n",
              "      \n",
              "  <style>\n",
              "    .colab-df-container {\n",
              "      display:flex;\n",
              "      flex-wrap:wrap;\n",
              "      gap: 12px;\n",
              "    }\n",
              "\n",
              "    .colab-df-convert {\n",
              "      background-color: #E8F0FE;\n",
              "      border: none;\n",
              "      border-radius: 50%;\n",
              "      cursor: pointer;\n",
              "      display: none;\n",
              "      fill: #1967D2;\n",
              "      height: 32px;\n",
              "      padding: 0 0 0 0;\n",
              "      width: 32px;\n",
              "    }\n",
              "\n",
              "    .colab-df-convert:hover {\n",
              "      background-color: #E2EBFA;\n",
              "      box-shadow: 0px 1px 2px rgba(60, 64, 67, 0.3), 0px 1px 3px 1px rgba(60, 64, 67, 0.15);\n",
              "      fill: #174EA6;\n",
              "    }\n",
              "\n",
              "    [theme=dark] .colab-df-convert {\n",
              "      background-color: #3B4455;\n",
              "      fill: #D2E3FC;\n",
              "    }\n",
              "\n",
              "    [theme=dark] .colab-df-convert:hover {\n",
              "      background-color: #434B5C;\n",
              "      box-shadow: 0px 1px 3px 1px rgba(0, 0, 0, 0.15);\n",
              "      filter: drop-shadow(0px 1px 2px rgba(0, 0, 0, 0.3));\n",
              "      fill: #FFFFFF;\n",
              "    }\n",
              "  </style>\n",
              "\n",
              "      <script>\n",
              "        const buttonEl =\n",
              "          document.querySelector('#df-6e84e1a8-8200-4113-a5a7-07b8333b7a75 button.colab-df-convert');\n",
              "        buttonEl.style.display =\n",
              "          google.colab.kernel.accessAllowed ? 'block' : 'none';\n",
              "\n",
              "        async function convertToInteractive(key) {\n",
              "          const element = document.querySelector('#df-6e84e1a8-8200-4113-a5a7-07b8333b7a75');\n",
              "          const dataTable =\n",
              "            await google.colab.kernel.invokeFunction('convertToInteractive',\n",
              "                                                     [key], {});\n",
              "          if (!dataTable) return;\n",
              "\n",
              "          const docLinkHtml = 'Like what you see? Visit the ' +\n",
              "            '<a target=\"_blank\" href=https://colab.research.google.com/notebooks/data_table.ipynb>data table notebook</a>'\n",
              "            + ' to learn more about interactive tables.';\n",
              "          element.innerHTML = '';\n",
              "          dataTable['output_type'] = 'display_data';\n",
              "          await google.colab.output.renderOutput(dataTable, element);\n",
              "          const docLink = document.createElement('div');\n",
              "          docLink.innerHTML = docLinkHtml;\n",
              "          element.appendChild(docLink);\n",
              "        }\n",
              "      </script>\n",
              "    </div>\n",
              "  </div>\n",
              "  "
            ]
          },
          "metadata": {},
          "execution_count": 39
        }
      ],
      "source": [
        "#basic info\n",
        "ratings_df.head()"
      ]
    },
    {
      "cell_type": "code",
      "execution_count": null,
      "metadata": {
        "colab": {
          "base_uri": "https://localhost:8080/"
        },
        "id": "nlovAtEHfY3l",
        "outputId": "e27930de-2383-4284-a8d9-514bccd69797"
      },
      "outputs": [
        {
          "output_type": "stream",
          "name": "stdout",
          "text": [
            "<class 'pandas.core.frame.DataFrame'>\n",
            "RangeIndex: 1149780 entries, 0 to 1149779\n",
            "Data columns (total 3 columns):\n",
            " #   Column       Non-Null Count    Dtype \n",
            "---  ------       --------------    ----- \n",
            " 0   User-ID      1149780 non-null  int64 \n",
            " 1   ISBN         1149780 non-null  object\n",
            " 2   Book-Rating  1149780 non-null  int64 \n",
            "dtypes: int64(2), object(1)\n",
            "memory usage: 26.3+ MB\n"
          ]
        }
      ],
      "source": [
        "#checking basic info\n",
        "ratings_df.info()\n",
        ""
      ]
    },
    {
      "cell_type": "markdown",
      "metadata": {
        "id": "2FXmKMzjfiDs"
      },
      "source": [
        "Since there are chances of presence of extra characters in ISBN in ratings dataset, we will remove these extra characters."
      ]
    },
    {
      "cell_type": "code",
      "execution_count": null,
      "metadata": {
        "id": "6uc8500wfjht"
      },
      "outputs": [],
      "source": [
        "bookISBN = books_df['ISBN'].tolist()\n",
        "#Storing any character other than any combination of letters and digits case insensitive\n",
        "reg = \"[^A-Za-z0-9]\"\n",
        "\n",
        "for index, row_Value in ratings_df.iterrows():\n",
        "  #Searching for special characters in ratings_df.ISBN\n",
        "    z = re.search(reg, row_Value['ISBN'])\n",
        "\n",
        "    if z:\n",
        "      #Deleting special characters\n",
        "        f = re.sub(reg,\"\",row_Value['ISBN'])\n",
        "\n",
        "        #Checking if the cleaned book id is in books_df or not\n",
        "        if f in bookISBN:\n",
        "          #If True we will replace the value with cleaned bookid.If false we will kepp it as itself.Because later while taking inner join it wont affect.\n",
        "            ratings_df.at[index , 'ISBN'] = f\n",
        "\n",
        "# Uppercasing all alphabets in ISBN\n",
        "ratings_df['ISBN'] = ratings_df['ISBN'].str.upper()"
      ]
    },
    {
      "cell_type": "code",
      "execution_count": null,
      "metadata": {
        "colab": {
          "base_uri": "https://localhost:8080/"
        },
        "id": "DGPynp9IgKs5",
        "outputId": "52b71db8-8647-4e8d-b760-9bcc79ac870b"
      },
      "outputs": [
        {
          "output_type": "stream",
          "name": "stdout",
          "text": [
            "Number of duplicates is: 4\n"
          ]
        }
      ],
      "source": [
        "#checking for duplicates\n",
        "print(\"Number of duplicates is:\",len(ratings_df[ratings_df.duplicated()]))\n",
        ""
      ]
    },
    {
      "cell_type": "code",
      "execution_count": null,
      "metadata": {
        "id": "PQNOflTkgQPa"
      },
      "outputs": [],
      "source": [
        "#Dropping duplicates\n",
        "ratings_df.drop_duplicates(keep='last', inplace=True)\n",
        "#Removing original index\n",
        "ratings_df.reset_index(drop = True, inplace = True)\n",
        ""
      ]
    },
    {
      "cell_type": "code",
      "execution_count": null,
      "metadata": {
        "colab": {
          "base_uri": "https://localhost:8080/"
        },
        "id": "bhWx4iVWgT5E",
        "outputId": "4bafb990-7b90-42df-b631-86bbedbe4df7"
      },
      "outputs": [
        {
          "output_type": "execute_result",
          "data": {
            "text/plain": [
              "(1149776, 3)"
            ]
          },
          "metadata": {},
          "execution_count": 44
        }
      ],
      "source": [
        "#checking shape\n",
        "ratings_df.shape\n",
        ""
      ]
    },
    {
      "cell_type": "markdown",
      "metadata": {
        "id": "916jUU5mgX99"
      },
      "source": [
        "Now we will combine these three pre-processed dataframes."
      ]
    },
    {
      "cell_type": "code",
      "execution_count": null,
      "metadata": {
        "colab": {
          "base_uri": "https://localhost:8080/"
        },
        "id": "95GKrYSDgZzt",
        "outputId": "bfabad63-83f2-4760-97aa-d5576d24b4b7"
      },
      "outputs": [
        {
          "output_type": "stream",
          "name": "stdout",
          "text": [
            "<class 'pandas.core.frame.DataFrame'>\n",
            "Int64Index: 1017530 entries, 0 to 1017529\n",
            "Data columns (total 11 columns):\n",
            " #   Column               Non-Null Count    Dtype \n",
            "---  ------               --------------    ----- \n",
            " 0   ISBN                 1017530 non-null  object\n",
            " 1   Book-Title           1017530 non-null  object\n",
            " 2   Book-Author          1017530 non-null  object\n",
            " 3   Year-Of-Publication  1017530 non-null  int64 \n",
            " 4   Publisher            1017530 non-null  object\n",
            " 5   User-ID              1017530 non-null  int64 \n",
            " 6   Book-Rating          1017530 non-null  int64 \n",
            " 7   Age                  1017530 non-null  int32 \n",
            " 8   City                 1017530 non-null  object\n",
            " 9   State                1017530 non-null  object\n",
            " 10  Country              1017530 non-null  object\n",
            "dtypes: int32(1), int64(3), object(7)\n",
            "memory usage: 89.3+ MB\n"
          ]
        }
      ],
      "source": [
        "#merging\n",
        "combined_df = pd.merge(books_df, ratings_df, on='ISBN', how='inner')\n",
        "combined_df = pd.merge(combined_df, users_df, on='User-ID', how='inner')\n",
        "#basic info\n",
        "combined_df.info()"
      ]
    },
    {
      "cell_type": "code",
      "execution_count": null,
      "metadata": {
        "colab": {
          "base_uri": "https://localhost:8080/"
        },
        "id": "M6-kz4qKgiiu",
        "outputId": "ea32a5b5-88f1-4f7e-c901-b9a7e0cad379"
      },
      "outputs": [
        {
          "output_type": "stream",
          "name": "stdout",
          "text": [
            "The shape of combined_df is (1017530, 11)\n"
          ]
        }
      ],
      "source": [
        "#checking shape\n",
        "print(\"The shape of combined_df is\",combined_df.shape)"
      ]
    },
    {
      "cell_type": "markdown",
      "metadata": {
        "id": "ELSzEMKwgmHo"
      },
      "source": [
        "EDA"
      ]
    },
    {
      "cell_type": "code",
      "execution_count": null,
      "metadata": {
        "id": "yQt_qEdLgoI0"
      },
      "outputs": [],
      "source": [
        "#creating copy\n",
        "df=combined_df.copy()\n",
        ""
      ]
    },
    {
      "cell_type": "code",
      "execution_count": null,
      "metadata": {
        "colab": {
          "base_uri": "https://localhost:8080/",
          "height": 337
        },
        "id": "0MFtvwaxgrxF",
        "outputId": "05b79915-2788-430a-eac7-ea02c3609a9a"
      },
      "outputs": [
        {
          "output_type": "execute_result",
          "data": {
            "text/plain": [
              "         ISBN  \\\n",
              "0  0195153448   \n",
              "1  0002005018   \n",
              "2  0060973129   \n",
              "3  0374157065   \n",
              "4  0393045218   \n",
              "\n",
              "                                                                                           Book-Title  \\\n",
              "0  Classical Mythology                                                                                  \n",
              "1  Clara Callan                                                                                         \n",
              "2  Decision in Normandy                                                                                 \n",
              "3  Flu: The Story of the Great Influenza Pandemic of 1918 and the Search for the Virus That Caused It   \n",
              "4  The Mummies of Urumchi                                                                               \n",
              "\n",
              "            Book-Author  Year-Of-Publication                   Publisher  \\\n",
              "0  Mark P. O. Morford    2002                 Oxford University Press      \n",
              "1  Richard Bruce Wright  2001                 HarperFlamingo Canada        \n",
              "2  Carlo D'Este          1991                 HarperPerennial              \n",
              "3  Gina Bari Kolata      1999                 Farrar Straus Giroux         \n",
              "4  E. J. W. Barber       1999                 W. W. Norton &amp; Company   \n",
              "\n",
              "   User-ID  Book-Rating  Age      City       State Country  \n",
              "0  2        0            18   stockton  california  usa     \n",
              "1  8        5            32   timmins   ontario     canada  \n",
              "2  8        0            32   timmins   ontario     canada  \n",
              "3  8        0            32   timmins   ontario     canada  \n",
              "4  8        0            32   timmins   ontario     canada  "
            ],
            "text/html": [
              "\n",
              "  <div id=\"df-dbb5ae05-84f1-46e8-982a-218e7b8751f2\">\n",
              "    <div class=\"colab-df-container\">\n",
              "      <div>\n",
              "<style scoped>\n",
              "    .dataframe tbody tr th:only-of-type {\n",
              "        vertical-align: middle;\n",
              "    }\n",
              "\n",
              "    .dataframe tbody tr th {\n",
              "        vertical-align: top;\n",
              "    }\n",
              "\n",
              "    .dataframe thead th {\n",
              "        text-align: right;\n",
              "    }\n",
              "</style>\n",
              "<table border=\"1\" class=\"dataframe\">\n",
              "  <thead>\n",
              "    <tr style=\"text-align: right;\">\n",
              "      <th></th>\n",
              "      <th>ISBN</th>\n",
              "      <th>Book-Title</th>\n",
              "      <th>Book-Author</th>\n",
              "      <th>Year-Of-Publication</th>\n",
              "      <th>Publisher</th>\n",
              "      <th>User-ID</th>\n",
              "      <th>Book-Rating</th>\n",
              "      <th>Age</th>\n",
              "      <th>City</th>\n",
              "      <th>State</th>\n",
              "      <th>Country</th>\n",
              "    </tr>\n",
              "  </thead>\n",
              "  <tbody>\n",
              "    <tr>\n",
              "      <th>0</th>\n",
              "      <td>0195153448</td>\n",
              "      <td>Classical Mythology</td>\n",
              "      <td>Mark P. O. Morford</td>\n",
              "      <td>2002</td>\n",
              "      <td>Oxford University Press</td>\n",
              "      <td>2</td>\n",
              "      <td>0</td>\n",
              "      <td>18</td>\n",
              "      <td>stockton</td>\n",
              "      <td>california</td>\n",
              "      <td>usa</td>\n",
              "    </tr>\n",
              "    <tr>\n",
              "      <th>1</th>\n",
              "      <td>0002005018</td>\n",
              "      <td>Clara Callan</td>\n",
              "      <td>Richard Bruce Wright</td>\n",
              "      <td>2001</td>\n",
              "      <td>HarperFlamingo Canada</td>\n",
              "      <td>8</td>\n",
              "      <td>5</td>\n",
              "      <td>32</td>\n",
              "      <td>timmins</td>\n",
              "      <td>ontario</td>\n",
              "      <td>canada</td>\n",
              "    </tr>\n",
              "    <tr>\n",
              "      <th>2</th>\n",
              "      <td>0060973129</td>\n",
              "      <td>Decision in Normandy</td>\n",
              "      <td>Carlo D'Este</td>\n",
              "      <td>1991</td>\n",
              "      <td>HarperPerennial</td>\n",
              "      <td>8</td>\n",
              "      <td>0</td>\n",
              "      <td>32</td>\n",
              "      <td>timmins</td>\n",
              "      <td>ontario</td>\n",
              "      <td>canada</td>\n",
              "    </tr>\n",
              "    <tr>\n",
              "      <th>3</th>\n",
              "      <td>0374157065</td>\n",
              "      <td>Flu: The Story of the Great Influenza Pandemic of 1918 and the Search for the Virus That Caused It</td>\n",
              "      <td>Gina Bari Kolata</td>\n",
              "      <td>1999</td>\n",
              "      <td>Farrar Straus Giroux</td>\n",
              "      <td>8</td>\n",
              "      <td>0</td>\n",
              "      <td>32</td>\n",
              "      <td>timmins</td>\n",
              "      <td>ontario</td>\n",
              "      <td>canada</td>\n",
              "    </tr>\n",
              "    <tr>\n",
              "      <th>4</th>\n",
              "      <td>0393045218</td>\n",
              "      <td>The Mummies of Urumchi</td>\n",
              "      <td>E. J. W. Barber</td>\n",
              "      <td>1999</td>\n",
              "      <td>W. W. Norton &amp;amp; Company</td>\n",
              "      <td>8</td>\n",
              "      <td>0</td>\n",
              "      <td>32</td>\n",
              "      <td>timmins</td>\n",
              "      <td>ontario</td>\n",
              "      <td>canada</td>\n",
              "    </tr>\n",
              "  </tbody>\n",
              "</table>\n",
              "</div>\n",
              "      <button class=\"colab-df-convert\" onclick=\"convertToInteractive('df-dbb5ae05-84f1-46e8-982a-218e7b8751f2')\"\n",
              "              title=\"Convert this dataframe to an interactive table.\"\n",
              "              style=\"display:none;\">\n",
              "        \n",
              "  <svg xmlns=\"http://www.w3.org/2000/svg\" height=\"24px\"viewBox=\"0 0 24 24\"\n",
              "       width=\"24px\">\n",
              "    <path d=\"M0 0h24v24H0V0z\" fill=\"none\"/>\n",
              "    <path d=\"M18.56 5.44l.94 2.06.94-2.06 2.06-.94-2.06-.94-.94-2.06-.94 2.06-2.06.94zm-11 1L8.5 8.5l.94-2.06 2.06-.94-2.06-.94L8.5 2.5l-.94 2.06-2.06.94zm10 10l.94 2.06.94-2.06 2.06-.94-2.06-.94-.94-2.06-.94 2.06-2.06.94z\"/><path d=\"M17.41 7.96l-1.37-1.37c-.4-.4-.92-.59-1.43-.59-.52 0-1.04.2-1.43.59L10.3 9.45l-7.72 7.72c-.78.78-.78 2.05 0 2.83L4 21.41c.39.39.9.59 1.41.59.51 0 1.02-.2 1.41-.59l7.78-7.78 2.81-2.81c.8-.78.8-2.07 0-2.86zM5.41 20L4 18.59l7.72-7.72 1.47 1.35L5.41 20z\"/>\n",
              "  </svg>\n",
              "      </button>\n",
              "      \n",
              "  <style>\n",
              "    .colab-df-container {\n",
              "      display:flex;\n",
              "      flex-wrap:wrap;\n",
              "      gap: 12px;\n",
              "    }\n",
              "\n",
              "    .colab-df-convert {\n",
              "      background-color: #E8F0FE;\n",
              "      border: none;\n",
              "      border-radius: 50%;\n",
              "      cursor: pointer;\n",
              "      display: none;\n",
              "      fill: #1967D2;\n",
              "      height: 32px;\n",
              "      padding: 0 0 0 0;\n",
              "      width: 32px;\n",
              "    }\n",
              "\n",
              "    .colab-df-convert:hover {\n",
              "      background-color: #E2EBFA;\n",
              "      box-shadow: 0px 1px 2px rgba(60, 64, 67, 0.3), 0px 1px 3px 1px rgba(60, 64, 67, 0.15);\n",
              "      fill: #174EA6;\n",
              "    }\n",
              "\n",
              "    [theme=dark] .colab-df-convert {\n",
              "      background-color: #3B4455;\n",
              "      fill: #D2E3FC;\n",
              "    }\n",
              "\n",
              "    [theme=dark] .colab-df-convert:hover {\n",
              "      background-color: #434B5C;\n",
              "      box-shadow: 0px 1px 3px 1px rgba(0, 0, 0, 0.15);\n",
              "      filter: drop-shadow(0px 1px 2px rgba(0, 0, 0, 0.3));\n",
              "      fill: #FFFFFF;\n",
              "    }\n",
              "  </style>\n",
              "\n",
              "      <script>\n",
              "        const buttonEl =\n",
              "          document.querySelector('#df-dbb5ae05-84f1-46e8-982a-218e7b8751f2 button.colab-df-convert');\n",
              "        buttonEl.style.display =\n",
              "          google.colab.kernel.accessAllowed ? 'block' : 'none';\n",
              "\n",
              "        async function convertToInteractive(key) {\n",
              "          const element = document.querySelector('#df-dbb5ae05-84f1-46e8-982a-218e7b8751f2');\n",
              "          const dataTable =\n",
              "            await google.colab.kernel.invokeFunction('convertToInteractive',\n",
              "                                                     [key], {});\n",
              "          if (!dataTable) return;\n",
              "\n",
              "          const docLinkHtml = 'Like what you see? Visit the ' +\n",
              "            '<a target=\"_blank\" href=https://colab.research.google.com/notebooks/data_table.ipynb>data table notebook</a>'\n",
              "            + ' to learn more about interactive tables.';\n",
              "          element.innerHTML = '';\n",
              "          dataTable['output_type'] = 'display_data';\n",
              "          await google.colab.output.renderOutput(dataTable, element);\n",
              "          const docLink = document.createElement('div');\n",
              "          docLink.innerHTML = docLinkHtml;\n",
              "          element.appendChild(docLink);\n",
              "        }\n",
              "      </script>\n",
              "    </div>\n",
              "  </div>\n",
              "  "
            ]
          },
          "metadata": {},
          "execution_count": 48
        }
      ],
      "source": [
        "#first look\n",
        "df.head()\n",
        ""
      ]
    },
    {
      "cell_type": "code",
      "execution_count": null,
      "metadata": {
        "colab": {
          "base_uri": "https://localhost:8080/"
        },
        "id": "KEGNDUJlgwWf",
        "outputId": "a4ab412c-fea0-4ed7-b66c-909317a8ffee"
      },
      "outputs": [
        {
          "output_type": "execute_result",
          "data": {
            "text/plain": [
              "array([ 0,  5,  6,  7,  9, 10,  8,  3,  1,  4,  2])"
            ]
          },
          "metadata": {},
          "execution_count": 49
        }
      ],
      "source": [
        "#unique values of Book-rating\n",
        "df['Book-Rating'].unique()\n",
        ""
      ]
    },
    {
      "cell_type": "markdown",
      "metadata": {
        "id": "Kee3QKiug0Bc"
      },
      "source": [
        "Since our dataset contains rating value of 0 and usually ratings are given on a scale of 1-10, we will remove 0 ratings."
      ]
    },
    {
      "cell_type": "code",
      "execution_count": null,
      "metadata": {
        "id": "6JPBSxNGg02g"
      },
      "outputs": [],
      "source": [
        "#Remove 0 ratings\n",
        "df=df[~(combined_df[\"Book-Rating\"]==0)]\n",
        ""
      ]
    },
    {
      "cell_type": "code",
      "execution_count": null,
      "metadata": {
        "colab": {
          "base_uri": "https://localhost:8080/"
        },
        "id": "JIPSbDwTg5Yl",
        "outputId": "dfa32968-9cdb-4633-bbc3-ae40fe87ecad"
      },
      "outputs": [
        {
          "output_type": "execute_result",
          "data": {
            "text/plain": [
              "8     90426\n",
              "10    70277\n",
              "7     65357\n",
              "9     59924\n",
              "5     44750\n",
              "6     31194\n",
              "4     7497 \n",
              "3     5037 \n",
              "2     2334 \n",
              "1     1461 \n",
              "Name: Book-Rating, dtype: int64"
            ]
          },
          "metadata": {},
          "execution_count": 51
        }
      ],
      "source": [
        "df['Book-Rating'].value_counts()\n",
        ""
      ]
    },
    {
      "cell_type": "code",
      "execution_count": null,
      "metadata": {
        "colab": {
          "base_uri": "https://localhost:8080/"
        },
        "id": "Pshs1AKCg-tF",
        "outputId": "46b292ad-05a8-4bf7-ecd2-80ee10ac0712"
      },
      "outputs": [
        {
          "output_type": "stream",
          "name": "stdout",
          "text": [
            "The shape of dataset after removing 0 ratings is (378257, 11)\n"
          ]
        }
      ],
      "source": [
        "#checking shape\n",
        "print(\"The shape of dataset after removing 0 ratings is\",df.shape)"
      ]
    },
    {
      "cell_type": "code",
      "execution_count": null,
      "metadata": {
        "colab": {
          "base_uri": "https://localhost:8080/"
        },
        "id": "qA_aTp-whBV0",
        "outputId": "867cdb9f-809e-4863-9545-2c90c38873ad"
      },
      "outputs": [
        {
          "output_type": "stream",
          "name": "stdout",
          "text": [
            "<class 'pandas.core.frame.DataFrame'>\n",
            "Int64Index: 378257 entries, 1 to 1017528\n",
            "Data columns (total 11 columns):\n",
            " #   Column               Non-Null Count   Dtype \n",
            "---  ------               --------------   ----- \n",
            " 0   ISBN                 378257 non-null  object\n",
            " 1   Book-Title           378257 non-null  object\n",
            " 2   Book-Author          378257 non-null  object\n",
            " 3   Year-Of-Publication  378257 non-null  int64 \n",
            " 4   Publisher            378257 non-null  object\n",
            " 5   User-ID              378257 non-null  int64 \n",
            " 6   Book-Rating          378257 non-null  int64 \n",
            " 7   Age                  378257 non-null  int32 \n",
            " 8   City                 378257 non-null  object\n",
            " 9   State                378257 non-null  object\n",
            " 10  Country              378257 non-null  object\n",
            "dtypes: int32(1), int64(3), object(7)\n",
            "memory usage: 33.2+ MB\n"
          ]
        }
      ],
      "source": [
        "df.info()"
      ]
    },
    {
      "cell_type": "markdown",
      "metadata": {
        "id": "ayNEQUU2hG3M"
      },
      "source": [
        "Now let's try to get some insights regarding the data."
      ]
    },
    {
      "cell_type": "markdown",
      "metadata": {
        "id": "qFEIyv07hItZ"
      },
      "source": [
        "1. **Most Rated Books**"
      ]
    },
    {
      "cell_type": "code",
      "execution_count": null,
      "metadata": {
        "colab": {
          "base_uri": "https://localhost:8080/",
          "height": 458
        },
        "id": "SD5R0nDMhRH3",
        "outputId": "f6f84d9e-678e-4919-f23d-f664064da395"
      },
      "outputs": [
        {
          "output_type": "display_data",
          "data": {
            "text/plain": [
              "<Figure size 720x504 with 1 Axes>"
            ],
            "image/png": "[encoded data removed]"
          },
          "metadata": {
            "needs_background": "light"
          }
        }
      ],
      "source": [
        "# Most Rated Books\n",
        "most_rated = df['Book-Title'].value_counts().reset_index()\n",
        "most_rated.columns = ['Book-Title','count']\n",
        "\n",
        "plt.figure(figsize = (10,7))\n",
        "plt.title(\"Most Rated Books\")\n",
        "sns.barplot(x = 'count', y = 'Book-Title', data = most_rated.head(20))\n",
        "plt.show()"
      ]
    },
    {
      "cell_type": "markdown",
      "metadata": {
        "id": "pSEfY8HFhX5c"
      },
      "source": [
        "Findings:\n"
      ]
    },
    {
      "cell_type": "markdown",
      "metadata": {
        "id": "ik4PBItPhf6l"
      },
      "source": [
        "'The Lovely Bones:A Novel' is the book with the highest number of ratings.\n",
        "\n",
        "It is followed by 'Wild Animus' and 'The Da Vinci Code'"
      ]
    },
    {
      "cell_type": "markdown",
      "metadata": {
        "id": "IQwehYzJhleW"
      },
      "source": [
        "2. Top Book-Authors"
      ]
    },
    {
      "cell_type": "code",
      "execution_count": null,
      "metadata": {
        "colab": {
          "base_uri": "https://localhost:8080/",
          "height": 474
        },
        "id": "idkchIZhho3N",
        "outputId": "73f942e0-6708-440d-e36d-759789926e56"
      },
      "outputs": [
        {
          "output_type": "display_data",
          "data": {
            "text/plain": [
              "<Figure size 720x504 with 1 Axes>"
            ],
            "image/png": "[encoded data removed]"
          },
          "metadata": {
            "needs_background": "light"
          }
        }
      ],
      "source": [
        "# Top 15 book authors by number of interactions\n",
        "plt.figure(figsize=(10,7))\n",
        "sns.countplot(y=\"Book-Author\",order=df['Book-Author'].value_counts().index[0:15],data=df).tick_params(axis='x', rotation=90)\n",
        "plt.title(\" Top 15 Book Authors\")\n",
        "plt.show()"
      ]
    },
    {
      "cell_type": "markdown",
      "metadata": {
        "id": "DRmVE9Olh-kO"
      },
      "source": [
        "Analyzing the given data, one can conclude that Stephan King's books received the most number of ratings."
      ]
    },
    {
      "cell_type": "markdown",
      "metadata": {
        "id": "4E5h2BUQiADd"
      },
      "source": [
        "Authors with the highest number of books"
      ]
    },
    {
      "cell_type": "code",
      "execution_count": null,
      "metadata": {
        "colab": {
          "base_uri": "https://localhost:8080/",
          "height": 206
        },
        "id": "m15LWvvJiClF",
        "outputId": "69c9aec4-c723-4164-bd20-507933f9d3d3"
      },
      "outputs": [
        {
          "output_type": "execute_result",
          "data": {
            "text/plain": [
              "           Book-Author  Number of Books\n",
              "0  William Shakespeare  343            \n",
              "1  Agatha Christie      308            \n",
              "2  Stephen King         283            \n",
              "3  Barbara Cartland     279            \n",
              "4  Nora Roberts         211            "
            ],
            "text/html": [
              "\n",
              "  <div id=\"df-795459f5-66a9-4d2a-87e0-223a2c34b034\">\n",
              "    <div class=\"colab-df-container\">\n",
              "      <div>\n",
              "<style scoped>\n",
              "    .dataframe tbody tr th:only-of-type {\n",
              "        vertical-align: middle;\n",
              "    }\n",
              "\n",
              "    .dataframe tbody tr th {\n",
              "        vertical-align: top;\n",
              "    }\n",
              "\n",
              "    .dataframe thead th {\n",
              "        text-align: right;\n",
              "    }\n",
              "</style>\n",
              "<table border=\"1\" class=\"dataframe\">\n",
              "  <thead>\n",
              "    <tr style=\"text-align: right;\">\n",
              "      <th></th>\n",
              "      <th>Book-Author</th>\n",
              "      <th>Number of Books</th>\n",
              "    </tr>\n",
              "  </thead>\n",
              "  <tbody>\n",
              "    <tr>\n",
              "      <th>0</th>\n",
              "      <td>William Shakespeare</td>\n",
              "      <td>343</td>\n",
              "    </tr>\n",
              "    <tr>\n",
              "      <th>1</th>\n",
              "      <td>Agatha Christie</td>\n",
              "      <td>308</td>\n",
              "    </tr>\n",
              "    <tr>\n",
              "      <th>2</th>\n",
              "      <td>Stephen King</td>\n",
              "      <td>283</td>\n",
              "    </tr>\n",
              "    <tr>\n",
              "      <th>3</th>\n",
              "      <td>Barbara Cartland</td>\n",
              "      <td>279</td>\n",
              "    </tr>\n",
              "    <tr>\n",
              "      <th>4</th>\n",
              "      <td>Nora Roberts</td>\n",
              "      <td>211</td>\n",
              "    </tr>\n",
              "  </tbody>\n",
              "</table>\n",
              "</div>\n",
              "      <button class=\"colab-df-convert\" onclick=\"convertToInteractive('df-795459f5-66a9-4d2a-87e0-223a2c34b034')\"\n",
              "              title=\"Convert this dataframe to an interactive table.\"\n",
              "              style=\"display:none;\">\n",
              "        \n",
              "  <svg xmlns=\"http://www.w3.org/2000/svg\" height=\"24px\"viewBox=\"0 0 24 24\"\n",
              "       width=\"24px\">\n",
              "    <path d=\"M0 0h24v24H0V0z\" fill=\"none\"/>\n",
              "    <path d=\"M18.56 5.44l.94 2.06.94-2.06 2.06-.94-2.06-.94-.94-2.06-.94 2.06-2.06.94zm-11 1L8.5 8.5l.94-2.06 2.06-.94-2.06-.94L8.5 2.5l-.94 2.06-2.06.94zm10 10l.94 2.06.94-2.06 2.06-.94-2.06-.94-.94-2.06-.94 2.06-2.06.94z\"/><path d=\"M17.41 7.96l-1.37-1.37c-.4-.4-.92-.59-1.43-.59-.52 0-1.04.2-1.43.59L10.3 9.45l-7.72 7.72c-.78.78-.78 2.05 0 2.83L4 21.41c.39.39.9.59 1.41.59.51 0 1.02-.2 1.41-.59l7.78-7.78 2.81-2.81c.8-.78.8-2.07 0-2.86zM5.41 20L4 18.59l7.72-7.72 1.47 1.35L5.41 20z\"/>\n",
              "  </svg>\n",
              "      </button>\n",
              "      \n",
              "  <style>\n",
              "    .colab-df-container {\n",
              "      display:flex;\n",
              "      flex-wrap:wrap;\n",
              "      gap: 12px;\n",
              "    }\n",
              "\n",
              "    .colab-df-convert {\n",
              "      background-color: #E8F0FE;\n",
              "      border: none;\n",
              "      border-radius: 50%;\n",
              "      cursor: pointer;\n",
              "      display: none;\n",
              "      fill: #1967D2;\n",
              "      height: 32px;\n",
              "      padding: 0 0 0 0;\n",
              "      width: 32px;\n",
              "    }\n",
              "\n",
              "    .colab-df-convert:hover {\n",
              "      background-color: #E2EBFA;\n",
              "      box-shadow: 0px 1px 2px rgba(60, 64, 67, 0.3), 0px 1px 3px 1px rgba(60, 64, 67, 0.15);\n",
              "      fill: #174EA6;\n",
              "    }\n",
              "\n",
              "    [theme=dark] .colab-df-convert {\n",
              "      background-color: #3B4455;\n",
              "      fill: #D2E3FC;\n",
              "    }\n",
              "\n",
              "    [theme=dark] .colab-df-convert:hover {\n",
              "      background-color: #434B5C;\n",
              "      box-shadow: 0px 1px 3px 1px rgba(0, 0, 0, 0.15);\n",
              "      filter: drop-shadow(0px 1px 2px rgba(0, 0, 0, 0.3));\n",
              "      fill: #FFFFFF;\n",
              "    }\n",
              "  </style>\n",
              "\n",
              "      <script>\n",
              "        const buttonEl =\n",
              "          document.querySelector('#df-795459f5-66a9-4d2a-87e0-223a2c34b034 button.colab-df-convert');\n",
              "        buttonEl.style.display =\n",
              "          google.colab.kernel.accessAllowed ? 'block' : 'none';\n",
              "\n",
              "        async function convertToInteractive(key) {\n",
              "          const element = document.querySelector('#df-795459f5-66a9-4d2a-87e0-223a2c34b034');\n",
              "          const dataTable =\n",
              "            await google.colab.kernel.invokeFunction('convertToInteractive',\n",
              "                                                     [key], {});\n",
              "          if (!dataTable) return;\n",
              "\n",
              "          const docLinkHtml = 'Like what you see? Visit the ' +\n",
              "            '<a target=\"_blank\" href=https://colab.research.google.com/notebooks/data_table.ipynb>data table notebook</a>'\n",
              "            + ' to learn more about interactive tables.';\n",
              "          element.innerHTML = '';\n",
              "          dataTable['output_type'] = 'display_data';\n",
              "          await google.colab.output.renderOutput(dataTable, element);\n",
              "          const docLink = document.createElement('div');\n",
              "          docLink.innerHTML = docLinkHtml;\n",
              "          element.appendChild(docLink);\n",
              "        }\n",
              "      </script>\n",
              "    </div>\n",
              "  </div>\n",
              "  "
            ]
          },
          "metadata": {},
          "execution_count": 56
        }
      ],
      "source": [
        "#finding authors with the highest number of books\n",
        "most_books = df.groupby('Book-Author').agg({'Book-Title':\"nunique\"}).sort_values(by='Book-Title',ascending=False)\n",
        "most_books.rename(columns={'Book-Title':'Number of Books'},inplace=True)\n",
        "most_books.reset_index(inplace=True)\n",
        "most_books=most_books[:15]\n",
        "most_books.head()"
      ]
    },
    {
      "cell_type": "code",
      "execution_count": null,
      "metadata": {
        "colab": {
          "base_uri": "https://localhost:8080/",
          "height": 458
        },
        "id": "kmIvweIFiKNe",
        "outputId": "1da90555-124e-42dd-82ed-1057a836cd8a"
      },
      "outputs": [
        {
          "output_type": "display_data",
          "data": {
            "text/plain": [
              "<Figure size 720x504 with 1 Axes>"
            ],
            "image/png": "[encoded data removed]"
          },
          "metadata": {
            "needs_background": "light"
          }
        }
      ],
      "source": [
        "#plotting top 15 authors and number of books\n",
        "plt.figure(figsize=(10,7))\n",
        "ax = sns.barplot(most_books['Number of Books'], most_books[\"Book-Author\"], palette='inferno')\n",
        "ax.set_title(\"Top 15 authors with the highest number of books\")\n",
        "ax.set_xlabel(\"Total number of books\")\n",
        "totals = []\n",
        "# find the values and append to list\n",
        "for i in ax.patches:\n",
        "    totals.append(i.get_width())\n",
        "\n",
        "# set individual bar lables using above list\n",
        "total = sum(totals)\n",
        "\n",
        "# set individual bar lables using above list\n",
        "for i in ax.patches:\n",
        "    # get_width pulls left or right; get_y pushes up or down\n",
        "    ax.text(i.get_width()+.60, i.get_y()+.60,str(round(i.get_width())), fontsize=15,color='black')\n",
        "plt.show()"
      ]
    },
    {
      "cell_type": "markdown",
      "metadata": {
        "id": "tMlFPwdGiQZo"
      },
      "source": [
        "Findings:"
      ]
    },
    {
      "cell_type": "markdown",
      "metadata": {
        "id": "-O-tawDciU19"
      },
      "source": [
        "In the given dataset, the author with the highest number of books is William Shakespare, followed by Agatha Christie"
      ]
    },
    {
      "cell_type": "markdown",
      "metadata": {
        "id": "wGl8gjk8iax-"
      },
      "source": [
        "3. Top 15 Book-Publishers"
      ]
    },
    {
      "cell_type": "code",
      "execution_count": null,
      "metadata": {
        "colab": {
          "base_uri": "https://localhost:8080/",
          "height": 574
        },
        "id": "vAjraB8Dic4W",
        "outputId": "222c936a-e562-4fb5-9a63-56fbae5f0bb5"
      },
      "outputs": [
        {
          "output_type": "display_data",
          "data": {
            "text/plain": [
              "<Figure size 720x504 with 1 Axes>"
            ],
            "image/png": "[encoded data removed]"
          },
          "metadata": {
            "needs_background": "light"
          }
        }
      ],
      "source": [
        "#plotting top 15 book publishers\n",
        "plt.figure(figsize=(10,7))\n",
        "sns.countplot(x=\"Publisher\",order=df['Publisher'].value_counts().index[0:15],data=df).tick_params(axis='x', rotation=90)\n",
        "plt.title(\" Top 15 Book Publishers\")\n",
        "plt.show()"
      ]
    },
    {
      "cell_type": "markdown",
      "metadata": {
        "id": "60Qxoe6Cirrd"
      },
      "source": [
        "Findings:"
      ]
    },
    {
      "cell_type": "markdown",
      "metadata": {
        "id": "J-Zar9GQisuD"
      },
      "source": [
        "Top publishers on the basis of the number of ratings received for their books are 'Ballantine Books' and 'Pocket'."
      ]
    },
    {
      "cell_type": "markdown",
      "metadata": {
        "id": "6NvF3WOYi4dP"
      },
      "source": [
        "4. Number of ratings from each city"
      ]
    },
    {
      "cell_type": "code",
      "execution_count": null,
      "metadata": {
        "colab": {
          "base_uri": "https://localhost:8080/",
          "height": 458
        },
        "id": "FOqIR5oYi5gq",
        "outputId": "0bdb353d-ea85-4485-b9e3-b8e8f2152ab7"
      },
      "outputs": [
        {
          "output_type": "display_data",
          "data": {
            "text/plain": [
              "<Figure size 720x504 with 1 Axes>"
            ],
            "image/png": "[encoded data removed]"
          },
          "metadata": {
            "needs_background": "light"
          }
        }
      ],
      "source": [
        "#plotting top 10 cities on the basis of number of ratings\n",
        "plt.figure(figsize=(10,7))\n",
        "sns.countplot(x=\"City\",order=df['City'].value_counts().index[0:10],data=df).tick_params\n",
        "plt.title(\"No of ratings from each city (Top 10)\")\n",
        "plt.show()"
      ]
    },
    {
      "cell_type": "markdown",
      "metadata": {
        "id": "rwNBDj-KjEu2"
      },
      "source": [
        "5. Number of ratings from each State"
      ]
    },
    {
      "cell_type": "code",
      "execution_count": null,
      "metadata": {
        "colab": {
          "base_uri": "https://localhost:8080/",
          "height": 458
        },
        "id": "HL7IMkoOjGbF",
        "outputId": "71e2ca84-95c3-481d-e15b-da245c343858"
      },
      "outputs": [
        {
          "output_type": "display_data",
          "data": {
            "text/plain": [
              "<Figure size 720x504 with 1 Axes>"
            ],
            "image/png": "[encoded data removed]"
          },
          "metadata": {
            "needs_background": "light"
          }
        }
      ],
      "source": [
        "plt.figure(figsize=(10,7))\n",
        "sns.countplot(x=\"State\",order=df['State'].value_counts().index[0:10],data=df)\n",
        "plt.title(\"No of ratings from each State (Top 10)\")\n",
        "plt.show()"
      ]
    },
    {
      "cell_type": "markdown",
      "metadata": {
        "id": "UrExiRFKjMRC"
      },
      "source": [
        "Findings:"
      ]
    },
    {
      "cell_type": "markdown",
      "metadata": {
        "id": "7mfXwMnhjN0q"
      },
      "source": [
        "California is the state from which the highest number of ratings are given"
      ]
    },
    {
      "cell_type": "markdown",
      "metadata": {
        "id": "HYQ9KubOjS3y"
      },
      "source": [
        "6. Number of ratings from each Country"
      ]
    },
    {
      "cell_type": "code",
      "execution_count": null,
      "metadata": {
        "colab": {
          "base_uri": "https://localhost:8080/",
          "height": 411
        },
        "id": "zf7XGCtSjT1u",
        "outputId": "1f34b6a5-954d-481a-ba40-8dad69eafa5e"
      },
      "outputs": [
        {
          "output_type": "display_data",
          "data": {
            "text/plain": [
              "<Figure size 720x504 with 1 Axes>"
            ],
            "image/png": "[encoded data removed]"
          },
          "metadata": {}
        }
      ],
      "source": [
        "# Top Countries\n",
        "Author= df['Country'].value_counts().index\n",
        "values = df['Country'].value_counts().values\n",
        "# Pie Chart Top 5\n",
        "plt.figure(figsize = (10,7))\n",
        "plt.pie(values[:5], labels=Author[:5],autopct=\"%1.2f%%\")\n",
        "plt.show()"
      ]
    },
    {
      "cell_type": "markdown",
      "metadata": {
        "id": "YRqWzTE-joVu"
      },
      "source": [
        "It can be observed that 77.16% of the ratings is from the Country USA. Now let's check the ratings from each state in USA"
      ]
    },
    {
      "cell_type": "code",
      "execution_count": null,
      "metadata": {
        "id": "Ii8rnpbkjqLB"
      },
      "outputs": [],
      "source": [
        "#creating dataframe with details of USA\n",
        "df_=df[df['Country']=='usa']\n",
        ""
      ]
    },
    {
      "cell_type": "code",
      "execution_count": null,
      "metadata": {
        "colab": {
          "base_uri": "https://localhost:8080/",
          "height": 515
        },
        "id": "StaTCmLxjzfP",
        "outputId": "36ecd10e-43e9-48b7-f62a-670e0688d5b7"
      },
      "outputs": [
        {
          "output_type": "display_data",
          "data": {
            "text/plain": [
              "<Figure size 720x504 with 1 Axes>"
            ],
            "image/png": "[encoded data removed]"
          },
          "metadata": {
            "needs_background": "light"
          }
        }
      ],
      "source": [
        "\n",
        "#plotting number of ratings from each state in USA\n",
        "plt.figure(figsize=(10,7))\n",
        "sns.countplot(x=\"State\",order=df_['State'].value_counts().index[0:10],data=df_).tick_params(axis='x', rotation=90)\n",
        "plt.title(\"No of ratings from each state in USA (Top 10)\")\n",
        "plt.show()"
      ]
    },
    {
      "cell_type": "markdown",
      "metadata": {
        "id": "KNxgsLmej8aa"
      },
      "source": [
        "Findings:"
      ]
    },
    {
      "cell_type": "markdown",
      "metadata": {
        "id": "heRA-NKFj9ho"
      },
      "source": [
        "We have already seen that California is the state from which the highest number of ratings are given. Since California is a state in USA, it is obvious that California is the top state in USA on the basis of number of ratings given."
      ]
    },
    {
      "cell_type": "markdown",
      "metadata": {
        "id": "_DCnLbF4kBqo"
      },
      "source": [
        "7. Age distribution"
      ]
    },
    {
      "cell_type": "code",
      "execution_count": null,
      "metadata": {
        "colab": {
          "base_uri": "https://localhost:8080/",
          "height": 404
        },
        "id": "aUe1WDBrkFKl",
        "outputId": "9ca1e3ab-a43c-4368-bcc6-5a98c9b8eff2"
      },
      "outputs": [
        {
          "output_type": "display_data",
          "data": {
            "text/plain": [
              "<Figure size 576x432 with 1 Axes>"
            ],
            "image/png": "[encoded data removed]"
          },
          "metadata": {
            "needs_background": "light"
          }
        }
      ],
      "source": [
        "#plotting age distribution\n",
        "plt.figure(figsize=(8,6))\n",
        "df.Age.hist(bins=[10*i for i in range(1, 10)])\n",
        "plt.title('Age Distribution')\n",
        "plt.xlabel('Age')\n",
        "plt.ylabel('Count')\n",
        "plt.show()\n",
        ""
      ]
    },
    {
      "cell_type": "markdown",
      "metadata": {
        "id": "Se7nNhyukKqW"
      },
      "source": [
        "It can be observed that most of the ratings are given by people of age between 30-40 years. Now let us find out the most rated books by people of different age groups- Teenage, Youth, Middle-age and elderly."
      ]
    },
    {
      "cell_type": "code",
      "execution_count": null,
      "metadata": {
        "id": "GHBRRpHYkMNv"
      },
      "outputs": [],
      "source": [
        "#creating a subset with required columns\n",
        "df2=df[['Book-Title','Book-Author','Age']]\n",
        ""
      ]
    },
    {
      "cell_type": "code",
      "execution_count": null,
      "metadata": {
        "id": "1GJugBD_kUY1"
      },
      "outputs": [],
      "source": [
        "#defining the category\n",
        "category=pd.cut(df2['Age'],bins=[10,20,40,60,90],labels=['Teenage','Youth','Middle Age','Elderly'])"
      ]
    },
    {
      "cell_type": "code",
      "execution_count": null,
      "metadata": {
        "id": "FXFUnalWkma-"
      },
      "outputs": [],
      "source": [
        "#creating a new column of age group\n",
        "df2.insert(3,'Age Group',category)\n",
        ""
      ]
    },
    {
      "cell_type": "code",
      "execution_count": null,
      "metadata": {
        "colab": {
          "base_uri": "https://localhost:8080/",
          "height": 206
        },
        "id": "gm0M6Q-5kqJ2",
        "outputId": "7001a842-740e-42d9-8dc9-1e8fbbfde07f"
      },
      "outputs": [
        {
          "output_type": "execute_result",
          "data": {
            "text/plain": [
              "                                      Book-Title           Book-Author  Age  \\\n",
              "1   Clara Callan                                  Richard Bruce Wright  32    \n",
              "9   Where You'll Find Me: And Other Stories       Ann Beattie           32    \n",
              "12  The Middle Stories                            Sheila Heti           32    \n",
              "13  Jane Doe                                      R. J. Kaiser          32    \n",
              "15  The Witchfinder (Amos Walker Mystery Series)  Loren D. Estleman     32    \n",
              "\n",
              "   Age Group  \n",
              "1   Youth     \n",
              "9   Youth     \n",
              "12  Youth     \n",
              "13  Youth     \n",
              "15  Youth     "
            ],
            "text/html": [
              "\n",
              "  <div id=\"df-2b26b356-3418-4eba-b096-e918a15fc24c\">\n",
              "    <div class=\"colab-df-container\">\n",
              "      <div>\n",
              "<style scoped>\n",
              "    .dataframe tbody tr th:only-of-type {\n",
              "        vertical-align: middle;\n",
              "    }\n",
              "\n",
              "    .dataframe tbody tr th {\n",
              "        vertical-align: top;\n",
              "    }\n",
              "\n",
              "    .dataframe thead th {\n",
              "        text-align: right;\n",
              "    }\n",
              "</style>\n",
              "<table border=\"1\" class=\"dataframe\">\n",
              "  <thead>\n",
              "    <tr style=\"text-align: right;\">\n",
              "      <th></th>\n",
              "      <th>Book-Title</th>\n",
              "      <th>Book-Author</th>\n",
              "      <th>Age</th>\n",
              "      <th>Age Group</th>\n",
              "    </tr>\n",
              "  </thead>\n",
              "  <tbody>\n",
              "    <tr>\n",
              "      <th>1</th>\n",
              "      <td>Clara Callan</td>\n",
              "      <td>Richard Bruce Wright</td>\n",
              "      <td>32</td>\n",
              "      <td>Youth</td>\n",
              "    </tr>\n",
              "    <tr>\n",
              "      <th>9</th>\n",
              "      <td>Where You'll Find Me: And Other Stories</td>\n",
              "      <td>Ann Beattie</td>\n",
              "      <td>32</td>\n",
              "      <td>Youth</td>\n",
              "    </tr>\n",
              "    <tr>\n",
              "      <th>12</th>\n",
              "      <td>The Middle Stories</td>\n",
              "      <td>Sheila Heti</td>\n",
              "      <td>32</td>\n",
              "      <td>Youth</td>\n",
              "    </tr>\n",
              "    <tr>\n",
              "      <th>13</th>\n",
              "      <td>Jane Doe</td>\n",
              "      <td>R. J. Kaiser</td>\n",
              "      <td>32</td>\n",
              "      <td>Youth</td>\n",
              "    </tr>\n",
              "    <tr>\n",
              "      <th>15</th>\n",
              "      <td>The Witchfinder (Amos Walker Mystery Series)</td>\n",
              "      <td>Loren D. Estleman</td>\n",
              "      <td>32</td>\n",
              "      <td>Youth</td>\n",
              "    </tr>\n",
              "  </tbody>\n",
              "</table>\n",
              "</div>\n",
              "      <button class=\"colab-df-convert\" onclick=\"convertToInteractive('df-2b26b356-3418-4eba-b096-e918a15fc24c')\"\n",
              "              title=\"Convert this dataframe to an interactive table.\"\n",
              "              style=\"display:none;\">\n",
              "        \n",
              "  <svg xmlns=\"http://www.w3.org/2000/svg\" height=\"24px\"viewBox=\"0 0 24 24\"\n",
              "       width=\"24px\">\n",
              "    <path d=\"M0 0h24v24H0V0z\" fill=\"none\"/>\n",
              "    <path d=\"M18.56 5.44l.94 2.06.94-2.06 2.06-.94-2.06-.94-.94-2.06-.94 2.06-2.06.94zm-11 1L8.5 8.5l.94-2.06 2.06-.94-2.06-.94L8.5 2.5l-.94 2.06-2.06.94zm10 10l.94 2.06.94-2.06 2.06-.94-2.06-.94-.94-2.06-.94 2.06-2.06.94z\"/><path d=\"M17.41 7.96l-1.37-1.37c-.4-.4-.92-.59-1.43-.59-.52 0-1.04.2-1.43.59L10.3 9.45l-7.72 7.72c-.78.78-.78 2.05 0 2.83L4 21.41c.39.39.9.59 1.41.59.51 0 1.02-.2 1.41-.59l7.78-7.78 2.81-2.81c.8-.78.8-2.07 0-2.86zM5.41 20L4 18.59l7.72-7.72 1.47 1.35L5.41 20z\"/>\n",
              "  </svg>\n",
              "      </button>\n",
              "      \n",
              "  <style>\n",
              "    .colab-df-container {\n",
              "      display:flex;\n",
              "      flex-wrap:wrap;\n",
              "      gap: 12px;\n",
              "    }\n",
              "\n",
              "    .colab-df-convert {\n",
              "      background-color: #E8F0FE;\n",
              "      border: none;\n",
              "      border-radius: 50%;\n",
              "      cursor: pointer;\n",
              "      display: none;\n",
              "      fill: #1967D2;\n",
              "      height: 32px;\n",
              "      padding: 0 0 0 0;\n",
              "      width: 32px;\n",
              "    }\n",
              "\n",
              "    .colab-df-convert:hover {\n",
              "      background-color: #E2EBFA;\n",
              "      box-shadow: 0px 1px 2px rgba(60, 64, 67, 0.3), 0px 1px 3px 1px rgba(60, 64, 67, 0.15);\n",
              "      fill: #174EA6;\n",
              "    }\n",
              "\n",
              "    [theme=dark] .colab-df-convert {\n",
              "      background-color: #3B4455;\n",
              "      fill: #D2E3FC;\n",
              "    }\n",
              "\n",
              "    [theme=dark] .colab-df-convert:hover {\n",
              "      background-color: #434B5C;\n",
              "      box-shadow: 0px 1px 3px 1px rgba(0, 0, 0, 0.15);\n",
              "      filter: drop-shadow(0px 1px 2px rgba(0, 0, 0, 0.3));\n",
              "      fill: #FFFFFF;\n",
              "    }\n",
              "  </style>\n",
              "\n",
              "      <script>\n",
              "        const buttonEl =\n",
              "          document.querySelector('#df-2b26b356-3418-4eba-b096-e918a15fc24c button.colab-df-convert');\n",
              "        buttonEl.style.display =\n",
              "          google.colab.kernel.accessAllowed ? 'block' : 'none';\n",
              "\n",
              "        async function convertToInteractive(key) {\n",
              "          const element = document.querySelector('#df-2b26b356-3418-4eba-b096-e918a15fc24c');\n",
              "          const dataTable =\n",
              "            await google.colab.kernel.invokeFunction('convertToInteractive',\n",
              "                                                     [key], {});\n",
              "          if (!dataTable) return;\n",
              "\n",
              "          const docLinkHtml = 'Like what you see? Visit the ' +\n",
              "            '<a target=\"_blank\" href=https://colab.research.google.com/notebooks/data_table.ipynb>data table notebook</a>'\n",
              "            + ' to learn more about interactive tables.';\n",
              "          element.innerHTML = '';\n",
              "          dataTable['output_type'] = 'display_data';\n",
              "          await google.colab.output.renderOutput(dataTable, element);\n",
              "          const docLink = document.createElement('div');\n",
              "          docLink.innerHTML = docLinkHtml;\n",
              "          element.appendChild(docLink);\n",
              "        }\n",
              "      </script>\n",
              "    </div>\n",
              "  </div>\n",
              "  "
            ]
          },
          "metadata": {},
          "execution_count": 68
        }
      ],
      "source": [
        "#checking\n",
        "df2.head()\n",
        ""
      ]
    },
    {
      "cell_type": "code",
      "execution_count": null,
      "metadata": {
        "id": "R_zHu1EMkxQf"
      },
      "outputs": [],
      "source": [
        "#creating separate dataframes with details of each group\n",
        "Youth_df=df2[df2['Age Group']=='Youth']\n",
        "Teenage_df=df2[df2['Age Group']=='Teenage']\n",
        "Middle_age_df=df2[df2['Age Group']=='Middle Age']\n",
        "Elderly_df=df2[df2['Age Group']=='Elderly']\n",
        "\n"
      ]
    },
    {
      "cell_type": "code",
      "execution_count": null,
      "metadata": {
        "id": "C_Rc2Pj4k99n"
      },
      "outputs": [],
      "source": [
        "#creating function to plot most rated books by each age group\n",
        "def books_by_age_group(category_df,title):\n",
        "  plt.figure(figsize=(10,7))\n",
        "  sns.countplot(x=\"Book-Title\",order=category_df['Book-Title'].value_counts().index[0:10],data=category_df).tick_params(axis='x', rotation=90)\n",
        "  plt.title(title)"
      ]
    },
    {
      "cell_type": "code",
      "execution_count": null,
      "metadata": {
        "colab": {
          "base_uri": "https://localhost:8080/",
          "height": 697
        },
        "id": "nFRnV1NrlCaO",
        "outputId": "3e683615-0cb2-4a35-ebe4-581f550b25ed"
      },
      "outputs": [
        {
          "output_type": "display_data",
          "data": {
            "text/plain": [
              "<Figure size 720x504 with 1 Axes>"
            ],
            "image/png": "[encoded data removed]"
          },
          "metadata": {
            "needs_background": "light"
          }
        }
      ],
      "source": [
        "#most rated books by youth\n",
        "books_by_age_group(Youth_df,'Most rated books by youth')\n",
        ""
      ]
    },
    {
      "cell_type": "code",
      "execution_count": null,
      "metadata": {
        "colab": {
          "base_uri": "https://localhost:8080/",
          "height": 769
        },
        "id": "C6-cA38TlHOe",
        "outputId": "2192499f-61c2-40ee-c6c1-78e7cc448744"
      },
      "outputs": [
        {
          "output_type": "display_data",
          "data": {
            "text/plain": [
              "<Figure size 720x504 with 1 Axes>"
            ],
            "image/png": "[encoded data removed]"
          },
          "metadata": {
            "needs_background": "light"
          }
        }
      ],
      "source": [
        "#most rated books by Teenage\n",
        "books_by_age_group(Teenage_df,'Most rated books by Teenage')"
      ]
    },
    {
      "cell_type": "code",
      "execution_count": null,
      "metadata": {
        "colab": {
          "base_uri": "https://localhost:8080/",
          "height": 628
        },
        "id": "o2011a0VlOxN",
        "outputId": "4aca5785-8fd0-40eb-9a2e-e0e79412e976"
      },
      "outputs": [
        {
          "output_type": "display_data",
          "data": {
            "text/plain": [
              "<Figure size 720x504 with 1 Axes>"
            ],
            "image/png": "[encoded data removed]"
          },
          "metadata": {
            "needs_background": "light"
          }
        }
      ],
      "source": [
        "#most rated books by Middle-aged\n",
        "books_by_age_group(Middle_age_df,'Most rated books by Middle-Aged')"
      ]
    },
    {
      "cell_type": "code",
      "execution_count": null,
      "metadata": {
        "colab": {
          "base_uri": "https://localhost:8080/",
          "height": 592
        },
        "id": "846F-IT6lVzm",
        "outputId": "90e55d8b-d0e1-4682-cf70-cf62f1151c5e"
      },
      "outputs": [
        {
          "output_type": "display_data",
          "data": {
            "text/plain": [
              "<Figure size 720x504 with 1 Axes>"
            ],
            "image/png": "[encoded data removed]"
          },
          "metadata": {
            "needs_background": "light"
          }
        }
      ],
      "source": [
        "#most rated books by Middle-aged\n",
        "books_by_age_group(Elderly_df,'Most rated books by Elderly')\n",
        ""
      ]
    },
    {
      "cell_type": "markdown",
      "metadata": {
        "id": "JAfPo8YClbgv"
      },
      "source": [
        "Findings:\n",
        "\n",
        "'Wild animus' is one of the most rated books irrespective of the age."
      ]
    },
    {
      "cell_type": "markdown",
      "metadata": {
        "id": "86loonSJlg2r"
      },
      "source": [
        "**Recommendation System**"
      ]
    },
    {
      "cell_type": "markdown",
      "metadata": {
        "id": "NzUkAU_lll6J"
      },
      "source": [
        "Now let's build recommendation systems to recommend books to users based on their past preference."
      ]
    },
    {
      "cell_type": "markdown",
      "metadata": {
        "id": "Iu9s0UWclpS-"
      },
      "source": [
        "**1. Popularity Based Recommendation System**"
      ]
    },
    {
      "cell_type": "markdown",
      "metadata": {
        "id": "n6DU51XHlwEt"
      },
      "source": [
        "It is a type of recommendation system which works on the principle of popularity and or anything which is in trend."
      ]
    },
    {
      "cell_type": "code",
      "execution_count": null,
      "metadata": {
        "colab": {
          "base_uri": "https://localhost:8080/",
          "height": 380
        },
        "id": "-SWASy8fl3D-",
        "outputId": "1ea9682b-e123-4e55-e1ce-0b91c8a9e9b4"
      },
      "outputs": [
        {
          "output_type": "stream",
          "name": "stdout",
          "text": [
            "The Top 10 Books Recommendation : \n"
          ]
        },
        {
          "output_type": "execute_result",
          "data": {
            "text/plain": [
              "                                         Book-Title  Number of Ratings\n",
              "0  The Lovely Bones: A Novel                         707              \n",
              "1  Wild Animus                                       581              \n",
              "2  The Da Vinci Code                                 495              \n",
              "3  The Secret Life of Bees                           413              \n",
              "4  The Nanny Diaries: A Novel                        393              \n",
              "5  The Red Tent (Bestselling Backlist)               383              \n",
              "6  Bridget Jones's Diary                             380              \n",
              "7  A Painted House                                   366              \n",
              "8  Life of Pi                                        337              \n",
              "9  Harry Potter and the Chamber of Secrets (Book 2)  326              "
            ],
            "text/html": [
              "\n",
              "  <div id=\"df-546d26f2-3657-490a-8cc6-e8ae0ee94a4b\">\n",
              "    <div class=\"colab-df-container\">\n",
              "      <div>\n",
              "<style scoped>\n",
              "    .dataframe tbody tr th:only-of-type {\n",
              "        vertical-align: middle;\n",
              "    }\n",
              "\n",
              "    .dataframe tbody tr th {\n",
              "        vertical-align: top;\n",
              "    }\n",
              "\n",
              "    .dataframe thead th {\n",
              "        text-align: right;\n",
              "    }\n",
              "</style>\n",
              "<table border=\"1\" class=\"dataframe\">\n",
              "  <thead>\n",
              "    <tr style=\"text-align: right;\">\n",
              "      <th></th>\n",
              "      <th>Book-Title</th>\n",
              "      <th>Number of Ratings</th>\n",
              "    </tr>\n",
              "  </thead>\n",
              "  <tbody>\n",
              "    <tr>\n",
              "      <th>0</th>\n",
              "      <td>The Lovely Bones: A Novel</td>\n",
              "      <td>707</td>\n",
              "    </tr>\n",
              "    <tr>\n",
              "      <th>1</th>\n",
              "      <td>Wild Animus</td>\n",
              "      <td>581</td>\n",
              "    </tr>\n",
              "    <tr>\n",
              "      <th>2</th>\n",
              "      <td>The Da Vinci Code</td>\n",
              "      <td>495</td>\n",
              "    </tr>\n",
              "    <tr>\n",
              "      <th>3</th>\n",
              "      <td>The Secret Life of Bees</td>\n",
              "      <td>413</td>\n",
              "    </tr>\n",
              "    <tr>\n",
              "      <th>4</th>\n",
              "      <td>The Nanny Diaries: A Novel</td>\n",
              "      <td>393</td>\n",
              "    </tr>\n",
              "    <tr>\n",
              "      <th>5</th>\n",
              "      <td>The Red Tent (Bestselling Backlist)</td>\n",
              "      <td>383</td>\n",
              "    </tr>\n",
              "    <tr>\n",
              "      <th>6</th>\n",
              "      <td>Bridget Jones's Diary</td>\n",
              "      <td>380</td>\n",
              "    </tr>\n",
              "    <tr>\n",
              "      <th>7</th>\n",
              "      <td>A Painted House</td>\n",
              "      <td>366</td>\n",
              "    </tr>\n",
              "    <tr>\n",
              "      <th>8</th>\n",
              "      <td>Life of Pi</td>\n",
              "      <td>337</td>\n",
              "    </tr>\n",
              "    <tr>\n",
              "      <th>9</th>\n",
              "      <td>Harry Potter and the Chamber of Secrets (Book 2)</td>\n",
              "      <td>326</td>\n",
              "    </tr>\n",
              "  </tbody>\n",
              "</table>\n",
              "</div>\n",
              "      <button class=\"colab-df-convert\" onclick=\"convertToInteractive('df-546d26f2-3657-490a-8cc6-e8ae0ee94a4b')\"\n",
              "              title=\"Convert this dataframe to an interactive table.\"\n",
              "              style=\"display:none;\">\n",
              "        \n",
              "  <svg xmlns=\"http://www.w3.org/2000/svg\" height=\"24px\"viewBox=\"0 0 24 24\"\n",
              "       width=\"24px\">\n",
              "    <path d=\"M0 0h24v24H0V0z\" fill=\"none\"/>\n",
              "    <path d=\"M18.56 5.44l.94 2.06.94-2.06 2.06-.94-2.06-.94-.94-2.06-.94 2.06-2.06.94zm-11 1L8.5 8.5l.94-2.06 2.06-.94-2.06-.94L8.5 2.5l-.94 2.06-2.06.94zm10 10l.94 2.06.94-2.06 2.06-.94-2.06-.94-.94-2.06-.94 2.06-2.06.94z\"/><path d=\"M17.41 7.96l-1.37-1.37c-.4-.4-.92-.59-1.43-.59-.52 0-1.04.2-1.43.59L10.3 9.45l-7.72 7.72c-.78.78-.78 2.05 0 2.83L4 21.41c.39.39.9.59 1.41.59.51 0 1.02-.2 1.41-.59l7.78-7.78 2.81-2.81c.8-.78.8-2.07 0-2.86zM5.41 20L4 18.59l7.72-7.72 1.47 1.35L5.41 20z\"/>\n",
              "  </svg>\n",
              "      </button>\n",
              "      \n",
              "  <style>\n",
              "    .colab-df-container {\n",
              "      display:flex;\n",
              "      flex-wrap:wrap;\n",
              "      gap: 12px;\n",
              "    }\n",
              "\n",
              "    .colab-df-convert {\n",
              "      background-color: #E8F0FE;\n",
              "      border: none;\n",
              "      border-radius: 50%;\n",
              "      cursor: pointer;\n",
              "      display: none;\n",
              "      fill: #1967D2;\n",
              "      height: 32px;\n",
              "      padding: 0 0 0 0;\n",
              "      width: 32px;\n",
              "    }\n",
              "\n",
              "    .colab-df-convert:hover {\n",
              "      background-color: #E2EBFA;\n",
              "      box-shadow: 0px 1px 2px rgba(60, 64, 67, 0.3), 0px 1px 3px 1px rgba(60, 64, 67, 0.15);\n",
              "      fill: #174EA6;\n",
              "    }\n",
              "\n",
              "    [theme=dark] .colab-df-convert {\n",
              "      background-color: #3B4455;\n",
              "      fill: #D2E3FC;\n",
              "    }\n",
              "\n",
              "    [theme=dark] .colab-df-convert:hover {\n",
              "      background-color: #434B5C;\n",
              "      box-shadow: 0px 1px 3px 1px rgba(0, 0, 0, 0.15);\n",
              "      filter: drop-shadow(0px 1px 2px rgba(0, 0, 0, 0.3));\n",
              "      fill: #FFFFFF;\n",
              "    }\n",
              "  </style>\n",
              "\n",
              "      <script>\n",
              "        const buttonEl =\n",
              "          document.querySelector('#df-546d26f2-3657-490a-8cc6-e8ae0ee94a4b button.colab-df-convert');\n",
              "        buttonEl.style.display =\n",
              "          google.colab.kernel.accessAllowed ? 'block' : 'none';\n",
              "\n",
              "        async function convertToInteractive(key) {\n",
              "          const element = document.querySelector('#df-546d26f2-3657-490a-8cc6-e8ae0ee94a4b');\n",
              "          const dataTable =\n",
              "            await google.colab.kernel.invokeFunction('convertToInteractive',\n",
              "                                                     [key], {});\n",
              "          if (!dataTable) return;\n",
              "\n",
              "          const docLinkHtml = 'Like what you see? Visit the ' +\n",
              "            '<a target=\"_blank\" href=https://colab.research.google.com/notebooks/data_table.ipynb>data table notebook</a>'\n",
              "            + ' to learn more about interactive tables.';\n",
              "          element.innerHTML = '';\n",
              "          dataTable['output_type'] = 'display_data';\n",
              "          await google.colab.output.renderOutput(dataTable, element);\n",
              "          const docLink = document.createElement('div');\n",
              "          docLink.innerHTML = docLinkHtml;\n",
              "          element.appendChild(docLink);\n",
              "        }\n",
              "      </script>\n",
              "    </div>\n",
              "  </div>\n",
              "  "
            ]
          },
          "metadata": {},
          "execution_count": 75
        }
      ],
      "source": [
        "# Top book based on rating\n",
        "Top_Books= pd.DataFrame(df.groupby('Book-Title')['Book-Rating'].count()\n",
        "                         .sort_values(ascending=False).head(10))\n",
        "#renaming columns\n",
        "Top_Books.rename(columns={'Book-Rating':'Number of Ratings'},inplace=True)\n",
        "Top_Books.reset_index(inplace=True)\n",
        "\n",
        "print('The Top 10 Books Recommendation : ')\n",
        "Top_Books"
      ]
    },
    {
      "cell_type": "markdown",
      "metadata": {
        "id": "rkr6dQ2Ul_DN"
      },
      "source": [
        "These are the popular books based on the number of ratings received."
      ]
    },
    {
      "cell_type": "markdown",
      "metadata": {
        "id": "H_jQqAg8l_z3"
      },
      "source": [
        "**2. Simple Recommendation System**"
      ]
    },
    {
      "cell_type": "markdown",
      "metadata": {
        "id": "rbKtX4mjmGfE"
      },
      "source": [
        "This method is based on the concept of weighted rating."
      ]
    },
    {
      "cell_type": "code",
      "execution_count": null,
      "metadata": {
        "colab": {
          "base_uri": "https://localhost:8080/",
          "height": 441
        },
        "id": "m-ZXKuvImJ5W",
        "outputId": "6a4b1734-11f0-4974-de53-59667cd9f954"
      },
      "outputs": [
        {
          "output_type": "stream",
          "name": "stdout",
          "text": [
            "# of users: 147013\n"
          ]
        },
        {
          "output_type": "execute_result",
          "data": {
            "text/plain": [
              "              ISBN                                       Book-Title  \\\n",
              "21565   0316666343  The Lovely Bones: A Novel                         \n",
              "115998  0971880107  Wild Animus                                       \n",
              "38210   0385504209  The Da Vinci Code                                 \n",
              "17692   0312195516  The Red Tent (Bestselling Backlist)               \n",
              "4042    0060928336  Divine Secrets of the Ya-Ya Sisterhood: A Novel   \n",
              "...            ...                                              ...   \n",
              "61929   0552993360  To Be Young: Some Chapters of Autobiography       \n",
              "61928   0552993255  Quiet War of Rebecca Sheldon                      \n",
              "61927   0552991872  The Right True End                                \n",
              "61926   0552990566  Brother of the More Famous Jack                   \n",
              "147012  B000234N3A  Fraud                                             \n",
              "\n",
              "              Book-Author  Average Rating  Number of Votes  \n",
              "21565   Alice Sebold       8.185290        707              \n",
              "115998  Rich Shapero       4.390706        581              \n",
              "38210   Dan Brown          8.426230        488              \n",
              "17692   Anita Diamant      8.182768        383              \n",
              "4042    Rebecca Wells      7.887500        320              \n",
              "...               ...           ...        ...              \n",
              "61929   Mary Lutyens       3.000000        1                \n",
              "61928   Kathleen Rowntree  7.000000        1                \n",
              "61927   Stan Barstow       9.000000        1                \n",
              "61926   Barbara Trapido    7.000000        1                \n",
              "147012  David Rakoff       9.000000        1                \n",
              "\n",
              "[147013 rows x 5 columns]"
            ],
            "text/html": [
              "\n",
              "  <div id=\"df-39efdd91-358f-423d-9f71-1fd0a61ed3c7\">\n",
              "    <div class=\"colab-df-container\">\n",
              "      <div>\n",
              "<style scoped>\n",
              "    .dataframe tbody tr th:only-of-type {\n",
              "        vertical-align: middle;\n",
              "    }\n",
              "\n",
              "    .dataframe tbody tr th {\n",
              "        vertical-align: top;\n",
              "    }\n",
              "\n",
              "    .dataframe thead th {\n",
              "        text-align: right;\n",
              "    }\n",
              "</style>\n",
              "<table border=\"1\" class=\"dataframe\">\n",
              "  <thead>\n",
              "    <tr style=\"text-align: right;\">\n",
              "      <th></th>\n",
              "      <th>ISBN</th>\n",
              "      <th>Book-Title</th>\n",
              "      <th>Book-Author</th>\n",
              "      <th>Average Rating</th>\n",
              "      <th>Number of Votes</th>\n",
              "    </tr>\n",
              "  </thead>\n",
              "  <tbody>\n",
              "    <tr>\n",
              "      <th>21565</th>\n",
              "      <td>0316666343</td>\n",
              "      <td>The Lovely Bones: A Novel</td>\n",
              "      <td>Alice Sebold</td>\n",
              "      <td>8.185290</td>\n",
              "      <td>707</td>\n",
              "    </tr>\n",
              "    <tr>\n",
              "      <th>115998</th>\n",
              "      <td>0971880107</td>\n",
              "      <td>Wild Animus</td>\n",
              "      <td>Rich Shapero</td>\n",
              "      <td>4.390706</td>\n",
              "      <td>581</td>\n",
              "    </tr>\n",
              "    <tr>\n",
              "      <th>38210</th>\n",
              "      <td>0385504209</td>\n",
              "      <td>The Da Vinci Code</td>\n",
              "      <td>Dan Brown</td>\n",
              "      <td>8.426230</td>\n",
              "      <td>488</td>\n",
              "    </tr>\n",
              "    <tr>\n",
              "      <th>17692</th>\n",
              "      <td>0312195516</td>\n",
              "      <td>The Red Tent (Bestselling Backlist)</td>\n",
              "      <td>Anita Diamant</td>\n",
              "      <td>8.182768</td>\n",
              "      <td>383</td>\n",
              "    </tr>\n",
              "    <tr>\n",
              "      <th>4042</th>\n",
              "      <td>0060928336</td>\n",
              "      <td>Divine Secrets of the Ya-Ya Sisterhood: A Novel</td>\n",
              "      <td>Rebecca Wells</td>\n",
              "      <td>7.887500</td>\n",
              "      <td>320</td>\n",
              "    </tr>\n",
              "    <tr>\n",
              "      <th>...</th>\n",
              "      <td>...</td>\n",
              "      <td>...</td>\n",
              "      <td>...</td>\n",
              "      <td>...</td>\n",
              "      <td>...</td>\n",
              "    </tr>\n",
              "    <tr>\n",
              "      <th>61929</th>\n",
              "      <td>0552993360</td>\n",
              "      <td>To Be Young: Some Chapters of Autobiography</td>\n",
              "      <td>Mary Lutyens</td>\n",
              "      <td>3.000000</td>\n",
              "      <td>1</td>\n",
              "    </tr>\n",
              "    <tr>\n",
              "      <th>61928</th>\n",
              "      <td>0552993255</td>\n",
              "      <td>Quiet War of Rebecca Sheldon</td>\n",
              "      <td>Kathleen Rowntree</td>\n",
              "      <td>7.000000</td>\n",
              "      <td>1</td>\n",
              "    </tr>\n",
              "    <tr>\n",
              "      <th>61927</th>\n",
              "      <td>0552991872</td>\n",
              "      <td>The Right True End</td>\n",
              "      <td>Stan Barstow</td>\n",
              "      <td>9.000000</td>\n",
              "      <td>1</td>\n",
              "    </tr>\n",
              "    <tr>\n",
              "      <th>61926</th>\n",
              "      <td>0552990566</td>\n",
              "      <td>Brother of the More Famous Jack</td>\n",
              "      <td>Barbara Trapido</td>\n",
              "      <td>7.000000</td>\n",
              "      <td>1</td>\n",
              "    </tr>\n",
              "    <tr>\n",
              "      <th>147012</th>\n",
              "      <td>B000234N3A</td>\n",
              "      <td>Fraud</td>\n",
              "      <td>David Rakoff</td>\n",
              "      <td>9.000000</td>\n",
              "      <td>1</td>\n",
              "    </tr>\n",
              "  </tbody>\n",
              "</table>\n",
              "<p>147013 rows × 5 columns</p>\n",
              "</div>\n",
              "      <button class=\"colab-df-convert\" onclick=\"convertToInteractive('df-39efdd91-358f-423d-9f71-1fd0a61ed3c7')\"\n",
              "              title=\"Convert this dataframe to an interactive table.\"\n",
              "              style=\"display:none;\">\n",
              "        \n",
              "  <svg xmlns=\"http://www.w3.org/2000/svg\" height=\"24px\"viewBox=\"0 0 24 24\"\n",
              "       width=\"24px\">\n",
              "    <path d=\"M0 0h24v24H0V0z\" fill=\"none\"/>\n",
              "    <path d=\"M18.56 5.44l.94 2.06.94-2.06 2.06-.94-2.06-.94-.94-2.06-.94 2.06-2.06.94zm-11 1L8.5 8.5l.94-2.06 2.06-.94-2.06-.94L8.5 2.5l-.94 2.06-2.06.94zm10 10l.94 2.06.94-2.06 2.06-.94-2.06-.94-.94-2.06-.94 2.06-2.06.94z\"/><path d=\"M17.41 7.96l-1.37-1.37c-.4-.4-.92-.59-1.43-.59-.52 0-1.04.2-1.43.59L10.3 9.45l-7.72 7.72c-.78.78-.78 2.05 0 2.83L4 21.41c.39.39.9.59 1.41.59.51 0 1.02-.2 1.41-.59l7.78-7.78 2.81-2.81c.8-.78.8-2.07 0-2.86zM5.41 20L4 18.59l7.72-7.72 1.47 1.35L5.41 20z\"/>\n",
              "  </svg>\n",
              "      </button>\n",
              "      \n",
              "  <style>\n",
              "    .colab-df-container {\n",
              "      display:flex;\n",
              "      flex-wrap:wrap;\n",
              "      gap: 12px;\n",
              "    }\n",
              "\n",
              "    .colab-df-convert {\n",
              "      background-color: #E8F0FE;\n",
              "      border: none;\n",
              "      border-radius: 50%;\n",
              "      cursor: pointer;\n",
              "      display: none;\n",
              "      fill: #1967D2;\n",
              "      height: 32px;\n",
              "      padding: 0 0 0 0;\n",
              "      width: 32px;\n",
              "    }\n",
              "\n",
              "    .colab-df-convert:hover {\n",
              "      background-color: #E2EBFA;\n",
              "      box-shadow: 0px 1px 2px rgba(60, 64, 67, 0.3), 0px 1px 3px 1px rgba(60, 64, 67, 0.15);\n",
              "      fill: #174EA6;\n",
              "    }\n",
              "\n",
              "    [theme=dark] .colab-df-convert {\n",
              "      background-color: #3B4455;\n",
              "      fill: #D2E3FC;\n",
              "    }\n",
              "\n",
              "    [theme=dark] .colab-df-convert:hover {\n",
              "      background-color: #434B5C;\n",
              "      box-shadow: 0px 1px 3px 1px rgba(0, 0, 0, 0.15);\n",
              "      filter: drop-shadow(0px 1px 2px rgba(0, 0, 0, 0.3));\n",
              "      fill: #FFFFFF;\n",
              "    }\n",
              "  </style>\n",
              "\n",
              "      <script>\n",
              "        const buttonEl =\n",
              "          document.querySelector('#df-39efdd91-358f-423d-9f71-1fd0a61ed3c7 button.colab-df-convert');\n",
              "        buttonEl.style.display =\n",
              "          google.colab.kernel.accessAllowed ? 'block' : 'none';\n",
              "\n",
              "        async function convertToInteractive(key) {\n",
              "          const element = document.querySelector('#df-39efdd91-358f-423d-9f71-1fd0a61ed3c7');\n",
              "          const dataTable =\n",
              "            await google.colab.kernel.invokeFunction('convertToInteractive',\n",
              "                                                     [key], {});\n",
              "          if (!dataTable) return;\n",
              "\n",
              "          const docLinkHtml = 'Like what you see? Visit the ' +\n",
              "            '<a target=\"_blank\" href=https://colab.research.google.com/notebooks/data_table.ipynb>data table notebook</a>'\n",
              "            + ' to learn more about interactive tables.';\n",
              "          element.innerHTML = '';\n",
              "          dataTable['output_type'] = 'display_data';\n",
              "          await google.colab.output.renderOutput(dataTable, element);\n",
              "          const docLink = document.createElement('div');\n",
              "          docLink.innerHTML = docLinkHtml;\n",
              "          element.appendChild(docLink);\n",
              "        }\n",
              "      </script>\n",
              "    </div>\n",
              "  </div>\n",
              "  "
            ]
          },
          "metadata": {},
          "execution_count": 76
        }
      ],
      "source": [
        "#creating dataframe with required columns\n",
        "df1=df[[\"ISBN\",'Book-Author','Book-Title','Book-Rating']]\n",
        "#creating dataframe with vote average and number of ratings\n",
        "votes_df= df1.groupby([\"ISBN\",'Book-Title','Book-Author']).agg({'Book-Rating':\"mean\",'Book-Title':\"count\"})\n",
        "#lenghth of votes_df\n",
        "print('# of users: %d' % len(votes_df))\n",
        "#renaming columns\n",
        "votes_df.rename(columns={\"Book-Rating\":\"Average Rating\", \"Book-Title\":\"Number of Votes\"},inplace=True)\n",
        "votes_df.reset_index(inplace=True)\n",
        "#sorting values in descending order\n",
        "votes_df.sort_values(by=\"Number of Votes\",ascending=False)\n",
        ""
      ]
    },
    {
      "cell_type": "code",
      "execution_count": null,
      "metadata": {
        "colab": {
          "base_uri": "https://localhost:8080/"
        },
        "id": "qpmKOd5VmTQn",
        "outputId": "b0bc39c6-ac58-41d3-e708-481024a2d33b"
      },
      "outputs": [
        {
          "output_type": "stream",
          "name": "stdout",
          "text": [
            "C: 7.528032305000475\n",
            "m: 4.0\n"
          ]
        },
        {
          "output_type": "execute_result",
          "data": {
            "text/plain": [
              "(18395, 5)"
            ]
          },
          "metadata": {},
          "execution_count": 77
        }
      ],
      "source": [
        "# Calculate mean of vote average column\n",
        "C = votes_df['Average Rating'].mean()\n",
        "print(\"C:\",C)\n",
        "# Calculate the minimum number of votes required to be in the chart, m\n",
        "m = votes_df['Number of Votes'].quantile(0.90)\n",
        "print(\"m:\",m)\n",
        "# Filter out all qualified books into a new DataFrame\n",
        "weighted_rating_df = votes_df.copy().loc[votes_df['Number of Votes'] >= m]\n",
        "weighted_rating_df.shape"
      ]
    },
    {
      "cell_type": "code",
      "execution_count": null,
      "metadata": {
        "id": "9WlFkpBIme1W"
      },
      "outputs": [],
      "source": [
        "# Function that computes the weighted rating of each book\n",
        "def weighted_rating(votes_df, m=m, C=C):\n",
        "    v = votes_df['Number of Votes']\n",
        "    R = votes_df['Average Rating']\n",
        "    # Calculation of weighted average\n",
        "    return (v/(v+m) * R) + (m/(m+v) * C)\n",
        "\n"
      ]
    },
    {
      "cell_type": "code",
      "execution_count": null,
      "metadata": {
        "id": "9c4uA56Omh7C"
      },
      "outputs": [],
      "source": [
        "# Define a new feature 'score' and calculate its value with weighted_rating()\n",
        "weighted_rating_df['score'] = weighted_rating_df.apply(weighted_rating, axis=1)\n",
        ""
      ]
    },
    {
      "cell_type": "code",
      "execution_count": null,
      "metadata": {
        "colab": {
          "base_uri": "https://localhost:8080/",
          "height": 363
        },
        "id": "GwrZQSSpmlWp",
        "outputId": "78f39870-1143-421e-fb5a-b03080ff2937"
      },
      "outputs": [
        {
          "output_type": "execute_result",
          "data": {
            "text/plain": [
              "              ISBN                                                 Book-Title  \\\n",
              "45823   0439425220  Harry Potter and the Chamber of Secrets Postcard Book       \n",
              "70304   0618002235  The Two Towers (The Lord of the Rings, Part 2)              \n",
              "2638    0060256656  The Giving Tree                                             \n",
              "102335  0836213319  Dilbert: A Book of Postcards                                \n",
              "131090  1888054557  Postmarked Yesteryear: 30 Rare Holiday Postcards            \n",
              "23973   0345339738  The Return of the King (The Lord of the Rings, Part 3)      \n",
              "102428  0836220889  Calvin and Hobbes                                           \n",
              "40331   0394800389  Fox in Socks (I Can Read It All by Myself Beginner Books)   \n",
              "102382  0836218221  The Authoritative Calvin and Hobbes (Calvin and Hobbes)     \n",
              "86316   0743454529  My Sister's Keeper : A Novel (Picoult, Jodi)                \n",
              "\n",
              "                       Book-Author  Average Rating  Number of Votes     score  \n",
              "45823   J. K. Rowling               9.869565        23               9.522671  \n",
              "70304   J. R. R. Tolkien            9.720000        25               9.417660  \n",
              "2638    Shel Silverstein            9.750000        20               9.379672  \n",
              "102335  Scott Adams                 9.923077        13               9.359537  \n",
              "131090  Pamela E. Apkarian-Russell  10.000000       11               9.340809  \n",
              "23973   J.R.R. TOLKIEN              9.402597        77               9.310026  \n",
              "102428  Bill Watterson              9.583333        24               9.289719  \n",
              "40331   Dr. Seuss                   9.785714        14               9.284007  \n",
              "102382  Bill Watterson              9.600000        20               9.254672  \n",
              "86316   Jodi Picoult                9.545455        22               9.235082  "
            ],
            "text/html": [
              "\n",
              "  <div id=\"df-2f0e1bf2-f95d-436e-9371-59c503635e8d\">\n",
              "    <div class=\"colab-df-container\">\n",
              "      <div>\n",
              "<style scoped>\n",
              "    .dataframe tbody tr th:only-of-type {\n",
              "        vertical-align: middle;\n",
              "    }\n",
              "\n",
              "    .dataframe tbody tr th {\n",
              "        vertical-align: top;\n",
              "    }\n",
              "\n",
              "    .dataframe thead th {\n",
              "        text-align: right;\n",
              "    }\n",
              "</style>\n",
              "<table border=\"1\" class=\"dataframe\">\n",
              "  <thead>\n",
              "    <tr style=\"text-align: right;\">\n",
              "      <th></th>\n",
              "      <th>ISBN</th>\n",
              "      <th>Book-Title</th>\n",
              "      <th>Book-Author</th>\n",
              "      <th>Average Rating</th>\n",
              "      <th>Number of Votes</th>\n",
              "      <th>score</th>\n",
              "    </tr>\n",
              "  </thead>\n",
              "  <tbody>\n",
              "    <tr>\n",
              "      <th>45823</th>\n",
              "      <td>0439425220</td>\n",
              "      <td>Harry Potter and the Chamber of Secrets Postcard Book</td>\n",
              "      <td>J. K. Rowling</td>\n",
              "      <td>9.869565</td>\n",
              "      <td>23</td>\n",
              "      <td>9.522671</td>\n",
              "    </tr>\n",
              "    <tr>\n",
              "      <th>70304</th>\n",
              "      <td>0618002235</td>\n",
              "      <td>The Two Towers (The Lord of the Rings, Part 2)</td>\n",
              "      <td>J. R. R. Tolkien</td>\n",
              "      <td>9.720000</td>\n",
              "      <td>25</td>\n",
              "      <td>9.417660</td>\n",
              "    </tr>\n",
              "    <tr>\n",
              "      <th>2638</th>\n",
              "      <td>0060256656</td>\n",
              "      <td>The Giving Tree</td>\n",
              "      <td>Shel Silverstein</td>\n",
              "      <td>9.750000</td>\n",
              "      <td>20</td>\n",
              "      <td>9.379672</td>\n",
              "    </tr>\n",
              "    <tr>\n",
              "      <th>102335</th>\n",
              "      <td>0836213319</td>\n",
              "      <td>Dilbert: A Book of Postcards</td>\n",
              "      <td>Scott Adams</td>\n",
              "      <td>9.923077</td>\n",
              "      <td>13</td>\n",
              "      <td>9.359537</td>\n",
              "    </tr>\n",
              "    <tr>\n",
              "      <th>131090</th>\n",
              "      <td>1888054557</td>\n",
              "      <td>Postmarked Yesteryear: 30 Rare Holiday Postcards</td>\n",
              "      <td>Pamela E. Apkarian-Russell</td>\n",
              "      <td>10.000000</td>\n",
              "      <td>11</td>\n",
              "      <td>9.340809</td>\n",
              "    </tr>\n",
              "    <tr>\n",
              "      <th>23973</th>\n",
              "      <td>0345339738</td>\n",
              "      <td>The Return of the King (The Lord of the Rings, Part 3)</td>\n",
              "      <td>J.R.R. TOLKIEN</td>\n",
              "      <td>9.402597</td>\n",
              "      <td>77</td>\n",
              "      <td>9.310026</td>\n",
              "    </tr>\n",
              "    <tr>\n",
              "      <th>102428</th>\n",
              "      <td>0836220889</td>\n",
              "      <td>Calvin and Hobbes</td>\n",
              "      <td>Bill Watterson</td>\n",
              "      <td>9.583333</td>\n",
              "      <td>24</td>\n",
              "      <td>9.289719</td>\n",
              "    </tr>\n",
              "    <tr>\n",
              "      <th>40331</th>\n",
              "      <td>0394800389</td>\n",
              "      <td>Fox in Socks (I Can Read It All by Myself Beginner Books)</td>\n",
              "      <td>Dr. Seuss</td>\n",
              "      <td>9.785714</td>\n",
              "      <td>14</td>\n",
              "      <td>9.284007</td>\n",
              "    </tr>\n",
              "    <tr>\n",
              "      <th>102382</th>\n",
              "      <td>0836218221</td>\n",
              "      <td>The Authoritative Calvin and Hobbes (Calvin and Hobbes)</td>\n",
              "      <td>Bill Watterson</td>\n",
              "      <td>9.600000</td>\n",
              "      <td>20</td>\n",
              "      <td>9.254672</td>\n",
              "    </tr>\n",
              "    <tr>\n",
              "      <th>86316</th>\n",
              "      <td>0743454529</td>\n",
              "      <td>My Sister's Keeper : A Novel (Picoult, Jodi)</td>\n",
              "      <td>Jodi Picoult</td>\n",
              "      <td>9.545455</td>\n",
              "      <td>22</td>\n",
              "      <td>9.235082</td>\n",
              "    </tr>\n",
              "  </tbody>\n",
              "</table>\n",
              "</div>\n",
              "      <button class=\"colab-df-convert\" onclick=\"convertToInteractive('df-2f0e1bf2-f95d-436e-9371-59c503635e8d')\"\n",
              "              title=\"Convert this dataframe to an interactive table.\"\n",
              "              style=\"display:none;\">\n",
              "        \n",
              "  <svg xmlns=\"http://www.w3.org/2000/svg\" height=\"24px\"viewBox=\"0 0 24 24\"\n",
              "       width=\"24px\">\n",
              "    <path d=\"M0 0h24v24H0V0z\" fill=\"none\"/>\n",
              "    <path d=\"M18.56 5.44l.94 2.06.94-2.06 2.06-.94-2.06-.94-.94-2.06-.94 2.06-2.06.94zm-11 1L8.5 8.5l.94-2.06 2.06-.94-2.06-.94L8.5 2.5l-.94 2.06-2.06.94zm10 10l.94 2.06.94-2.06 2.06-.94-2.06-.94-.94-2.06-.94 2.06-2.06.94z\"/><path d=\"M17.41 7.96l-1.37-1.37c-.4-.4-.92-.59-1.43-.59-.52 0-1.04.2-1.43.59L10.3 9.45l-7.72 7.72c-.78.78-.78 2.05 0 2.83L4 21.41c.39.39.9.59 1.41.59.51 0 1.02-.2 1.41-.59l7.78-7.78 2.81-2.81c.8-.78.8-2.07 0-2.86zM5.41 20L4 18.59l7.72-7.72 1.47 1.35L5.41 20z\"/>\n",
              "  </svg>\n",
              "      </button>\n",
              "      \n",
              "  <style>\n",
              "    .colab-df-container {\n",
              "      display:flex;\n",
              "      flex-wrap:wrap;\n",
              "      gap: 12px;\n",
              "    }\n",
              "\n",
              "    .colab-df-convert {\n",
              "      background-color: #E8F0FE;\n",
              "      border: none;\n",
              "      border-radius: 50%;\n",
              "      cursor: pointer;\n",
              "      display: none;\n",
              "      fill: #1967D2;\n",
              "      height: 32px;\n",
              "      padding: 0 0 0 0;\n",
              "      width: 32px;\n",
              "    }\n",
              "\n",
              "    .colab-df-convert:hover {\n",
              "      background-color: #E2EBFA;\n",
              "      box-shadow: 0px 1px 2px rgba(60, 64, 67, 0.3), 0px 1px 3px 1px rgba(60, 64, 67, 0.15);\n",
              "      fill: #174EA6;\n",
              "    }\n",
              "\n",
              "    [theme=dark] .colab-df-convert {\n",
              "      background-color: #3B4455;\n",
              "      fill: #D2E3FC;\n",
              "    }\n",
              "\n",
              "    [theme=dark] .colab-df-convert:hover {\n",
              "      background-color: #434B5C;\n",
              "      box-shadow: 0px 1px 3px 1px rgba(0, 0, 0, 0.15);\n",
              "      filter: drop-shadow(0px 1px 2px rgba(0, 0, 0, 0.3));\n",
              "      fill: #FFFFFF;\n",
              "    }\n",
              "  </style>\n",
              "\n",
              "      <script>\n",
              "        const buttonEl =\n",
              "          document.querySelector('#df-2f0e1bf2-f95d-436e-9371-59c503635e8d button.colab-df-convert');\n",
              "        buttonEl.style.display =\n",
              "          google.colab.kernel.accessAllowed ? 'block' : 'none';\n",
              "\n",
              "        async function convertToInteractive(key) {\n",
              "          const element = document.querySelector('#df-2f0e1bf2-f95d-436e-9371-59c503635e8d');\n",
              "          const dataTable =\n",
              "            await google.colab.kernel.invokeFunction('convertToInteractive',\n",
              "                                                     [key], {});\n",
              "          if (!dataTable) return;\n",
              "\n",
              "          const docLinkHtml = 'Like what you see? Visit the ' +\n",
              "            '<a target=\"_blank\" href=https://colab.research.google.com/notebooks/data_table.ipynb>data table notebook</a>'\n",
              "            + ' to learn more about interactive tables.';\n",
              "          element.innerHTML = '';\n",
              "          dataTable['output_type'] = 'display_data';\n",
              "          await google.colab.output.renderOutput(dataTable, element);\n",
              "          const docLink = document.createElement('div');\n",
              "          docLink.innerHTML = docLinkHtml;\n",
              "          element.appendChild(docLink);\n",
              "        }\n",
              "      </script>\n",
              "    </div>\n",
              "  </div>\n",
              "  "
            ]
          },
          "metadata": {},
          "execution_count": 80
        }
      ],
      "source": [
        "#Sort books based on score calculated above\n",
        "weighted_rating_df.sort_values('score', ascending=False,inplace=True)\n",
        "\n",
        "#Print the top 15 books\n",
        "weighted_rating_df[[\"ISBN\",'Book-Title',\"Book-Author\", 'Average Rating', 'Number of Votes', 'score']].head(10)"
      ]
    },
    {
      "cell_type": "markdown",
      "metadata": {
        "id": "imbS-ZI7mqP9"
      },
      "source": [
        "**Now let's create variables to store book name and number of books to recommend. This input shall be used in the coming models.**"
      ]
    },
    {
      "cell_type": "code",
      "execution_count": null,
      "metadata": {
        "id": "zJCZqpMVmvwO",
        "colab": {
          "base_uri": "https://localhost:8080/"
        },
        "outputId": "6fae70ed-8495-4bee-bf49-c643d5f4f6b7"
      },
      "outputs": [
        {
          "name": "stdout",
          "output_type": "stream",
          "text": [
            "Enter a book name: Harry Potter and the Chamber of Secrets (Book 2)\n",
            "Enter number of books to recommend: 10\n"
          ]
        }
      ],
      "source": [
        "#get book name and number of books to recommend\n",
        "book_name = input(\"Enter a book name: \")\n",
        "number = int(input(\"Enter number of books to recommend: \"))"
      ]
    },
    {
      "cell_type": "markdown",
      "metadata": {
        "id": "KWnYoL3bxCSo"
      },
      "source": [
        "**3.Collaborative Recommendation - k-Nearest Neighbors**"
      ]
    },
    {
      "cell_type": "markdown",
      "metadata": {
        "id": "7lVToutZxIW-"
      },
      "source": [
        "We will create recommendation system using KNN algorithm."
      ]
    },
    {
      "cell_type": "code",
      "execution_count": null,
      "metadata": {
        "id": "_SdvgSggxL3l",
        "colab": {
          "base_uri": "https://localhost:8080/"
        },
        "outputId": "e4c7708a-0286-4a9a-9b13-5757a2e78165"
      },
      "outputs": [
        {
          "output_type": "execute_result",
          "data": {
            "text/plain": [
              "(378257, 11)"
            ]
          },
          "metadata": {},
          "execution_count": 82
        }
      ],
      "source": [
        "#Checking shape\n",
        "df.shape\n",
        ""
      ]
    },
    {
      "cell_type": "code",
      "execution_count": null,
      "metadata": {
        "id": "9bmIe4TixSw9",
        "colab": {
          "base_uri": "https://localhost:8080/"
        },
        "outputId": "38c8df56-c777-477d-dded-c85139dd877b"
      },
      "outputs": [
        {
          "output_type": "stream",
          "name": "stdout",
          "text": [
            "Shape of final_dataset: (100549, 11)\n"
          ]
        }
      ],
      "source": [
        "# Filtering Users with atleast 100 interactions\n",
        "criteria=df['User-ID'].value_counts()>100\n",
        "#Storing index filtered users\n",
        "criteria=criteria[criteria].index\n",
        "#Subset of df with filtered users\n",
        "final_dataset=df[df['User-ID'].isin(criteria)]\n",
        "print(\"Shape of final_dataset:\",final_dataset.shape)"
      ]
    },
    {
      "cell_type": "code",
      "execution_count": null,
      "metadata": {
        "id": "D-R0QSKuxXcC",
        "colab": {
          "base_uri": "https://localhost:8080/",
          "height": 372
        },
        "outputId": "f807b8b6-4cb6-4612-9189-670d4a3b6cad"
      },
      "outputs": [
        {
          "output_type": "stream",
          "name": "stdout",
          "text": [
            "Shape of final_dataset: (100549, 11)\n"
          ]
        },
        {
          "output_type": "execute_result",
          "data": {
            "text/plain": [
              "         ISBN              Book-Title Book-Author  Year-Of-Publication  \\\n",
              "1  0399135782  The Kitchen God's Wife  Amy Tan     1991                  \n",
              "2  080410753X  The Kitchen God's Wife  Amy Tan     1992                  \n",
              "3  080410753X  The Kitchen God's Wife  Amy Tan     1992                  \n",
              "4  0399135782  The Kitchen God's Wife  Amy Tan     1991                  \n",
              "5  0399135782  The Kitchen God's Wife  Amy Tan     1991                  \n",
              "\n",
              "          Publisher  User-ID  Book-Rating  Age              City       State  \\\n",
              "1  Putnam Pub Group  11676    9            32   other             other        \n",
              "2  Ivy Books         11676    8            32   other             other        \n",
              "3  Ivy Books         110912   9            36   milpitas          california   \n",
              "4  Putnam Pub Group  46398    9            37   san antonio       texas        \n",
              "5  Putnam Pub Group  230522   7            52   colorado springs  colorado     \n",
              "\n",
              "  Country  Number-of-Ratings  \n",
              "1  other   18                 \n",
              "2  other   18                 \n",
              "3  usa     18                 \n",
              "4  usa     18                 \n",
              "5  usa     18                 "
            ],
            "text/html": [
              "\n",
              "  <div id=\"df-c2483bb9-8a23-4608-aeda-216ebd82f6b0\">\n",
              "    <div class=\"colab-df-container\">\n",
              "      <div>\n",
              "<style scoped>\n",
              "    .dataframe tbody tr th:only-of-type {\n",
              "        vertical-align: middle;\n",
              "    }\n",
              "\n",
              "    .dataframe tbody tr th {\n",
              "        vertical-align: top;\n",
              "    }\n",
              "\n",
              "    .dataframe thead th {\n",
              "        text-align: right;\n",
              "    }\n",
              "</style>\n",
              "<table border=\"1\" class=\"dataframe\">\n",
              "  <thead>\n",
              "    <tr style=\"text-align: right;\">\n",
              "      <th></th>\n",
              "      <th>ISBN</th>\n",
              "      <th>Book-Title</th>\n",
              "      <th>Book-Author</th>\n",
              "      <th>Year-Of-Publication</th>\n",
              "      <th>Publisher</th>\n",
              "      <th>User-ID</th>\n",
              "      <th>Book-Rating</th>\n",
              "      <th>Age</th>\n",
              "      <th>City</th>\n",
              "      <th>State</th>\n",
              "      <th>Country</th>\n",
              "      <th>Number-of-Ratings</th>\n",
              "    </tr>\n",
              "  </thead>\n",
              "  <tbody>\n",
              "    <tr>\n",
              "      <th>1</th>\n",
              "      <td>0399135782</td>\n",
              "      <td>The Kitchen God's Wife</td>\n",
              "      <td>Amy Tan</td>\n",
              "      <td>1991</td>\n",
              "      <td>Putnam Pub Group</td>\n",
              "      <td>11676</td>\n",
              "      <td>9</td>\n",
              "      <td>32</td>\n",
              "      <td>other</td>\n",
              "      <td>other</td>\n",
              "      <td>other</td>\n",
              "      <td>18</td>\n",
              "    </tr>\n",
              "    <tr>\n",
              "      <th>2</th>\n",
              "      <td>080410753X</td>\n",
              "      <td>The Kitchen God's Wife</td>\n",
              "      <td>Amy Tan</td>\n",
              "      <td>1992</td>\n",
              "      <td>Ivy Books</td>\n",
              "      <td>11676</td>\n",
              "      <td>8</td>\n",
              "      <td>32</td>\n",
              "      <td>other</td>\n",
              "      <td>other</td>\n",
              "      <td>other</td>\n",
              "      <td>18</td>\n",
              "    </tr>\n",
              "    <tr>\n",
              "      <th>3</th>\n",
              "      <td>080410753X</td>\n",
              "      <td>The Kitchen God's Wife</td>\n",
              "      <td>Amy Tan</td>\n",
              "      <td>1992</td>\n",
              "      <td>Ivy Books</td>\n",
              "      <td>110912</td>\n",
              "      <td>9</td>\n",
              "      <td>36</td>\n",
              "      <td>milpitas</td>\n",
              "      <td>california</td>\n",
              "      <td>usa</td>\n",
              "      <td>18</td>\n",
              "    </tr>\n",
              "    <tr>\n",
              "      <th>4</th>\n",
              "      <td>0399135782</td>\n",
              "      <td>The Kitchen God's Wife</td>\n",
              "      <td>Amy Tan</td>\n",
              "      <td>1991</td>\n",
              "      <td>Putnam Pub Group</td>\n",
              "      <td>46398</td>\n",
              "      <td>9</td>\n",
              "      <td>37</td>\n",
              "      <td>san antonio</td>\n",
              "      <td>texas</td>\n",
              "      <td>usa</td>\n",
              "      <td>18</td>\n",
              "    </tr>\n",
              "    <tr>\n",
              "      <th>5</th>\n",
              "      <td>0399135782</td>\n",
              "      <td>The Kitchen God's Wife</td>\n",
              "      <td>Amy Tan</td>\n",
              "      <td>1991</td>\n",
              "      <td>Putnam Pub Group</td>\n",
              "      <td>230522</td>\n",
              "      <td>7</td>\n",
              "      <td>52</td>\n",
              "      <td>colorado springs</td>\n",
              "      <td>colorado</td>\n",
              "      <td>usa</td>\n",
              "      <td>18</td>\n",
              "    </tr>\n",
              "  </tbody>\n",
              "</table>\n",
              "</div>\n",
              "      <button class=\"colab-df-convert\" onclick=\"convertToInteractive('df-c2483bb9-8a23-4608-aeda-216ebd82f6b0')\"\n",
              "              title=\"Convert this dataframe to an interactive table.\"\n",
              "              style=\"display:none;\">\n",
              "        \n",
              "  <svg xmlns=\"http://www.w3.org/2000/svg\" height=\"24px\"viewBox=\"0 0 24 24\"\n",
              "       width=\"24px\">\n",
              "    <path d=\"M0 0h24v24H0V0z\" fill=\"none\"/>\n",
              "    <path d=\"M18.56 5.44l.94 2.06.94-2.06 2.06-.94-2.06-.94-.94-2.06-.94 2.06-2.06.94zm-11 1L8.5 8.5l.94-2.06 2.06-.94-2.06-.94L8.5 2.5l-.94 2.06-2.06.94zm10 10l.94 2.06.94-2.06 2.06-.94-2.06-.94-.94-2.06-.94 2.06-2.06.94z\"/><path d=\"M17.41 7.96l-1.37-1.37c-.4-.4-.92-.59-1.43-.59-.52 0-1.04.2-1.43.59L10.3 9.45l-7.72 7.72c-.78.78-.78 2.05 0 2.83L4 21.41c.39.39.9.59 1.41.59.51 0 1.02-.2 1.41-.59l7.78-7.78 2.81-2.81c.8-.78.8-2.07 0-2.86zM5.41 20L4 18.59l7.72-7.72 1.47 1.35L5.41 20z\"/>\n",
              "  </svg>\n",
              "      </button>\n",
              "      \n",
              "  <style>\n",
              "    .colab-df-container {\n",
              "      display:flex;\n",
              "      flex-wrap:wrap;\n",
              "      gap: 12px;\n",
              "    }\n",
              "\n",
              "    .colab-df-convert {\n",
              "      background-color: #E8F0FE;\n",
              "      border: none;\n",
              "      border-radius: 50%;\n",
              "      cursor: pointer;\n",
              "      display: none;\n",
              "      fill: #1967D2;\n",
              "      height: 32px;\n",
              "      padding: 0 0 0 0;\n",
              "      width: 32px;\n",
              "    }\n",
              "\n",
              "    .colab-df-convert:hover {\n",
              "      background-color: #E2EBFA;\n",
              "      box-shadow: 0px 1px 2px rgba(60, 64, 67, 0.3), 0px 1px 3px 1px rgba(60, 64, 67, 0.15);\n",
              "      fill: #174EA6;\n",
              "    }\n",
              "\n",
              "    [theme=dark] .colab-df-convert {\n",
              "      background-color: #3B4455;\n",
              "      fill: #D2E3FC;\n",
              "    }\n",
              "\n",
              "    [theme=dark] .colab-df-convert:hover {\n",
              "      background-color: #434B5C;\n",
              "      box-shadow: 0px 1px 3px 1px rgba(0, 0, 0, 0.15);\n",
              "      filter: drop-shadow(0px 1px 2px rgba(0, 0, 0, 0.3));\n",
              "      fill: #FFFFFF;\n",
              "    }\n",
              "  </style>\n",
              "\n",
              "      <script>\n",
              "        const buttonEl =\n",
              "          document.querySelector('#df-c2483bb9-8a23-4608-aeda-216ebd82f6b0 button.colab-df-convert');\n",
              "        buttonEl.style.display =\n",
              "          google.colab.kernel.accessAllowed ? 'block' : 'none';\n",
              "\n",
              "        async function convertToInteractive(key) {\n",
              "          const element = document.querySelector('#df-c2483bb9-8a23-4608-aeda-216ebd82f6b0');\n",
              "          const dataTable =\n",
              "            await google.colab.kernel.invokeFunction('convertToInteractive',\n",
              "                                                     [key], {});\n",
              "          if (!dataTable) return;\n",
              "\n",
              "          const docLinkHtml = 'Like what you see? Visit the ' +\n",
              "            '<a target=\"_blank\" href=https://colab.research.google.com/notebooks/data_table.ipynb>data table notebook</a>'\n",
              "            + ' to learn more about interactive tables.';\n",
              "          element.innerHTML = '';\n",
              "          dataTable['output_type'] = 'display_data';\n",
              "          await google.colab.output.renderOutput(dataTable, element);\n",
              "          const docLink = document.createElement('div');\n",
              "          docLink.innerHTML = docLinkHtml;\n",
              "          element.appendChild(docLink);\n",
              "        }\n",
              "      </script>\n",
              "    </div>\n",
              "  </div>\n",
              "  "
            ]
          },
          "metadata": {},
          "execution_count": 84
        }
      ],
      "source": [
        "#Obtaining number of ratings for each books\n",
        "number_rating=final_dataset.groupby('Book-Title')['Book-Rating'].count().reset_index()\n",
        "number_rating.rename(columns={\"Book-Rating\":\"Number-of-Ratings\"},inplace=True)\n",
        "#Merging with final dataset\n",
        "final_rating = final_dataset.merge(number_rating, on=\"Book-Title\")\n",
        "\n",
        "## Filtering books with atleast 5 ratings\n",
        "final_rating=final_rating[final_rating['Number-of-Ratings']>=5]\n",
        "print(\"Shape of final_dataset:\",final_dataset.shape)\n",
        "final_rating.head()"
      ]
    },
    {
      "cell_type": "code",
      "execution_count": null,
      "metadata": {
        "id": "AHWfHcDJxce7",
        "colab": {
          "base_uri": "https://localhost:8080/",
          "height": 568
        },
        "outputId": "79611bc3-2704-49a0-9a86-169684400e6d"
      },
      "outputs": [
        {
          "output_type": "execute_result",
          "data": {
            "text/plain": [
              "User-ID                                                            2033  2110  \\\n",
              "Book-Title                                                                      \n",
              "'Salem's Lot                                                       0.0   0.0    \n",
              "10 Lb. Penalty                                                     0.0   0.0    \n",
              "101 Dalmatians                                                     0.0   0.0    \n",
              "16 Lighthouse Road                                                 0.0   0.0    \n",
              "1984                                                               0.0   0.0    \n",
              "...                                                                ...   ...    \n",
              "Zen and the Art of Motorcycle Maintenance: An Inquiry into Values  0.0   0.0    \n",
              "Zombies of the Gene Pool                                           0.0   0.0    \n",
              "Zoya                                                               0.0   0.0    \n",
              "\\O\\\" Is for Outlaw\"                                                0.0   0.0    \n",
              "stardust                                                           0.0   0.0    \n",
              "\n",
              "User-ID                                                            2276  4017  \\\n",
              "Book-Title                                                                      \n",
              "'Salem's Lot                                                       0.0   0.0    \n",
              "10 Lb. Penalty                                                     0.0   0.0    \n",
              "101 Dalmatians                                                     0.0   0.0    \n",
              "16 Lighthouse Road                                                 0.0   0.0    \n",
              "1984                                                               0.0   0.0    \n",
              "...                                                                ...   ...    \n",
              "Zen and the Art of Motorcycle Maintenance: An Inquiry into Values  0.0   0.0    \n",
              "Zombies of the Gene Pool                                           10.0  0.0    \n",
              "Zoya                                                               0.0   0.0    \n",
              "\\O\\\" Is for Outlaw\"                                                0.0   0.0    \n",
              "stardust                                                           0.0   0.0    \n",
              "\n",
              "User-ID                                                            4385  5582  \\\n",
              "Book-Title                                                                      \n",
              "'Salem's Lot                                                       0.0   0.0    \n",
              "10 Lb. Penalty                                                     0.0   0.0    \n",
              "101 Dalmatians                                                     0.0   0.0    \n",
              "16 Lighthouse Road                                                 0.0   0.0    \n",
              "1984                                                               0.0   0.0    \n",
              "...                                                                ...   ...    \n",
              "Zen and the Art of Motorcycle Maintenance: An Inquiry into Values  0.0   0.0    \n",
              "Zombies of the Gene Pool                                           0.0   0.0    \n",
              "Zoya                                                               0.0   0.0    \n",
              "\\O\\\" Is for Outlaw\"                                                0.0   0.0    \n",
              "stardust                                                           0.0   0.0    \n",
              "\n",
              "User-ID                                                            6242  6251  \\\n",
              "Book-Title                                                                      \n",
              "'Salem's Lot                                                       0.0   0.0    \n",
              "10 Lb. Penalty                                                     0.0   0.0    \n",
              "101 Dalmatians                                                     0.0   0.0    \n",
              "16 Lighthouse Road                                                 0.0   0.0    \n",
              "1984                                                               0.0   0.0    \n",
              "...                                                                ...   ...    \n",
              "Zen and the Art of Motorcycle Maintenance: An Inquiry into Values  0.0   0.0    \n",
              "Zombies of the Gene Pool                                           0.0   0.0    \n",
              "Zoya                                                               0.0   0.0    \n",
              "\\O\\\" Is for Outlaw\"                                                0.0   0.0    \n",
              "stardust                                                           0.0   0.0    \n",
              "\n",
              "User-ID                                                            6543  6575  \\\n",
              "Book-Title                                                                      \n",
              "'Salem's Lot                                                       0.0   0.0    \n",
              "10 Lb. Penalty                                                     0.0   0.0    \n",
              "101 Dalmatians                                                     0.0   0.0    \n",
              "16 Lighthouse Road                                                 0.0   0.0    \n",
              "1984                                                               0.0   0.0    \n",
              "...                                                                ...   ...    \n",
              "Zen and the Art of Motorcycle Maintenance: An Inquiry into Values  0.0   0.0    \n",
              "Zombies of the Gene Pool                                           0.0   0.0    \n",
              "Zoya                                                               0.0   0.0    \n",
              "\\O\\\" Is for Outlaw\"                                                0.0   0.0    \n",
              "stardust                                                           0.0   0.0    \n",
              "\n",
              "User-ID                                                            ...  \\\n",
              "Book-Title                                                         ...   \n",
              "'Salem's Lot                                                       ...   \n",
              "10 Lb. Penalty                                                     ...   \n",
              "101 Dalmatians                                                     ...   \n",
              "16 Lighthouse Road                                                 ...   \n",
              "1984                                                               ...   \n",
              "...                                                                ...   \n",
              "Zen and the Art of Motorcycle Maintenance: An Inquiry into Values  ...   \n",
              "Zombies of the Gene Pool                                           ...   \n",
              "Zoya                                                               ...   \n",
              "\\O\\\" Is for Outlaw\"                                                ...   \n",
              "stardust                                                           ...   \n",
              "\n",
              "User-ID                                                            269566  \\\n",
              "Book-Title                                                                  \n",
              "'Salem's Lot                                                       0.0      \n",
              "10 Lb. Penalty                                                     0.0      \n",
              "101 Dalmatians                                                     0.0      \n",
              "16 Lighthouse Road                                                 0.0      \n",
              "1984                                                               0.0      \n",
              "...                                                                ...      \n",
              "Zen and the Art of Motorcycle Maintenance: An Inquiry into Values  0.0      \n",
              "Zombies of the Gene Pool                                           0.0      \n",
              "Zoya                                                               0.0      \n",
              "\\O\\\" Is for Outlaw\"                                                0.0      \n",
              "stardust                                                           0.0      \n",
              "\n",
              "User-ID                                                            270713  \\\n",
              "Book-Title                                                                  \n",
              "'Salem's Lot                                                       0.0      \n",
              "10 Lb. Penalty                                                     0.0      \n",
              "101 Dalmatians                                                     0.0      \n",
              "16 Lighthouse Road                                                 0.0      \n",
              "1984                                                               0.0      \n",
              "...                                                                ...      \n",
              "Zen and the Art of Motorcycle Maintenance: An Inquiry into Values  0.0      \n",
              "Zombies of the Gene Pool                                           0.0      \n",
              "Zoya                                                               0.0      \n",
              "\\O\\\" Is for Outlaw\"                                                0.0      \n",
              "stardust                                                           0.0      \n",
              "\n",
              "User-ID                                                            271448  \\\n",
              "Book-Title                                                                  \n",
              "'Salem's Lot                                                       0.0      \n",
              "10 Lb. Penalty                                                     0.0      \n",
              "101 Dalmatians                                                     0.0      \n",
              "16 Lighthouse Road                                                 0.0      \n",
              "1984                                                               0.0      \n",
              "...                                                                ...      \n",
              "Zen and the Art of Motorcycle Maintenance: An Inquiry into Values  0.0      \n",
              "Zombies of the Gene Pool                                           0.0      \n",
              "Zoya                                                               0.0      \n",
              "\\O\\\" Is for Outlaw\"                                                0.0      \n",
              "stardust                                                           0.0      \n",
              "\n",
              "User-ID                                                            271705  \\\n",
              "Book-Title                                                                  \n",
              "'Salem's Lot                                                       0.0      \n",
              "10 Lb. Penalty                                                     0.0      \n",
              "101 Dalmatians                                                     0.0      \n",
              "16 Lighthouse Road                                                 0.0      \n",
              "1984                                                               10.0     \n",
              "...                                                                ...      \n",
              "Zen and the Art of Motorcycle Maintenance: An Inquiry into Values  0.0      \n",
              "Zombies of the Gene Pool                                           0.0      \n",
              "Zoya                                                               0.0      \n",
              "\\O\\\" Is for Outlaw\"                                                0.0      \n",
              "stardust                                                           0.0      \n",
              "\n",
              "User-ID                                                            273113  \\\n",
              "Book-Title                                                                  \n",
              "'Salem's Lot                                                       0.0      \n",
              "10 Lb. Penalty                                                     0.0      \n",
              "101 Dalmatians                                                     0.0      \n",
              "16 Lighthouse Road                                                 0.0      \n",
              "1984                                                               0.0      \n",
              "...                                                                ...      \n",
              "Zen and the Art of Motorcycle Maintenance: An Inquiry into Values  0.0      \n",
              "Zombies of the Gene Pool                                           0.0      \n",
              "Zoya                                                               0.0      \n",
              "\\O\\\" Is for Outlaw\"                                                0.0      \n",
              "stardust                                                           0.0      \n",
              "\n",
              "User-ID                                                            274061  \\\n",
              "Book-Title                                                                  \n",
              "'Salem's Lot                                                       0.0      \n",
              "10 Lb. Penalty                                                     0.0      \n",
              "101 Dalmatians                                                     0.0      \n",
              "16 Lighthouse Road                                                 0.0      \n",
              "1984                                                               0.0      \n",
              "...                                                                ...      \n",
              "Zen and the Art of Motorcycle Maintenance: An Inquiry into Values  0.0      \n",
              "Zombies of the Gene Pool                                           0.0      \n",
              "Zoya                                                               0.0      \n",
              "\\O\\\" Is for Outlaw\"                                                0.0      \n",
              "stardust                                                           0.0      \n",
              "\n",
              "User-ID                                                            274301  \\\n",
              "Book-Title                                                                  \n",
              "'Salem's Lot                                                       0.0      \n",
              "10 Lb. Penalty                                                     0.0      \n",
              "101 Dalmatians                                                     0.0      \n",
              "16 Lighthouse Road                                                 0.0      \n",
              "1984                                                               0.0      \n",
              "...                                                                ...      \n",
              "Zen and the Art of Motorcycle Maintenance: An Inquiry into Values  0.0      \n",
              "Zombies of the Gene Pool                                           0.0      \n",
              "Zoya                                                               0.0      \n",
              "\\O\\\" Is for Outlaw\"                                                8.0      \n",
              "stardust                                                           0.0      \n",
              "\n",
              "User-ID                                                            275970  \\\n",
              "Book-Title                                                                  \n",
              "'Salem's Lot                                                       0.0      \n",
              "10 Lb. Penalty                                                     0.0      \n",
              "101 Dalmatians                                                     0.0      \n",
              "16 Lighthouse Road                                                 0.0      \n",
              "1984                                                               0.0      \n",
              "...                                                                ...      \n",
              "Zen and the Art of Motorcycle Maintenance: An Inquiry into Values  0.0      \n",
              "Zombies of the Gene Pool                                           0.0      \n",
              "Zoya                                                               0.0      \n",
              "\\O\\\" Is for Outlaw\"                                                0.0      \n",
              "stardust                                                           0.0      \n",
              "\n",
              "User-ID                                                            277427  \\\n",
              "Book-Title                                                                  \n",
              "'Salem's Lot                                                       0.0      \n",
              "10 Lb. Penalty                                                     0.0      \n",
              "101 Dalmatians                                                     0.0      \n",
              "16 Lighthouse Road                                                 0.0      \n",
              "1984                                                               0.0      \n",
              "...                                                                ...      \n",
              "Zen and the Art of Motorcycle Maintenance: An Inquiry into Values  0.0      \n",
              "Zombies of the Gene Pool                                           0.0      \n",
              "Zoya                                                               0.0      \n",
              "\\O\\\" Is for Outlaw\"                                                0.0      \n",
              "stardust                                                           0.0      \n",
              "\n",
              "User-ID                                                            278418  \n",
              "Book-Title                                                                 \n",
              "'Salem's Lot                                                       0.0     \n",
              "10 Lb. Penalty                                                     0.0     \n",
              "101 Dalmatians                                                     0.0     \n",
              "16 Lighthouse Road                                                 0.0     \n",
              "1984                                                               0.0     \n",
              "...                                                                ...     \n",
              "Zen and the Art of Motorcycle Maintenance: An Inquiry into Values  0.0     \n",
              "Zombies of the Gene Pool                                           0.0     \n",
              "Zoya                                                               0.0     \n",
              "\\O\\\" Is for Outlaw\"                                                0.0     \n",
              "stardust                                                           0.0     \n",
              "\n",
              "[2833 rows x 428 columns]"
            ],
            "text/html": [
              "\n",
              "  <div id=\"df-ef2cfc59-a3cf-4025-99c2-b624db565e11\">\n",
              "    <div class=\"colab-df-container\">\n",
              "      <div>\n",
              "<style scoped>\n",
              "    .dataframe tbody tr th:only-of-type {\n",
              "        vertical-align: middle;\n",
              "    }\n",
              "\n",
              "    .dataframe tbody tr th {\n",
              "        vertical-align: top;\n",
              "    }\n",
              "\n",
              "    .dataframe thead th {\n",
              "        text-align: right;\n",
              "    }\n",
              "</style>\n",
              "<table border=\"1\" class=\"dataframe\">\n",
              "  <thead>\n",
              "    <tr style=\"text-align: right;\">\n",
              "      <th>User-ID</th>\n",
              "      <th>2033</th>\n",
              "      <th>2110</th>\n",
              "      <th>2276</th>\n",
              "      <th>4017</th>\n",
              "      <th>4385</th>\n",
              "      <th>5582</th>\n",
              "      <th>6242</th>\n",
              "      <th>6251</th>\n",
              "      <th>6543</th>\n",
              "      <th>6575</th>\n",
              "      <th>...</th>\n",
              "      <th>269566</th>\n",
              "      <th>270713</th>\n",
              "      <th>271448</th>\n",
              "      <th>271705</th>\n",
              "      <th>273113</th>\n",
              "      <th>274061</th>\n",
              "      <th>274301</th>\n",
              "      <th>275970</th>\n",
              "      <th>277427</th>\n",
              "      <th>278418</th>\n",
              "    </tr>\n",
              "    <tr>\n",
              "      <th>Book-Title</th>\n",
              "      <th></th>\n",
              "      <th></th>\n",
              "      <th></th>\n",
              "      <th></th>\n",
              "      <th></th>\n",
              "      <th></th>\n",
              "      <th></th>\n",
              "      <th></th>\n",
              "      <th></th>\n",
              "      <th></th>\n",
              "      <th></th>\n",
              "      <th></th>\n",
              "      <th></th>\n",
              "      <th></th>\n",
              "      <th></th>\n",
              "      <th></th>\n",
              "      <th></th>\n",
              "      <th></th>\n",
              "      <th></th>\n",
              "      <th></th>\n",
              "      <th></th>\n",
              "    </tr>\n",
              "  </thead>\n",
              "  <tbody>\n",
              "    <tr>\n",
              "      <th>'Salem's Lot</th>\n",
              "      <td>0.0</td>\n",
              "      <td>0.0</td>\n",
              "      <td>0.0</td>\n",
              "      <td>0.0</td>\n",
              "      <td>0.0</td>\n",
              "      <td>0.0</td>\n",
              "      <td>0.0</td>\n",
              "      <td>0.0</td>\n",
              "      <td>0.0</td>\n",
              "      <td>0.0</td>\n",
              "      <td>...</td>\n",
              "      <td>0.0</td>\n",
              "      <td>0.0</td>\n",
              "      <td>0.0</td>\n",
              "      <td>0.0</td>\n",
              "      <td>0.0</td>\n",
              "      <td>0.0</td>\n",
              "      <td>0.0</td>\n",
              "      <td>0.0</td>\n",
              "      <td>0.0</td>\n",
              "      <td>0.0</td>\n",
              "    </tr>\n",
              "    <tr>\n",
              "      <th>10 Lb. Penalty</th>\n",
              "      <td>0.0</td>\n",
              "      <td>0.0</td>\n",
              "      <td>0.0</td>\n",
              "      <td>0.0</td>\n",
              "      <td>0.0</td>\n",
              "      <td>0.0</td>\n",
              "      <td>0.0</td>\n",
              "      <td>0.0</td>\n",
              "      <td>0.0</td>\n",
              "      <td>0.0</td>\n",
              "      <td>...</td>\n",
              "      <td>0.0</td>\n",
              "      <td>0.0</td>\n",
              "      <td>0.0</td>\n",
              "      <td>0.0</td>\n",
              "      <td>0.0</td>\n",
              "      <td>0.0</td>\n",
              "      <td>0.0</td>\n",
              "      <td>0.0</td>\n",
              "      <td>0.0</td>\n",
              "      <td>0.0</td>\n",
              "    </tr>\n",
              "    <tr>\n",
              "      <th>101 Dalmatians</th>\n",
              "      <td>0.0</td>\n",
              "      <td>0.0</td>\n",
              "      <td>0.0</td>\n",
              "      <td>0.0</td>\n",
              "      <td>0.0</td>\n",
              "      <td>0.0</td>\n",
              "      <td>0.0</td>\n",
              "      <td>0.0</td>\n",
              "      <td>0.0</td>\n",
              "      <td>0.0</td>\n",
              "      <td>...</td>\n",
              "      <td>0.0</td>\n",
              "      <td>0.0</td>\n",
              "      <td>0.0</td>\n",
              "      <td>0.0</td>\n",
              "      <td>0.0</td>\n",
              "      <td>0.0</td>\n",
              "      <td>0.0</td>\n",
              "      <td>0.0</td>\n",
              "      <td>0.0</td>\n",
              "      <td>0.0</td>\n",
              "    </tr>\n",
              "    <tr>\n",
              "      <th>16 Lighthouse Road</th>\n",
              "      <td>0.0</td>\n",
              "      <td>0.0</td>\n",
              "      <td>0.0</td>\n",
              "      <td>0.0</td>\n",
              "      <td>0.0</td>\n",
              "      <td>0.0</td>\n",
              "      <td>0.0</td>\n",
              "      <td>0.0</td>\n",
              "      <td>0.0</td>\n",
              "      <td>0.0</td>\n",
              "      <td>...</td>\n",
              "      <td>0.0</td>\n",
              "      <td>0.0</td>\n",
              "      <td>0.0</td>\n",
              "      <td>0.0</td>\n",
              "      <td>0.0</td>\n",
              "      <td>0.0</td>\n",
              "      <td>0.0</td>\n",
              "      <td>0.0</td>\n",
              "      <td>0.0</td>\n",
              "      <td>0.0</td>\n",
              "    </tr>\n",
              "    <tr>\n",
              "      <th>1984</th>\n",
              "      <td>0.0</td>\n",
              "      <td>0.0</td>\n",
              "      <td>0.0</td>\n",
              "      <td>0.0</td>\n",
              "      <td>0.0</td>\n",
              "      <td>0.0</td>\n",
              "      <td>0.0</td>\n",
              "      <td>0.0</td>\n",
              "      <td>0.0</td>\n",
              "      <td>0.0</td>\n",
              "      <td>...</td>\n",
              "      <td>0.0</td>\n",
              "      <td>0.0</td>\n",
              "      <td>0.0</td>\n",
              "      <td>10.0</td>\n",
              "      <td>0.0</td>\n",
              "      <td>0.0</td>\n",
              "      <td>0.0</td>\n",
              "      <td>0.0</td>\n",
              "      <td>0.0</td>\n",
              "      <td>0.0</td>\n",
              "    </tr>\n",
              "    <tr>\n",
              "      <th>...</th>\n",
              "      <td>...</td>\n",
              "      <td>...</td>\n",
              "      <td>...</td>\n",
              "      <td>...</td>\n",
              "      <td>...</td>\n",
              "      <td>...</td>\n",
              "      <td>...</td>\n",
              "      <td>...</td>\n",
              "      <td>...</td>\n",
              "      <td>...</td>\n",
              "      <td>...</td>\n",
              "      <td>...</td>\n",
              "      <td>...</td>\n",
              "      <td>...</td>\n",
              "      <td>...</td>\n",
              "      <td>...</td>\n",
              "      <td>...</td>\n",
              "      <td>...</td>\n",
              "      <td>...</td>\n",
              "      <td>...</td>\n",
              "      <td>...</td>\n",
              "    </tr>\n",
              "    <tr>\n",
              "      <th>Zen and the Art of Motorcycle Maintenance: An Inquiry into Values</th>\n",
              "      <td>0.0</td>\n",
              "      <td>0.0</td>\n",
              "      <td>0.0</td>\n",
              "      <td>0.0</td>\n",
              "      <td>0.0</td>\n",
              "      <td>0.0</td>\n",
              "      <td>0.0</td>\n",
              "      <td>0.0</td>\n",
              "      <td>0.0</td>\n",
              "      <td>0.0</td>\n",
              "      <td>...</td>\n",
              "      <td>0.0</td>\n",
              "      <td>0.0</td>\n",
              "      <td>0.0</td>\n",
              "      <td>0.0</td>\n",
              "      <td>0.0</td>\n",
              "      <td>0.0</td>\n",
              "      <td>0.0</td>\n",
              "      <td>0.0</td>\n",
              "      <td>0.0</td>\n",
              "      <td>0.0</td>\n",
              "    </tr>\n",
              "    <tr>\n",
              "      <th>Zombies of the Gene Pool</th>\n",
              "      <td>0.0</td>\n",
              "      <td>0.0</td>\n",
              "      <td>10.0</td>\n",
              "      <td>0.0</td>\n",
              "      <td>0.0</td>\n",
              "      <td>0.0</td>\n",
              "      <td>0.0</td>\n",
              "      <td>0.0</td>\n",
              "      <td>0.0</td>\n",
              "      <td>0.0</td>\n",
              "      <td>...</td>\n",
              "      <td>0.0</td>\n",
              "      <td>0.0</td>\n",
              "      <td>0.0</td>\n",
              "      <td>0.0</td>\n",
              "      <td>0.0</td>\n",
              "      <td>0.0</td>\n",
              "      <td>0.0</td>\n",
              "      <td>0.0</td>\n",
              "      <td>0.0</td>\n",
              "      <td>0.0</td>\n",
              "    </tr>\n",
              "    <tr>\n",
              "      <th>Zoya</th>\n",
              "      <td>0.0</td>\n",
              "      <td>0.0</td>\n",
              "      <td>0.0</td>\n",
              "      <td>0.0</td>\n",
              "      <td>0.0</td>\n",
              "      <td>0.0</td>\n",
              "      <td>0.0</td>\n",
              "      <td>0.0</td>\n",
              "      <td>0.0</td>\n",
              "      <td>0.0</td>\n",
              "      <td>...</td>\n",
              "      <td>0.0</td>\n",
              "      <td>0.0</td>\n",
              "      <td>0.0</td>\n",
              "      <td>0.0</td>\n",
              "      <td>0.0</td>\n",
              "      <td>0.0</td>\n",
              "      <td>0.0</td>\n",
              "      <td>0.0</td>\n",
              "      <td>0.0</td>\n",
              "      <td>0.0</td>\n",
              "    </tr>\n",
              "    <tr>\n",
              "      <th>\\O\\\" Is for Outlaw\"</th>\n",
              "      <td>0.0</td>\n",
              "      <td>0.0</td>\n",
              "      <td>0.0</td>\n",
              "      <td>0.0</td>\n",
              "      <td>0.0</td>\n",
              "      <td>0.0</td>\n",
              "      <td>0.0</td>\n",
              "      <td>0.0</td>\n",
              "      <td>0.0</td>\n",
              "      <td>0.0</td>\n",
              "      <td>...</td>\n",
              "      <td>0.0</td>\n",
              "      <td>0.0</td>\n",
              "      <td>0.0</td>\n",
              "      <td>0.0</td>\n",
              "      <td>0.0</td>\n",
              "      <td>0.0</td>\n",
              "      <td>8.0</td>\n",
              "      <td>0.0</td>\n",
              "      <td>0.0</td>\n",
              "      <td>0.0</td>\n",
              "    </tr>\n",
              "    <tr>\n",
              "      <th>stardust</th>\n",
              "      <td>0.0</td>\n",
              "      <td>0.0</td>\n",
              "      <td>0.0</td>\n",
              "      <td>0.0</td>\n",
              "      <td>0.0</td>\n",
              "      <td>0.0</td>\n",
              "      <td>0.0</td>\n",
              "      <td>0.0</td>\n",
              "      <td>0.0</td>\n",
              "      <td>0.0</td>\n",
              "      <td>...</td>\n",
              "      <td>0.0</td>\n",
              "      <td>0.0</td>\n",
              "      <td>0.0</td>\n",
              "      <td>0.0</td>\n",
              "      <td>0.0</td>\n",
              "      <td>0.0</td>\n",
              "      <td>0.0</td>\n",
              "      <td>0.0</td>\n",
              "      <td>0.0</td>\n",
              "      <td>0.0</td>\n",
              "    </tr>\n",
              "  </tbody>\n",
              "</table>\n",
              "<p>2833 rows × 428 columns</p>\n",
              "</div>\n",
              "      <button class=\"colab-df-convert\" onclick=\"convertToInteractive('df-ef2cfc59-a3cf-4025-99c2-b624db565e11')\"\n",
              "              title=\"Convert this dataframe to an interactive table.\"\n",
              "              style=\"display:none;\">\n",
              "        \n",
              "  <svg xmlns=\"http://www.w3.org/2000/svg\" height=\"24px\"viewBox=\"0 0 24 24\"\n",
              "       width=\"24px\">\n",
              "    <path d=\"M0 0h24v24H0V0z\" fill=\"none\"/>\n",
              "    <path d=\"M18.56 5.44l.94 2.06.94-2.06 2.06-.94-2.06-.94-.94-2.06-.94 2.06-2.06.94zm-11 1L8.5 8.5l.94-2.06 2.06-.94-2.06-.94L8.5 2.5l-.94 2.06-2.06.94zm10 10l.94 2.06.94-2.06 2.06-.94-2.06-.94-.94-2.06-.94 2.06-2.06.94z\"/><path d=\"M17.41 7.96l-1.37-1.37c-.4-.4-.92-.59-1.43-.59-.52 0-1.04.2-1.43.59L10.3 9.45l-7.72 7.72c-.78.78-.78 2.05 0 2.83L4 21.41c.39.39.9.59 1.41.59.51 0 1.02-.2 1.41-.59l7.78-7.78 2.81-2.81c.8-.78.8-2.07 0-2.86zM5.41 20L4 18.59l7.72-7.72 1.47 1.35L5.41 20z\"/>\n",
              "  </svg>\n",
              "      </button>\n",
              "      \n",
              "  <style>\n",
              "    .colab-df-container {\n",
              "      display:flex;\n",
              "      flex-wrap:wrap;\n",
              "      gap: 12px;\n",
              "    }\n",
              "\n",
              "    .colab-df-convert {\n",
              "      background-color: #E8F0FE;\n",
              "      border: none;\n",
              "      border-radius: 50%;\n",
              "      cursor: pointer;\n",
              "      display: none;\n",
              "      fill: #1967D2;\n",
              "      height: 32px;\n",
              "      padding: 0 0 0 0;\n",
              "      width: 32px;\n",
              "    }\n",
              "\n",
              "    .colab-df-convert:hover {\n",
              "      background-color: #E2EBFA;\n",
              "      box-shadow: 0px 1px 2px rgba(60, 64, 67, 0.3), 0px 1px 3px 1px rgba(60, 64, 67, 0.15);\n",
              "      fill: #174EA6;\n",
              "    }\n",
              "\n",
              "    [theme=dark] .colab-df-convert {\n",
              "      background-color: #3B4455;\n",
              "      fill: #D2E3FC;\n",
              "    }\n",
              "\n",
              "    [theme=dark] .colab-df-convert:hover {\n",
              "      background-color: #434B5C;\n",
              "      box-shadow: 0px 1px 3px 1px rgba(0, 0, 0, 0.15);\n",
              "      filter: drop-shadow(0px 1px 2px rgba(0, 0, 0, 0.3));\n",
              "      fill: #FFFFFF;\n",
              "    }\n",
              "  </style>\n",
              "\n",
              "      <script>\n",
              "        const buttonEl =\n",
              "          document.querySelector('#df-ef2cfc59-a3cf-4025-99c2-b624db565e11 button.colab-df-convert');\n",
              "        buttonEl.style.display =\n",
              "          google.colab.kernel.accessAllowed ? 'block' : 'none';\n",
              "\n",
              "        async function convertToInteractive(key) {\n",
              "          const element = document.querySelector('#df-ef2cfc59-a3cf-4025-99c2-b624db565e11');\n",
              "          const dataTable =\n",
              "            await google.colab.kernel.invokeFunction('convertToInteractive',\n",
              "                                                     [key], {});\n",
              "          if (!dataTable) return;\n",
              "\n",
              "          const docLinkHtml = 'Like what you see? Visit the ' +\n",
              "            '<a target=\"_blank\" href=https://colab.research.google.com/notebooks/data_table.ipynb>data table notebook</a>'\n",
              "            + ' to learn more about interactive tables.';\n",
              "          element.innerHTML = '';\n",
              "          dataTable['output_type'] = 'display_data';\n",
              "          await google.colab.output.renderOutput(dataTable, element);\n",
              "          const docLink = document.createElement('div');\n",
              "          docLink.innerHTML = docLinkHtml;\n",
              "          element.appendChild(docLink);\n",
              "        }\n",
              "      </script>\n",
              "    </div>\n",
              "  </div>\n",
              "  "
            ]
          },
          "metadata": {},
          "execution_count": 85
        }
      ],
      "source": [
        "#Creating pivot table\n",
        "Book_pivot = final_rating.pivot_table(columns='User-ID',index='Book-Title',values='Book-Rating')\n",
        "#Filling null values with zero\n",
        "Book_pivot.fillna(0, inplace= True)\n",
        "Book_pivot\n",
        ""
      ]
    },
    {
      "cell_type": "code",
      "execution_count": null,
      "metadata": {
        "id": "eBNmdd0mxhbA",
        "colab": {
          "base_uri": "https://localhost:8080/"
        },
        "outputId": "fec4f3f6-fdad-4318-bdfc-13a62bf9b80d"
      },
      "outputs": [
        {
          "output_type": "execute_result",
          "data": {
            "text/plain": [
              "scipy.sparse._csr.csr_matrix"
            ]
          },
          "metadata": {},
          "execution_count": 86
        }
      ],
      "source": [
        "# Converting to sparse matrix\n",
        "from scipy.sparse import csr_matrix\n",
        "book_sparse = csr_matrix(Book_pivot)\n",
        "type(book_sparse)"
      ]
    },
    {
      "cell_type": "code",
      "execution_count": null,
      "metadata": {
        "id": "8oO0fQ_lxkco",
        "colab": {
          "base_uri": "https://localhost:8080/",
          "height": 75
        },
        "outputId": "033287d8-f4e5-44e4-e7ca-8c51a3015aa8"
      },
      "outputs": [
        {
          "output_type": "execute_result",
          "data": {
            "text/plain": [
              "NearestNeighbors(algorithm='brute')"
            ],
            "text/html": [
              "<style>#sk-container-id-1 {color: black;background-color: white;}#sk-container-id-1 pre{padding: 0;}#sk-container-id-1 div.sk-toggleable {background-color: white;}#sk-container-id-1 label.sk-toggleable__label {cursor: pointer;display: block;width: 100%;margin-bottom: 0;padding: 0.3em;box-sizing: border-box;text-align: center;}#sk-container-id-1 label.sk-toggleable__label-arrow:before {content: \"▸\";float: left;margin-right: 0.25em;color: #696969;}#sk-container-id-1 label.sk-toggleable__label-arrow:hover:before {color: black;}#sk-container-id-1 div.sk-estimator:hover label.sk-toggleable__label-arrow:before {color: black;}#sk-container-id-1 div.sk-toggleable__content {max-height: 0;max-width: 0;overflow: hidden;text-align: left;background-color: #f0f8ff;}#sk-container-id-1 div.sk-toggleable__content pre {margin: 0.2em;color: black;border-radius: 0.25em;background-color: #f0f8ff;}#sk-container-id-1 input.sk-toggleable__control:checked~div.sk-toggleable__content {max-height: 200px;max-width: 100%;overflow: auto;}#sk-container-id-1 input.sk-toggleable__control:checked~label.sk-toggleable__label-arrow:before {content: \"▾\";}#sk-container-id-1 div.sk-estimator input.sk-toggleable__control:checked~label.sk-toggleable__label {background-color: #d4ebff;}#sk-container-id-1 div.sk-label input.sk-toggleable__control:checked~label.sk-toggleable__label {background-color: #d4ebff;}#sk-container-id-1 input.sk-hidden--visually {border: 0;clip: rect(1px 1px 1px 1px);clip: rect(1px, 1px, 1px, 1px);height: 1px;margin: -1px;overflow: hidden;padding: 0;position: absolute;width: 1px;}#sk-container-id-1 div.sk-estimator {font-family: monospace;background-color: #f0f8ff;border: 1px dotted black;border-radius: 0.25em;box-sizing: border-box;margin-bottom: 0.5em;}#sk-container-id-1 div.sk-estimator:hover {background-color: #d4ebff;}#sk-container-id-1 div.sk-parallel-item::after {content: \"\";width: 100%;border-bottom: 1px solid gray;flex-grow: 1;}#sk-container-id-1 div.sk-label:hover label.sk-toggleable__label {background-color: #d4ebff;}#sk-container-id-1 div.sk-serial::before {content: \"\";position: absolute;border-left: 1px solid gray;box-sizing: border-box;top: 0;bottom: 0;left: 50%;z-index: 0;}#sk-container-id-1 div.sk-serial {display: flex;flex-direction: column;align-items: center;background-color: white;padding-right: 0.2em;padding-left: 0.2em;position: relative;}#sk-container-id-1 div.sk-item {position: relative;z-index: 1;}#sk-container-id-1 div.sk-parallel {display: flex;align-items: stretch;justify-content: center;background-color: white;position: relative;}#sk-container-id-1 div.sk-item::before, #sk-container-id-1 div.sk-parallel-item::before {content: \"\";position: absolute;border-left: 1px solid gray;box-sizing: border-box;top: 0;bottom: 0;left: 50%;z-index: -1;}#sk-container-id-1 div.sk-parallel-item {display: flex;flex-direction: column;z-index: 1;position: relative;background-color: white;}#sk-container-id-1 div.sk-parallel-item:first-child::after {align-self: flex-end;width: 50%;}#sk-container-id-1 div.sk-parallel-item:last-child::after {align-self: flex-start;width: 50%;}#sk-container-id-1 div.sk-parallel-item:only-child::after {width: 0;}#sk-container-id-1 div.sk-dashed-wrapped {border: 1px dashed gray;margin: 0 0.4em 0.5em 0.4em;box-sizing: border-box;padding-bottom: 0.4em;background-color: white;}#sk-container-id-1 div.sk-label label {font-family: monospace;font-weight: bold;display: inline-block;line-height: 1.2em;}#sk-container-id-1 div.sk-label-container {text-align: center;}#sk-container-id-1 div.sk-container {/* jupyter's `normalize.less` sets `[hidden] { display: none; }` but bootstrap.min.css set `[hidden] { display: none !important; }` so we also need the `!important` here to be able to override the default hidden behavior on the sphinx rendered scikit-learn.org. See: https://github.com/scikit-learn/scikit-learn/issues/21755 */display: inline-block !important;position: relative;}#sk-container-id-1 div.sk-text-repr-fallback {display: none;}</style><div id=\"sk-container-id-1\" class=\"sk-top-container\"><div class=\"sk-text-repr-fallback\"><pre>NearestNeighbors(algorithm=&#x27;brute&#x27;)</pre><b>In a Jupyter environment, please rerun this cell to show the HTML representation or trust the notebook. <br />On GitHub, the HTML representation is unable to render, please try loading this page with nbviewer.org.</b></div><div class=\"sk-container\" hidden><div class=\"sk-item\"><div class=\"sk-estimator sk-toggleable\"><input class=\"sk-toggleable__control sk-hidden--visually\" id=\"sk-estimator-id-1\" type=\"checkbox\" checked><label for=\"sk-estimator-id-1\" class=\"sk-toggleable__label sk-toggleable__label-arrow\">NearestNeighbors</label><div class=\"sk-toggleable__content\"><pre>NearestNeighbors(algorithm=&#x27;brute&#x27;)</pre></div></div></div></div></div>"
            ]
          },
          "metadata": {},
          "execution_count": 87
        }
      ],
      "source": [
        "# Importing the model library\n",
        "from sklearn.neighbors import NearestNeighbors\n",
        "#Creating an instance of KNN\n",
        "KNN_model = NearestNeighbors(algorithm='brute')\n",
        "#Fitting model\n",
        "KNN_model.fit(book_sparse)"
      ]
    },
    {
      "cell_type": "code",
      "execution_count": null,
      "metadata": {
        "id": "8gnn1UeDxr6x"
      },
      "outputs": [],
      "source": [
        "# define fuction for for output\n",
        "def knn_recommendation(bookName,n):\n",
        "\n",
        "  ''' Take input as book name & Returns n book suggestion based on distance'''\n",
        "\n",
        "  print(\"KNN Model Based Recommendations:\\n\")\n",
        "\n",
        "  #Getting bookID\n",
        "  book_id= np.where(Book_pivot.index==bookName)[0][0]\n",
        "  #Storing distances and suggestions\n",
        "  distances, suggestions=KNN_model.kneighbors(Book_pivot.iloc[book_id, :].values.reshape(1,-1),n_neighbors=n+1)\n",
        "  #Flatten the array\n",
        "  suggestions=suggestions.flatten().tolist()\n",
        "  #Empty list to store recommended items\n",
        "  sim_items=[]\n",
        "  for i in range(len(suggestions)):\n",
        "    #If book is same as ser input\n",
        "    if i==0:\n",
        "      print(\"Recommended books for the book\",bookName,\"are:\\n\")\n",
        "    else:\n",
        "      print(Book_pivot.index[suggestions[i]])\n",
        "      #Append recommended books\n",
        "      sim_items.append(Book_pivot.index[suggestions[i]])\n",
        "  return sim_items"
      ]
    },
    {
      "cell_type": "code",
      "execution_count": null,
      "metadata": {
        "id": "Y7UFNc2pxzqg",
        "colab": {
          "base_uri": "https://localhost:8080/"
        },
        "outputId": "3fdf2471-591b-4cbf-a0ed-c0b9180586ae"
      },
      "outputs": [
        {
          "output_type": "stream",
          "name": "stdout",
          "text": [
            "KNN Model Based Recommendations:\n",
            "\n",
            "Recommended books for the book Harry Potter and the Chamber of Secrets (Book 2) are:\n",
            "\n",
            "Harry Potter and the Prisoner of Azkaban (Book 3)\n",
            "Harry Potter and the Goblet of Fire (Book 4)\n",
            "Harry Potter and the Sorcerer's Stone (Harry Potter (Paperback))\n",
            "Harry Potter and the Sorcerer's Stone (Book 1)\n",
            "Dragons of Autumn Twilight (Dragonlance Chronicles, Vol 1)\n",
            "The Shelters of Stone (Earth's Children Series, No 5)\n",
            "Farmer Boy (Little House)\n",
            "The Eye of the World (The Wheel of Time, Book 1)\n",
            "The Secret of the Indian (Indian in the Cupboard)\n",
            "The First Four Years (Little House)\n"
          ]
        }
      ],
      "source": [
        "# Lets try our model\n",
        "knn_rec=knn_recommendation(book_name,number)"
      ]
    },
    {
      "cell_type": "markdown",
      "metadata": {
        "id": "2hlC7wUMx4co"
      },
      "source": [
        "**Now we will implement the same algorithm using the metric cosine.**"
      ]
    },
    {
      "cell_type": "code",
      "execution_count": null,
      "metadata": {
        "id": "dFeF4RtPx9ji",
        "colab": {
          "base_uri": "https://localhost:8080/",
          "height": 75
        },
        "outputId": "b210da6c-b7ed-4f42-cb1f-3368ba2c2b4c"
      },
      "outputs": [
        {
          "output_type": "execute_result",
          "data": {
            "text/plain": [
              "NearestNeighbors(algorithm='brute', metric='cosine')"
            ],
            "text/html": [
              "<style>#sk-container-id-2 {color: black;background-color: white;}#sk-container-id-2 pre{padding: 0;}#sk-container-id-2 div.sk-toggleable {background-color: white;}#sk-container-id-2 label.sk-toggleable__label {cursor: pointer;display: block;width: 100%;margin-bottom: 0;padding: 0.3em;box-sizing: border-box;text-align: center;}#sk-container-id-2 label.sk-toggleable__label-arrow:before {content: \"▸\";float: left;margin-right: 0.25em;color: #696969;}#sk-container-id-2 label.sk-toggleable__label-arrow:hover:before {color: black;}#sk-container-id-2 div.sk-estimator:hover label.sk-toggleable__label-arrow:before {color: black;}#sk-container-id-2 div.sk-toggleable__content {max-height: 0;max-width: 0;overflow: hidden;text-align: left;background-color: #f0f8ff;}#sk-container-id-2 div.sk-toggleable__content pre {margin: 0.2em;color: black;border-radius: 0.25em;background-color: #f0f8ff;}#sk-container-id-2 input.sk-toggleable__control:checked~div.sk-toggleable__content {max-height: 200px;max-width: 100%;overflow: auto;}#sk-container-id-2 input.sk-toggleable__control:checked~label.sk-toggleable__label-arrow:before {content: \"▾\";}#sk-container-id-2 div.sk-estimator input.sk-toggleable__control:checked~label.sk-toggleable__label {background-color: #d4ebff;}#sk-container-id-2 div.sk-label input.sk-toggleable__control:checked~label.sk-toggleable__label {background-color: #d4ebff;}#sk-container-id-2 input.sk-hidden--visually {border: 0;clip: rect(1px 1px 1px 1px);clip: rect(1px, 1px, 1px, 1px);height: 1px;margin: -1px;overflow: hidden;padding: 0;position: absolute;width: 1px;}#sk-container-id-2 div.sk-estimator {font-family: monospace;background-color: #f0f8ff;border: 1px dotted black;border-radius: 0.25em;box-sizing: border-box;margin-bottom: 0.5em;}#sk-container-id-2 div.sk-estimator:hover {background-color: #d4ebff;}#sk-container-id-2 div.sk-parallel-item::after {content: \"\";width: 100%;border-bottom: 1px solid gray;flex-grow: 1;}#sk-container-id-2 div.sk-label:hover label.sk-toggleable__label {background-color: #d4ebff;}#sk-container-id-2 div.sk-serial::before {content: \"\";position: absolute;border-left: 1px solid gray;box-sizing: border-box;top: 0;bottom: 0;left: 50%;z-index: 0;}#sk-container-id-2 div.sk-serial {display: flex;flex-direction: column;align-items: center;background-color: white;padding-right: 0.2em;padding-left: 0.2em;position: relative;}#sk-container-id-2 div.sk-item {position: relative;z-index: 1;}#sk-container-id-2 div.sk-parallel {display: flex;align-items: stretch;justify-content: center;background-color: white;position: relative;}#sk-container-id-2 div.sk-item::before, #sk-container-id-2 div.sk-parallel-item::before {content: \"\";position: absolute;border-left: 1px solid gray;box-sizing: border-box;top: 0;bottom: 0;left: 50%;z-index: -1;}#sk-container-id-2 div.sk-parallel-item {display: flex;flex-direction: column;z-index: 1;position: relative;background-color: white;}#sk-container-id-2 div.sk-parallel-item:first-child::after {align-self: flex-end;width: 50%;}#sk-container-id-2 div.sk-parallel-item:last-child::after {align-self: flex-start;width: 50%;}#sk-container-id-2 div.sk-parallel-item:only-child::after {width: 0;}#sk-container-id-2 div.sk-dashed-wrapped {border: 1px dashed gray;margin: 0 0.4em 0.5em 0.4em;box-sizing: border-box;padding-bottom: 0.4em;background-color: white;}#sk-container-id-2 div.sk-label label {font-family: monospace;font-weight: bold;display: inline-block;line-height: 1.2em;}#sk-container-id-2 div.sk-label-container {text-align: center;}#sk-container-id-2 div.sk-container {/* jupyter's `normalize.less` sets `[hidden] { display: none; }` but bootstrap.min.css set `[hidden] { display: none !important; }` so we also need the `!important` here to be able to override the default hidden behavior on the sphinx rendered scikit-learn.org. See: https://github.com/scikit-learn/scikit-learn/issues/21755 */display: inline-block !important;position: relative;}#sk-container-id-2 div.sk-text-repr-fallback {display: none;}</style><div id=\"sk-container-id-2\" class=\"sk-top-container\"><div class=\"sk-text-repr-fallback\"><pre>NearestNeighbors(algorithm=&#x27;brute&#x27;, metric=&#x27;cosine&#x27;)</pre><b>In a Jupyter environment, please rerun this cell to show the HTML representation or trust the notebook. <br />On GitHub, the HTML representation is unable to render, please try loading this page with nbviewer.org.</b></div><div class=\"sk-container\" hidden><div class=\"sk-item\"><div class=\"sk-estimator sk-toggleable\"><input class=\"sk-toggleable__control sk-hidden--visually\" id=\"sk-estimator-id-2\" type=\"checkbox\" checked><label for=\"sk-estimator-id-2\" class=\"sk-toggleable__label sk-toggleable__label-arrow\">NearestNeighbors</label><div class=\"sk-toggleable__content\"><pre>NearestNeighbors(algorithm=&#x27;brute&#x27;, metric=&#x27;cosine&#x27;)</pre></div></div></div></div></div>"
            ]
          },
          "metadata": {},
          "execution_count": 90
        }
      ],
      "source": [
        "#Creating an instance of KNN\n",
        "cosine_model = NearestNeighbors(metric = 'cosine', algorithm = 'brute')\n",
        "#Fitting model\n",
        "cosine_model.fit(book_sparse)\n",
        ""
      ]
    },
    {
      "cell_type": "code",
      "execution_count": null,
      "metadata": {
        "id": "rp3O03RdyD5L"
      },
      "outputs": [],
      "source": [
        "# define fuction for for output\n",
        "def cosine_similairty_recommendation(bookName,number):\n",
        "\n",
        "  print(\"Cosine Similarity  Based Recommendations:\\n\")\n",
        "  print(\"Recommended books for the book\",bookName,\"are:\\n\")\n",
        "  #Store distances and indices of n neighbors\n",
        "  distances, indices = cosine_model.kneighbors(Book_pivot.loc[bookName].values.reshape(1, -1), n_neighbors = number+1)\n",
        "  #Empty list to store recommended items\n",
        "  sim_items=[]\n",
        "  for i in range(0, len(distances.flatten())):\n",
        "      #Avoiding recommending user input book\n",
        "      if i > 0:\n",
        "        print(Book_pivot.index[indices.flatten()[i]])\n",
        "        #Append recommended items\n",
        "        sim_items.append(Book_pivot.index[indices.flatten()[i]])\n",
        "  return sim_items"
      ]
    },
    {
      "cell_type": "code",
      "execution_count": null,
      "metadata": {
        "id": "h6JIDNSPyIR9",
        "colab": {
          "base_uri": "https://localhost:8080/"
        },
        "outputId": "9d5d0b8c-4d2d-4946-f6e2-bfc98dfd6723"
      },
      "outputs": [
        {
          "output_type": "stream",
          "name": "stdout",
          "text": [
            "Cosine Similarity  Based Recommendations:\n",
            "\n",
            "Recommended books for the book Harry Potter and the Chamber of Secrets (Book 2) are:\n",
            "\n",
            "Harry Potter and the Prisoner of Azkaban (Book 3)\n",
            "Harry Potter and the Goblet of Fire (Book 4)\n",
            "Harry Potter and the Sorcerer's Stone (Harry Potter (Paperback))\n",
            "Harry Potter and the Sorcerer's Stone (Book 1)\n",
            "Harry Potter and the Order of the Phoenix (Book 5)\n",
            "The Fellowship of the Ring (The Lord of the Rings, Part 1)\n",
            "Charlotte's Web (Trophy Newbery)\n",
            "Dragons of Autumn Twilight (Dragonlance Chronicles, Vol 1)\n",
            "Farmer Boy (Little House)\n",
            "The Eye of the World (The Wheel of Time, Book 1)\n"
          ]
        }
      ],
      "source": [
        "#calling function\n",
        "cosine_sim_rec=cosine_similairty_recommendation(book_name,number)"
      ]
    },
    {
      "cell_type": "markdown",
      "metadata": {
        "id": "N74ed-uRyNJw"
      },
      "source": [
        "**5.Collaborative Recommendation - Singular Value Decomposition**"
      ]
    },
    {
      "cell_type": "code",
      "execution_count": null,
      "metadata": {
        "id": "U05Ad8owyRTg"
      },
      "outputs": [],
      "source": [
        "#Importing libraries\n",
        "from sklearn.metrics.pairwise import cosine_similarity\n",
        "from sklearn.model_selection import train_test_split\n",
        "from scipy.sparse.linalg import svds\n",
        "import random\n",
        "import math"
      ]
    },
    {
      "cell_type": "code",
      "execution_count": null,
      "metadata": {
        "id": "x-Jp_GbmyXKo",
        "colab": {
          "base_uri": "https://localhost:8080/"
        },
        "outputId": "e12d8903-4549-484e-a7a2-7c5b29533f35"
      },
      "outputs": [
        {
          "output_type": "execute_result",
          "data": {
            "text/plain": [
              "(378257, 11)"
            ]
          },
          "metadata": {},
          "execution_count": 94
        }
      ],
      "source": [
        "#Filtering books with nonzero ratings\n",
        "explicit_ratings_df = combined_df[combined_df[\"Book-Rating\"] != 0]\n",
        "explicit_ratings_df.shape\n",
        ""
      ]
    },
    {
      "cell_type": "code",
      "execution_count": null,
      "metadata": {
        "id": "ZN9dq16zyZ6p",
        "colab": {
          "base_uri": "https://localhost:8080/",
          "height": 206
        },
        "outputId": "7b280776-81fc-4850-fc1c-cb2f3ebebf00"
      },
      "outputs": [
        {
          "output_type": "execute_result",
          "data": {
            "text/plain": [
              "    User-ID        ISBN                                    Book-Title  \\\n",
              "1   8        0002005018  Clara Callan                                   \n",
              "9   8        074322678X  Where You'll Find Me: And Other Stories        \n",
              "12  8        0887841740  The Middle Stories                             \n",
              "13  8        1552041778  Jane Doe                                       \n",
              "15  8        1567407781  The Witchfinder (Amos Walker Mystery Series)   \n",
              "\n",
              "    Book-Rating  \n",
              "1   5            \n",
              "9   5            \n",
              "12  5            \n",
              "13  5            \n",
              "15  6            "
            ],
            "text/html": [
              "\n",
              "  <div id=\"df-c4ee77de-4807-4168-b6ad-921db649a120\">\n",
              "    <div class=\"colab-df-container\">\n",
              "      <div>\n",
              "<style scoped>\n",
              "    .dataframe tbody tr th:only-of-type {\n",
              "        vertical-align: middle;\n",
              "    }\n",
              "\n",
              "    .dataframe tbody tr th {\n",
              "        vertical-align: top;\n",
              "    }\n",
              "\n",
              "    .dataframe thead th {\n",
              "        text-align: right;\n",
              "    }\n",
              "</style>\n",
              "<table border=\"1\" class=\"dataframe\">\n",
              "  <thead>\n",
              "    <tr style=\"text-align: right;\">\n",
              "      <th></th>\n",
              "      <th>User-ID</th>\n",
              "      <th>ISBN</th>\n",
              "      <th>Book-Title</th>\n",
              "      <th>Book-Rating</th>\n",
              "    </tr>\n",
              "  </thead>\n",
              "  <tbody>\n",
              "    <tr>\n",
              "      <th>1</th>\n",
              "      <td>8</td>\n",
              "      <td>0002005018</td>\n",
              "      <td>Clara Callan</td>\n",
              "      <td>5</td>\n",
              "    </tr>\n",
              "    <tr>\n",
              "      <th>9</th>\n",
              "      <td>8</td>\n",
              "      <td>074322678X</td>\n",
              "      <td>Where You'll Find Me: And Other Stories</td>\n",
              "      <td>5</td>\n",
              "    </tr>\n",
              "    <tr>\n",
              "      <th>12</th>\n",
              "      <td>8</td>\n",
              "      <td>0887841740</td>\n",
              "      <td>The Middle Stories</td>\n",
              "      <td>5</td>\n",
              "    </tr>\n",
              "    <tr>\n",
              "      <th>13</th>\n",
              "      <td>8</td>\n",
              "      <td>1552041778</td>\n",
              "      <td>Jane Doe</td>\n",
              "      <td>5</td>\n",
              "    </tr>\n",
              "    <tr>\n",
              "      <th>15</th>\n",
              "      <td>8</td>\n",
              "      <td>1567407781</td>\n",
              "      <td>The Witchfinder (Amos Walker Mystery Series)</td>\n",
              "      <td>6</td>\n",
              "    </tr>\n",
              "  </tbody>\n",
              "</table>\n",
              "</div>\n",
              "      <button class=\"colab-df-convert\" onclick=\"convertToInteractive('df-c4ee77de-4807-4168-b6ad-921db649a120')\"\n",
              "              title=\"Convert this dataframe to an interactive table.\"\n",
              "              style=\"display:none;\">\n",
              "        \n",
              "  <svg xmlns=\"http://www.w3.org/2000/svg\" height=\"24px\"viewBox=\"0 0 24 24\"\n",
              "       width=\"24px\">\n",
              "    <path d=\"M0 0h24v24H0V0z\" fill=\"none\"/>\n",
              "    <path d=\"M18.56 5.44l.94 2.06.94-2.06 2.06-.94-2.06-.94-.94-2.06-.94 2.06-2.06.94zm-11 1L8.5 8.5l.94-2.06 2.06-.94-2.06-.94L8.5 2.5l-.94 2.06-2.06.94zm10 10l.94 2.06.94-2.06 2.06-.94-2.06-.94-.94-2.06-.94 2.06-2.06.94z\"/><path d=\"M17.41 7.96l-1.37-1.37c-.4-.4-.92-.59-1.43-.59-.52 0-1.04.2-1.43.59L10.3 9.45l-7.72 7.72c-.78.78-.78 2.05 0 2.83L4 21.41c.39.39.9.59 1.41.59.51 0 1.02-.2 1.41-.59l7.78-7.78 2.81-2.81c.8-.78.8-2.07 0-2.86zM5.41 20L4 18.59l7.72-7.72 1.47 1.35L5.41 20z\"/>\n",
              "  </svg>\n",
              "      </button>\n",
              "      \n",
              "  <style>\n",
              "    .colab-df-container {\n",
              "      display:flex;\n",
              "      flex-wrap:wrap;\n",
              "      gap: 12px;\n",
              "    }\n",
              "\n",
              "    .colab-df-convert {\n",
              "      background-color: #E8F0FE;\n",
              "      border: none;\n",
              "      border-radius: 50%;\n",
              "      cursor: pointer;\n",
              "      display: none;\n",
              "      fill: #1967D2;\n",
              "      height: 32px;\n",
              "      padding: 0 0 0 0;\n",
              "      width: 32px;\n",
              "    }\n",
              "\n",
              "    .colab-df-convert:hover {\n",
              "      background-color: #E2EBFA;\n",
              "      box-shadow: 0px 1px 2px rgba(60, 64, 67, 0.3), 0px 1px 3px 1px rgba(60, 64, 67, 0.15);\n",
              "      fill: #174EA6;\n",
              "    }\n",
              "\n",
              "    [theme=dark] .colab-df-convert {\n",
              "      background-color: #3B4455;\n",
              "      fill: #D2E3FC;\n",
              "    }\n",
              "\n",
              "    [theme=dark] .colab-df-convert:hover {\n",
              "      background-color: #434B5C;\n",
              "      box-shadow: 0px 1px 3px 1px rgba(0, 0, 0, 0.15);\n",
              "      filter: drop-shadow(0px 1px 2px rgba(0, 0, 0, 0.3));\n",
              "      fill: #FFFFFF;\n",
              "    }\n",
              "  </style>\n",
              "\n",
              "      <script>\n",
              "        const buttonEl =\n",
              "          document.querySelector('#df-c4ee77de-4807-4168-b6ad-921db649a120 button.colab-df-convert');\n",
              "        buttonEl.style.display =\n",
              "          google.colab.kernel.accessAllowed ? 'block' : 'none';\n",
              "\n",
              "        async function convertToInteractive(key) {\n",
              "          const element = document.querySelector('#df-c4ee77de-4807-4168-b6ad-921db649a120');\n",
              "          const dataTable =\n",
              "            await google.colab.kernel.invokeFunction('convertToInteractive',\n",
              "                                                     [key], {});\n",
              "          if (!dataTable) return;\n",
              "\n",
              "          const docLinkHtml = 'Like what you see? Visit the ' +\n",
              "            '<a target=\"_blank\" href=https://colab.research.google.com/notebooks/data_table.ipynb>data table notebook</a>'\n",
              "            + ' to learn more about interactive tables.';\n",
              "          element.innerHTML = '';\n",
              "          dataTable['output_type'] = 'display_data';\n",
              "          await google.colab.output.renderOutput(dataTable, element);\n",
              "          const docLink = document.createElement('div');\n",
              "          docLink.innerHTML = docLinkHtml;\n",
              "          element.appendChild(docLink);\n",
              "        }\n",
              "      </script>\n",
              "    </div>\n",
              "  </div>\n",
              "  "
            ]
          },
          "metadata": {},
          "execution_count": 95
        }
      ],
      "source": [
        "\n",
        "#Subset with required columns\n",
        "df3 = explicit_ratings_df[[\"User-ID\",\"ISBN\",\"Book-Title\",\"Book-Rating\"]]\n",
        "df3.head()"
      ]
    },
    {
      "cell_type": "markdown",
      "metadata": {
        "id": "vFL5HbT1ygYC"
      },
      "source": [
        "**Filtering books**"
      ]
    },
    {
      "cell_type": "code",
      "execution_count": null,
      "metadata": {
        "id": "U5qMo5KLymM2",
        "colab": {
          "base_uri": "https://localhost:8080/"
        },
        "outputId": "fcecb241-3cd2-4daa-d0e7-e1e5357cb483"
      },
      "outputs": [
        {
          "output_type": "execute_result",
          "data": {
            "text/plain": [
              "0316666343    707\n",
              "0971880107    581\n",
              "0385504209    488\n",
              "0312195516    383\n",
              "0060928336    320\n",
              "             ... \n",
              "0440224608    6  \n",
              "037371128X    6  \n",
              "0316800945    6  \n",
              "0399151729    6  \n",
              "0812507371    6  \n",
              "Name: ISBN, Length: 10581, dtype: int64"
            ]
          },
          "metadata": {},
          "execution_count": 96
        }
      ],
      "source": [
        "#Filtering books with atleast 5 reviews\n",
        "df3 = df3.groupby(\"ISBN\").filter(lambda x : len(x) > 5)\n",
        "df3[\"ISBN\"].value_counts()"
      ]
    },
    {
      "cell_type": "code",
      "execution_count": null,
      "metadata": {
        "id": "6sxPXl1zyt_d",
        "colab": {
          "base_uri": "https://localhost:8080/"
        },
        "outputId": "89bb6af5-b251-416f-a244-5f63797bd5ff"
      },
      "outputs": [
        {
          "output_type": "execute_result",
          "data": {
            "text/plain": [
              "(175360, 4)"
            ]
          },
          "metadata": {},
          "execution_count": 97
        }
      ],
      "source": [
        "df3.shape"
      ]
    },
    {
      "cell_type": "code",
      "execution_count": null,
      "metadata": {
        "id": "D33uIgjMyw7S",
        "colab": {
          "base_uri": "https://localhost:8080/"
        },
        "outputId": "5d71c093-d1c4-45ad-f366-b61a3713e89f"
      },
      "outputs": [
        {
          "output_type": "stream",
          "name": "stdout",
          "text": [
            "# of interactions: 175360\n"
          ]
        }
      ],
      "source": [
        "print('# of interactions: %d' % len(df3))"
      ]
    },
    {
      "cell_type": "markdown",
      "metadata": {
        "id": "LadgOt20y56R"
      },
      "source": [
        "**Filtering users**"
      ]
    },
    {
      "cell_type": "code",
      "execution_count": null,
      "metadata": {
        "id": "6D57dmudy-V0",
        "colab": {
          "base_uri": "https://localhost:8080/",
          "height": 241
        },
        "outputId": "3ba48aea-1c8c-4d24-8848-84733409d637"
      },
      "outputs": [
        {
          "output_type": "stream",
          "name": "stdout",
          "text": [
            "# of users: 44665\n",
            "# of users with at least 5 interactions: 5855\n"
          ]
        },
        {
          "output_type": "execute_result",
          "data": {
            "text/plain": [
              "   User-ID\n",
              "0  114    \n",
              "1  243    \n",
              "2  244    \n",
              "3  254    \n",
              "4  388    "
            ],
            "text/html": [
              "\n",
              "  <div id=\"df-bd34a8a2-2fbd-4551-bff2-04211c88fe32\">\n",
              "    <div class=\"colab-df-container\">\n",
              "      <div>\n",
              "<style scoped>\n",
              "    .dataframe tbody tr th:only-of-type {\n",
              "        vertical-align: middle;\n",
              "    }\n",
              "\n",
              "    .dataframe tbody tr th {\n",
              "        vertical-align: top;\n",
              "    }\n",
              "\n",
              "    .dataframe thead th {\n",
              "        text-align: right;\n",
              "    }\n",
              "</style>\n",
              "<table border=\"1\" class=\"dataframe\">\n",
              "  <thead>\n",
              "    <tr style=\"text-align: right;\">\n",
              "      <th></th>\n",
              "      <th>User-ID</th>\n",
              "    </tr>\n",
              "  </thead>\n",
              "  <tbody>\n",
              "    <tr>\n",
              "      <th>0</th>\n",
              "      <td>114</td>\n",
              "    </tr>\n",
              "    <tr>\n",
              "      <th>1</th>\n",
              "      <td>243</td>\n",
              "    </tr>\n",
              "    <tr>\n",
              "      <th>2</th>\n",
              "      <td>244</td>\n",
              "    </tr>\n",
              "    <tr>\n",
              "      <th>3</th>\n",
              "      <td>254</td>\n",
              "    </tr>\n",
              "    <tr>\n",
              "      <th>4</th>\n",
              "      <td>388</td>\n",
              "    </tr>\n",
              "  </tbody>\n",
              "</table>\n",
              "</div>\n",
              "      <button class=\"colab-df-convert\" onclick=\"convertToInteractive('df-bd34a8a2-2fbd-4551-bff2-04211c88fe32')\"\n",
              "              title=\"Convert this dataframe to an interactive table.\"\n",
              "              style=\"display:none;\">\n",
              "        \n",
              "  <svg xmlns=\"http://www.w3.org/2000/svg\" height=\"24px\"viewBox=\"0 0 24 24\"\n",
              "       width=\"24px\">\n",
              "    <path d=\"M0 0h24v24H0V0z\" fill=\"none\"/>\n",
              "    <path d=\"M18.56 5.44l.94 2.06.94-2.06 2.06-.94-2.06-.94-.94-2.06-.94 2.06-2.06.94zm-11 1L8.5 8.5l.94-2.06 2.06-.94-2.06-.94L8.5 2.5l-.94 2.06-2.06.94zm10 10l.94 2.06.94-2.06 2.06-.94-2.06-.94-.94-2.06-.94 2.06-2.06.94z\"/><path d=\"M17.41 7.96l-1.37-1.37c-.4-.4-.92-.59-1.43-.59-.52 0-1.04.2-1.43.59L10.3 9.45l-7.72 7.72c-.78.78-.78 2.05 0 2.83L4 21.41c.39.39.9.59 1.41.59.51 0 1.02-.2 1.41-.59l7.78-7.78 2.81-2.81c.8-.78.8-2.07 0-2.86zM5.41 20L4 18.59l7.72-7.72 1.47 1.35L5.41 20z\"/>\n",
              "  </svg>\n",
              "      </button>\n",
              "      \n",
              "  <style>\n",
              "    .colab-df-container {\n",
              "      display:flex;\n",
              "      flex-wrap:wrap;\n",
              "      gap: 12px;\n",
              "    }\n",
              "\n",
              "    .colab-df-convert {\n",
              "      background-color: #E8F0FE;\n",
              "      border: none;\n",
              "      border-radius: 50%;\n",
              "      cursor: pointer;\n",
              "      display: none;\n",
              "      fill: #1967D2;\n",
              "      height: 32px;\n",
              "      padding: 0 0 0 0;\n",
              "      width: 32px;\n",
              "    }\n",
              "\n",
              "    .colab-df-convert:hover {\n",
              "      background-color: #E2EBFA;\n",
              "      box-shadow: 0px 1px 2px rgba(60, 64, 67, 0.3), 0px 1px 3px 1px rgba(60, 64, 67, 0.15);\n",
              "      fill: #174EA6;\n",
              "    }\n",
              "\n",
              "    [theme=dark] .colab-df-convert {\n",
              "      background-color: #3B4455;\n",
              "      fill: #D2E3FC;\n",
              "    }\n",
              "\n",
              "    [theme=dark] .colab-df-convert:hover {\n",
              "      background-color: #434B5C;\n",
              "      box-shadow: 0px 1px 3px 1px rgba(0, 0, 0, 0.15);\n",
              "      filter: drop-shadow(0px 1px 2px rgba(0, 0, 0, 0.3));\n",
              "      fill: #FFFFFF;\n",
              "    }\n",
              "  </style>\n",
              "\n",
              "      <script>\n",
              "        const buttonEl =\n",
              "          document.querySelector('#df-bd34a8a2-2fbd-4551-bff2-04211c88fe32 button.colab-df-convert');\n",
              "        buttonEl.style.display =\n",
              "          google.colab.kernel.accessAllowed ? 'block' : 'none';\n",
              "\n",
              "        async function convertToInteractive(key) {\n",
              "          const element = document.querySelector('#df-bd34a8a2-2fbd-4551-bff2-04211c88fe32');\n",
              "          const dataTable =\n",
              "            await google.colab.kernel.invokeFunction('convertToInteractive',\n",
              "                                                     [key], {});\n",
              "          if (!dataTable) return;\n",
              "\n",
              "          const docLinkHtml = 'Like what you see? Visit the ' +\n",
              "            '<a target=\"_blank\" href=https://colab.research.google.com/notebooks/data_table.ipynb>data table notebook</a>'\n",
              "            + ' to learn more about interactive tables.';\n",
              "          element.innerHTML = '';\n",
              "          dataTable['output_type'] = 'display_data';\n",
              "          await google.colab.output.renderOutput(dataTable, element);\n",
              "          const docLink = document.createElement('div');\n",
              "          docLink.innerHTML = docLinkHtml;\n",
              "          element.appendChild(docLink);\n",
              "        }\n",
              "      </script>\n",
              "    </div>\n",
              "  </div>\n",
              "  "
            ]
          },
          "metadata": {},
          "execution_count": 99
        }
      ],
      "source": [
        "#Creating dataframe of users interaction count\n",
        "users_interactions_count_df = df3.groupby([\"User-ID\",\"ISBN\"]).size().groupby('User-ID').size()\n",
        "print('# of users: %d' % len(users_interactions_count_df))\n",
        "#Filtering users with enough interactions\n",
        "users_with_enough_interactions_df = users_interactions_count_df[users_interactions_count_df > 5].reset_index()[['User-ID']]\n",
        "print('# of users with at least 5 interactions: %d' % len(users_with_enough_interactions_df))\n",
        "users_with_enough_interactions_df.head()"
      ]
    },
    {
      "cell_type": "code",
      "execution_count": null,
      "metadata": {
        "id": "-RWGB7m_zFsQ",
        "colab": {
          "base_uri": "https://localhost:8080/"
        },
        "outputId": "a19d35cd-c1f1-4e4d-8d10-f88b2fcb5837"
      },
      "outputs": [
        {
          "output_type": "stream",
          "name": "stdout",
          "text": [
            "# of interactions: 175360\n",
            "# of interactions from users with at least 10 interactions: 113262\n"
          ]
        }
      ],
      "source": [
        "print('# of interactions: %d' % len(df3))\n",
        "#Merging\n",
        "interactions_from_selected_users_df = df3.merge(users_with_enough_interactions_df,\n",
        "               how = 'right',\n",
        "               left_on = 'User-ID',\n",
        "               right_on = 'User-ID')\n",
        "print('# of interactions from users with at least 10 interactions: %d' % len(interactions_from_selected_users_df))\n",
        ""
      ]
    },
    {
      "cell_type": "code",
      "execution_count": null,
      "metadata": {
        "id": "7DSqXuU_zJxD"
      },
      "outputs": [],
      "source": [
        "interactions_full_df = interactions_from_selected_users_df.copy()"
      ]
    },
    {
      "cell_type": "code",
      "execution_count": null,
      "metadata": {
        "id": "p9rGgDBZzNv4",
        "colab": {
          "base_uri": "https://localhost:8080/",
          "height": 224
        },
        "outputId": "1d85abed-ceb4-45af-c9c1-c676349433e2"
      },
      "outputs": [
        {
          "output_type": "stream",
          "name": "stdout",
          "text": [
            "# of unique user/item interactions: 113262\n"
          ]
        },
        {
          "output_type": "execute_result",
          "data": {
            "text/plain": [
              "   User-ID        ISBN         Book-Title  Book-Rating\n",
              "0  114      0446608653  The Alibi          3.321928   \n",
              "1  114      0446612545  The Beach House    3.321928   \n",
              "2  114      0446612618  A Kiss Remembered  3.169925   \n",
              "3  114      0451208080  The Short Forever  3.169925   \n",
              "4  114      0553584383  Dead Aim           3.321928   "
            ],
            "text/html": [
              "\n",
              "  <div id=\"df-5b39d48c-b1d7-477d-b6dd-190782372bc0\">\n",
              "    <div class=\"colab-df-container\">\n",
              "      <div>\n",
              "<style scoped>\n",
              "    .dataframe tbody tr th:only-of-type {\n",
              "        vertical-align: middle;\n",
              "    }\n",
              "\n",
              "    .dataframe tbody tr th {\n",
              "        vertical-align: top;\n",
              "    }\n",
              "\n",
              "    .dataframe thead th {\n",
              "        text-align: right;\n",
              "    }\n",
              "</style>\n",
              "<table border=\"1\" class=\"dataframe\">\n",
              "  <thead>\n",
              "    <tr style=\"text-align: right;\">\n",
              "      <th></th>\n",
              "      <th>User-ID</th>\n",
              "      <th>ISBN</th>\n",
              "      <th>Book-Title</th>\n",
              "      <th>Book-Rating</th>\n",
              "    </tr>\n",
              "  </thead>\n",
              "  <tbody>\n",
              "    <tr>\n",
              "      <th>0</th>\n",
              "      <td>114</td>\n",
              "      <td>0446608653</td>\n",
              "      <td>The Alibi</td>\n",
              "      <td>3.321928</td>\n",
              "    </tr>\n",
              "    <tr>\n",
              "      <th>1</th>\n",
              "      <td>114</td>\n",
              "      <td>0446612545</td>\n",
              "      <td>The Beach House</td>\n",
              "      <td>3.321928</td>\n",
              "    </tr>\n",
              "    <tr>\n",
              "      <th>2</th>\n",
              "      <td>114</td>\n",
              "      <td>0446612618</td>\n",
              "      <td>A Kiss Remembered</td>\n",
              "      <td>3.169925</td>\n",
              "    </tr>\n",
              "    <tr>\n",
              "      <th>3</th>\n",
              "      <td>114</td>\n",
              "      <td>0451208080</td>\n",
              "      <td>The Short Forever</td>\n",
              "      <td>3.169925</td>\n",
              "    </tr>\n",
              "    <tr>\n",
              "      <th>4</th>\n",
              "      <td>114</td>\n",
              "      <td>0553584383</td>\n",
              "      <td>Dead Aim</td>\n",
              "      <td>3.321928</td>\n",
              "    </tr>\n",
              "  </tbody>\n",
              "</table>\n",
              "</div>\n",
              "      <button class=\"colab-df-convert\" onclick=\"convertToInteractive('df-5b39d48c-b1d7-477d-b6dd-190782372bc0')\"\n",
              "              title=\"Convert this dataframe to an interactive table.\"\n",
              "              style=\"display:none;\">\n",
              "        \n",
              "  <svg xmlns=\"http://www.w3.org/2000/svg\" height=\"24px\"viewBox=\"0 0 24 24\"\n",
              "       width=\"24px\">\n",
              "    <path d=\"M0 0h24v24H0V0z\" fill=\"none\"/>\n",
              "    <path d=\"M18.56 5.44l.94 2.06.94-2.06 2.06-.94-2.06-.94-.94-2.06-.94 2.06-2.06.94zm-11 1L8.5 8.5l.94-2.06 2.06-.94-2.06-.94L8.5 2.5l-.94 2.06-2.06.94zm10 10l.94 2.06.94-2.06 2.06-.94-2.06-.94-.94-2.06-.94 2.06-2.06.94z\"/><path d=\"M17.41 7.96l-1.37-1.37c-.4-.4-.92-.59-1.43-.59-.52 0-1.04.2-1.43.59L10.3 9.45l-7.72 7.72c-.78.78-.78 2.05 0 2.83L4 21.41c.39.39.9.59 1.41.59.51 0 1.02-.2 1.41-.59l7.78-7.78 2.81-2.81c.8-.78.8-2.07 0-2.86zM5.41 20L4 18.59l7.72-7.72 1.47 1.35L5.41 20z\"/>\n",
              "  </svg>\n",
              "      </button>\n",
              "      \n",
              "  <style>\n",
              "    .colab-df-container {\n",
              "      display:flex;\n",
              "      flex-wrap:wrap;\n",
              "      gap: 12px;\n",
              "    }\n",
              "\n",
              "    .colab-df-convert {\n",
              "      background-color: #E8F0FE;\n",
              "      border: none;\n",
              "      border-radius: 50%;\n",
              "      cursor: pointer;\n",
              "      display: none;\n",
              "      fill: #1967D2;\n",
              "      height: 32px;\n",
              "      padding: 0 0 0 0;\n",
              "      width: 32px;\n",
              "    }\n",
              "\n",
              "    .colab-df-convert:hover {\n",
              "      background-color: #E2EBFA;\n",
              "      box-shadow: 0px 1px 2px rgba(60, 64, 67, 0.3), 0px 1px 3px 1px rgba(60, 64, 67, 0.15);\n",
              "      fill: #174EA6;\n",
              "    }\n",
              "\n",
              "    [theme=dark] .colab-df-convert {\n",
              "      background-color: #3B4455;\n",
              "      fill: #D2E3FC;\n",
              "    }\n",
              "\n",
              "    [theme=dark] .colab-df-convert:hover {\n",
              "      background-color: #434B5C;\n",
              "      box-shadow: 0px 1px 3px 1px rgba(0, 0, 0, 0.15);\n",
              "      filter: drop-shadow(0px 1px 2px rgba(0, 0, 0, 0.3));\n",
              "      fill: #FFFFFF;\n",
              "    }\n",
              "  </style>\n",
              "\n",
              "      <script>\n",
              "        const buttonEl =\n",
              "          document.querySelector('#df-5b39d48c-b1d7-477d-b6dd-190782372bc0 button.colab-df-convert');\n",
              "        buttonEl.style.display =\n",
              "          google.colab.kernel.accessAllowed ? 'block' : 'none';\n",
              "\n",
              "        async function convertToInteractive(key) {\n",
              "          const element = document.querySelector('#df-5b39d48c-b1d7-477d-b6dd-190782372bc0');\n",
              "          const dataTable =\n",
              "            await google.colab.kernel.invokeFunction('convertToInteractive',\n",
              "                                                     [key], {});\n",
              "          if (!dataTable) return;\n",
              "\n",
              "          const docLinkHtml = 'Like what you see? Visit the ' +\n",
              "            '<a target=\"_blank\" href=https://colab.research.google.com/notebooks/data_table.ipynb>data table notebook</a>'\n",
              "            + ' to learn more about interactive tables.';\n",
              "          element.innerHTML = '';\n",
              "          dataTable['output_type'] = 'display_data';\n",
              "          await google.colab.output.renderOutput(dataTable, element);\n",
              "          const docLink = document.createElement('div');\n",
              "          docLink.innerHTML = docLinkHtml;\n",
              "          element.appendChild(docLink);\n",
              "        }\n",
              "      </script>\n",
              "    </div>\n",
              "  </div>\n",
              "  "
            ]
          },
          "metadata": {},
          "execution_count": 102
        }
      ],
      "source": [
        "def smooth_user_preference(x):\n",
        "    '''Function to smooth column'''\n",
        "    return math.log(1+x, 2)\n",
        "#applying function\n",
        "interactions_full_df[\"Book-Rating\"]= interactions_full_df[\"Book-Rating\"].apply(smooth_user_preference)\n",
        "print('# of unique user/item interactions: %d' % len(interactions_full_df))\n",
        "interactions_full_df.head()"
      ]
    },
    {
      "cell_type": "code",
      "execution_count": null,
      "metadata": {
        "id": "sg7BGOhgzSYZ",
        "colab": {
          "base_uri": "https://localhost:8080/"
        },
        "outputId": "7caf7f28-2e7f-46ca-8abc-fbe00b5911fb"
      },
      "outputs": [
        {
          "output_type": "execute_result",
          "data": {
            "text/plain": [
              "42"
            ]
          },
          "metadata": {},
          "execution_count": 103
        }
      ],
      "source": [
        "#Checking for duplicates\n",
        "len(interactions_full_df[interactions_full_df[['User-ID','ISBN']].duplicated()])"
      ]
    },
    {
      "cell_type": "code",
      "execution_count": null,
      "metadata": {
        "id": "c6bxoZZWzWG-",
        "colab": {
          "base_uri": "https://localhost:8080/"
        },
        "outputId": "0fa08d97-3c85-4b5e-8071-c94176d00f1e"
      },
      "outputs": [
        {
          "output_type": "execute_result",
          "data": {
            "text/plain": [
              "(113220, 4)"
            ]
          },
          "metadata": {},
          "execution_count": 104
        }
      ],
      "source": [
        "#Removing duplicates\n",
        "interactions_full_df = interactions_full_df.drop_duplicates(\n",
        "  subset = ['User-ID', 'ISBN'],\n",
        "  keep = 'last').reset_index(drop = True)\n",
        "#Checking shape\n",
        "interactions_full_df.shape\n",
        ""
      ]
    },
    {
      "cell_type": "code",
      "execution_count": null,
      "metadata": {
        "id": "WOHl7npjzaco",
        "colab": {
          "base_uri": "https://localhost:8080/"
        },
        "outputId": "37ac32d0-df2a-4860-9442-72860cbd4eb8"
      },
      "outputs": [
        {
          "output_type": "stream",
          "name": "stdout",
          "text": [
            "# interactions on Train set: 90576\n",
            "# interactions on Test set: 22644\n"
          ]
        }
      ],
      "source": [
        "#Train test split\n",
        "interactions_train_df, interactions_test_df = train_test_split(interactions_full_df,\n",
        "                                   stratify=interactions_full_df['User-ID'],\n",
        "                                   test_size=0.20,\n",
        "                                   random_state=0)\n",
        "#Checking shape\n",
        "print('# interactions on Train set: %d' % len(interactions_train_df))\n",
        "print('# interactions on Test set: %d' % len(interactions_test_df))"
      ]
    },
    {
      "cell_type": "code",
      "execution_count": null,
      "metadata": {
        "id": "qqpt3fBKzeHb",
        "colab": {
          "base_uri": "https://localhost:8080/",
          "height": 348
        },
        "outputId": "5e8f5cb9-4c8c-42ff-a7f9-23dcbb60cca9"
      },
      "outputs": [
        {
          "output_type": "execute_result",
          "data": {
            "text/plain": [
              "ISBN     0002005018  0002251760  000648302X  0006551971  0006742939  \\\n",
              "User-ID                                                               \n",
              "114      0.0         0.0         0.0         0.0         0.0          \n",
              "243      0.0         0.0         0.0         0.0         0.0          \n",
              "244      0.0         0.0         0.0         0.0         0.0          \n",
              "254      0.0         0.0         0.0         0.0         0.0          \n",
              "388      0.0         0.0         0.0         0.0         0.0          \n",
              "\n",
              "ISBN     0007110928  0007122039  0007141076  0007154615  000716226X  ...  \\\n",
              "User-ID                                                              ...   \n",
              "114      0.0         0.0         0.0         0.0         0.0         ...   \n",
              "243      0.0         0.0         0.0         0.0         0.0         ...   \n",
              "244      0.0         0.0         0.0         0.0         0.0         ...   \n",
              "254      0.0         0.0         0.0         0.0         0.0         ...   \n",
              "388      0.0         0.0         0.0         0.0         0.0         ...   \n",
              "\n",
              "ISBN     880781210X  8807813025  881787017X  8838910170  8845247414  \\\n",
              "User-ID                                                               \n",
              "114      0.0         0.0         0.0         0.0         0.0          \n",
              "243      0.0         0.0         0.0         0.0         0.0          \n",
              "244      0.0         0.0         0.0         0.0         0.0          \n",
              "254      0.0         0.0         0.0         0.0         0.0          \n",
              "388      0.0         0.0         0.0         0.0         0.0          \n",
              "\n",
              "ISBN     9074336329  950491036X  9681500555  968150108X  9726101794  \n",
              "User-ID                                                              \n",
              "114      0.0         0.0         0.0         0.0         0.0         \n",
              "243      0.0         0.0         0.0         0.0         0.0         \n",
              "244      0.0         0.0         0.0         0.0         0.0         \n",
              "254      0.0         0.0         0.0         0.0         0.0         \n",
              "388      0.0         0.0         0.0         0.0         0.0         \n",
              "\n",
              "[5 rows x 10469 columns]"
            ],
            "text/html": [
              "\n",
              "  <div id=\"df-4b4cc18f-455a-4f3d-afbf-3c1e1f02762c\">\n",
              "    <div class=\"colab-df-container\">\n",
              "      <div>\n",
              "<style scoped>\n",
              "    .dataframe tbody tr th:only-of-type {\n",
              "        vertical-align: middle;\n",
              "    }\n",
              "\n",
              "    .dataframe tbody tr th {\n",
              "        vertical-align: top;\n",
              "    }\n",
              "\n",
              "    .dataframe thead th {\n",
              "        text-align: right;\n",
              "    }\n",
              "</style>\n",
              "<table border=\"1\" class=\"dataframe\">\n",
              "  <thead>\n",
              "    <tr style=\"text-align: right;\">\n",
              "      <th>ISBN</th>\n",
              "      <th>0002005018</th>\n",
              "      <th>0002251760</th>\n",
              "      <th>000648302X</th>\n",
              "      <th>0006551971</th>\n",
              "      <th>0006742939</th>\n",
              "      <th>0007110928</th>\n",
              "      <th>0007122039</th>\n",
              "      <th>0007141076</th>\n",
              "      <th>0007154615</th>\n",
              "      <th>000716226X</th>\n",
              "      <th>...</th>\n",
              "      <th>880781210X</th>\n",
              "      <th>8807813025</th>\n",
              "      <th>881787017X</th>\n",
              "      <th>8838910170</th>\n",
              "      <th>8845247414</th>\n",
              "      <th>9074336329</th>\n",
              "      <th>950491036X</th>\n",
              "      <th>9681500555</th>\n",
              "      <th>968150108X</th>\n",
              "      <th>9726101794</th>\n",
              "    </tr>\n",
              "    <tr>\n",
              "      <th>User-ID</th>\n",
              "      <th></th>\n",
              "      <th></th>\n",
              "      <th></th>\n",
              "      <th></th>\n",
              "      <th></th>\n",
              "      <th></th>\n",
              "      <th></th>\n",
              "      <th></th>\n",
              "      <th></th>\n",
              "      <th></th>\n",
              "      <th></th>\n",
              "      <th></th>\n",
              "      <th></th>\n",
              "      <th></th>\n",
              "      <th></th>\n",
              "      <th></th>\n",
              "      <th></th>\n",
              "      <th></th>\n",
              "      <th></th>\n",
              "      <th></th>\n",
              "      <th></th>\n",
              "    </tr>\n",
              "  </thead>\n",
              "  <tbody>\n",
              "    <tr>\n",
              "      <th>114</th>\n",
              "      <td>0.0</td>\n",
              "      <td>0.0</td>\n",
              "      <td>0.0</td>\n",
              "      <td>0.0</td>\n",
              "      <td>0.0</td>\n",
              "      <td>0.0</td>\n",
              "      <td>0.0</td>\n",
              "      <td>0.0</td>\n",
              "      <td>0.0</td>\n",
              "      <td>0.0</td>\n",
              "      <td>...</td>\n",
              "      <td>0.0</td>\n",
              "      <td>0.0</td>\n",
              "      <td>0.0</td>\n",
              "      <td>0.0</td>\n",
              "      <td>0.0</td>\n",
              "      <td>0.0</td>\n",
              "      <td>0.0</td>\n",
              "      <td>0.0</td>\n",
              "      <td>0.0</td>\n",
              "      <td>0.0</td>\n",
              "    </tr>\n",
              "    <tr>\n",
              "      <th>243</th>\n",
              "      <td>0.0</td>\n",
              "      <td>0.0</td>\n",
              "      <td>0.0</td>\n",
              "      <td>0.0</td>\n",
              "      <td>0.0</td>\n",
              "      <td>0.0</td>\n",
              "      <td>0.0</td>\n",
              "      <td>0.0</td>\n",
              "      <td>0.0</td>\n",
              "      <td>0.0</td>\n",
              "      <td>...</td>\n",
              "      <td>0.0</td>\n",
              "      <td>0.0</td>\n",
              "      <td>0.0</td>\n",
              "      <td>0.0</td>\n",
              "      <td>0.0</td>\n",
              "      <td>0.0</td>\n",
              "      <td>0.0</td>\n",
              "      <td>0.0</td>\n",
              "      <td>0.0</td>\n",
              "      <td>0.0</td>\n",
              "    </tr>\n",
              "    <tr>\n",
              "      <th>244</th>\n",
              "      <td>0.0</td>\n",
              "      <td>0.0</td>\n",
              "      <td>0.0</td>\n",
              "      <td>0.0</td>\n",
              "      <td>0.0</td>\n",
              "      <td>0.0</td>\n",
              "      <td>0.0</td>\n",
              "      <td>0.0</td>\n",
              "      <td>0.0</td>\n",
              "      <td>0.0</td>\n",
              "      <td>...</td>\n",
              "      <td>0.0</td>\n",
              "      <td>0.0</td>\n",
              "      <td>0.0</td>\n",
              "      <td>0.0</td>\n",
              "      <td>0.0</td>\n",
              "      <td>0.0</td>\n",
              "      <td>0.0</td>\n",
              "      <td>0.0</td>\n",
              "      <td>0.0</td>\n",
              "      <td>0.0</td>\n",
              "    </tr>\n",
              "    <tr>\n",
              "      <th>254</th>\n",
              "      <td>0.0</td>\n",
              "      <td>0.0</td>\n",
              "      <td>0.0</td>\n",
              "      <td>0.0</td>\n",
              "      <td>0.0</td>\n",
              "      <td>0.0</td>\n",
              "      <td>0.0</td>\n",
              "      <td>0.0</td>\n",
              "      <td>0.0</td>\n",
              "      <td>0.0</td>\n",
              "      <td>...</td>\n",
              "      <td>0.0</td>\n",
              "      <td>0.0</td>\n",
              "      <td>0.0</td>\n",
              "      <td>0.0</td>\n",
              "      <td>0.0</td>\n",
              "      <td>0.0</td>\n",
              "      <td>0.0</td>\n",
              "      <td>0.0</td>\n",
              "      <td>0.0</td>\n",
              "      <td>0.0</td>\n",
              "    </tr>\n",
              "    <tr>\n",
              "      <th>388</th>\n",
              "      <td>0.0</td>\n",
              "      <td>0.0</td>\n",
              "      <td>0.0</td>\n",
              "      <td>0.0</td>\n",
              "      <td>0.0</td>\n",
              "      <td>0.0</td>\n",
              "      <td>0.0</td>\n",
              "      <td>0.0</td>\n",
              "      <td>0.0</td>\n",
              "      <td>0.0</td>\n",
              "      <td>...</td>\n",
              "      <td>0.0</td>\n",
              "      <td>0.0</td>\n",
              "      <td>0.0</td>\n",
              "      <td>0.0</td>\n",
              "      <td>0.0</td>\n",
              "      <td>0.0</td>\n",
              "      <td>0.0</td>\n",
              "      <td>0.0</td>\n",
              "      <td>0.0</td>\n",
              "      <td>0.0</td>\n",
              "    </tr>\n",
              "  </tbody>\n",
              "</table>\n",
              "<p>5 rows × 10469 columns</p>\n",
              "</div>\n",
              "      <button class=\"colab-df-convert\" onclick=\"convertToInteractive('df-4b4cc18f-455a-4f3d-afbf-3c1e1f02762c')\"\n",
              "              title=\"Convert this dataframe to an interactive table.\"\n",
              "              style=\"display:none;\">\n",
              "        \n",
              "  <svg xmlns=\"http://www.w3.org/2000/svg\" height=\"24px\"viewBox=\"0 0 24 24\"\n",
              "       width=\"24px\">\n",
              "    <path d=\"M0 0h24v24H0V0z\" fill=\"none\"/>\n",
              "    <path d=\"M18.56 5.44l.94 2.06.94-2.06 2.06-.94-2.06-.94-.94-2.06-.94 2.06-2.06.94zm-11 1L8.5 8.5l.94-2.06 2.06-.94-2.06-.94L8.5 2.5l-.94 2.06-2.06.94zm10 10l.94 2.06.94-2.06 2.06-.94-2.06-.94-.94-2.06-.94 2.06-2.06.94z\"/><path d=\"M17.41 7.96l-1.37-1.37c-.4-.4-.92-.59-1.43-.59-.52 0-1.04.2-1.43.59L10.3 9.45l-7.72 7.72c-.78.78-.78 2.05 0 2.83L4 21.41c.39.39.9.59 1.41.59.51 0 1.02-.2 1.41-.59l7.78-7.78 2.81-2.81c.8-.78.8-2.07 0-2.86zM5.41 20L4 18.59l7.72-7.72 1.47 1.35L5.41 20z\"/>\n",
              "  </svg>\n",
              "      </button>\n",
              "      \n",
              "  <style>\n",
              "    .colab-df-container {\n",
              "      display:flex;\n",
              "      flex-wrap:wrap;\n",
              "      gap: 12px;\n",
              "    }\n",
              "\n",
              "    .colab-df-convert {\n",
              "      background-color: #E8F0FE;\n",
              "      border: none;\n",
              "      border-radius: 50%;\n",
              "      cursor: pointer;\n",
              "      display: none;\n",
              "      fill: #1967D2;\n",
              "      height: 32px;\n",
              "      padding: 0 0 0 0;\n",
              "      width: 32px;\n",
              "    }\n",
              "\n",
              "    .colab-df-convert:hover {\n",
              "      background-color: #E2EBFA;\n",
              "      box-shadow: 0px 1px 2px rgba(60, 64, 67, 0.3), 0px 1px 3px 1px rgba(60, 64, 67, 0.15);\n",
              "      fill: #174EA6;\n",
              "    }\n",
              "\n",
              "    [theme=dark] .colab-df-convert {\n",
              "      background-color: #3B4455;\n",
              "      fill: #D2E3FC;\n",
              "    }\n",
              "\n",
              "    [theme=dark] .colab-df-convert:hover {\n",
              "      background-color: #434B5C;\n",
              "      box-shadow: 0px 1px 3px 1px rgba(0, 0, 0, 0.15);\n",
              "      filter: drop-shadow(0px 1px 2px rgba(0, 0, 0, 0.3));\n",
              "      fill: #FFFFFF;\n",
              "    }\n",
              "  </style>\n",
              "\n",
              "      <script>\n",
              "        const buttonEl =\n",
              "          document.querySelector('#df-4b4cc18f-455a-4f3d-afbf-3c1e1f02762c button.colab-df-convert');\n",
              "        buttonEl.style.display =\n",
              "          google.colab.kernel.accessAllowed ? 'block' : 'none';\n",
              "\n",
              "        async function convertToInteractive(key) {\n",
              "          const element = document.querySelector('#df-4b4cc18f-455a-4f3d-afbf-3c1e1f02762c');\n",
              "          const dataTable =\n",
              "            await google.colab.kernel.invokeFunction('convertToInteractive',\n",
              "                                                     [key], {});\n",
              "          if (!dataTable) return;\n",
              "\n",
              "          const docLinkHtml = 'Like what you see? Visit the ' +\n",
              "            '<a target=\"_blank\" href=https://colab.research.google.com/notebooks/data_table.ipynb>data table notebook</a>'\n",
              "            + ' to learn more about interactive tables.';\n",
              "          element.innerHTML = '';\n",
              "          dataTable['output_type'] = 'display_data';\n",
              "          await google.colab.output.renderOutput(dataTable, element);\n",
              "          const docLink = document.createElement('div');\n",
              "          docLink.innerHTML = docLinkHtml;\n",
              "          element.appendChild(docLink);\n",
              "        }\n",
              "      </script>\n",
              "    </div>\n",
              "  </div>\n",
              "  "
            ]
          },
          "metadata": {},
          "execution_count": 106
        }
      ],
      "source": [
        "#Creating a sparse pivot table with users in rows and items in columns\n",
        "users_items_pivot_matrix_df = interactions_train_df.reset_index().pivot(index='User-ID',\n",
        "                                                          columns='ISBN',\n",
        "                                                          values='Book-Rating').fillna(0)\n",
        "\n",
        "users_items_pivot_matrix_df.head()\n",
        ""
      ]
    },
    {
      "cell_type": "code",
      "execution_count": null,
      "metadata": {
        "id": "sjiZ8ojvzl8G",
        "colab": {
          "base_uri": "https://localhost:8080/"
        },
        "outputId": "edc2ee0f-cea6-4cbd-a658-a912d6eb2b72"
      },
      "outputs": [
        {
          "output_type": "execute_result",
          "data": {
            "text/plain": [
              "(5855, 10469)"
            ]
          },
          "metadata": {},
          "execution_count": 107
        }
      ],
      "source": [
        "#Checking shape\n",
        "users_items_pivot_matrix_df.shape"
      ]
    },
    {
      "cell_type": "code",
      "execution_count": null,
      "metadata": {
        "id": "JWLXCNcCzrX1"
      },
      "outputs": [],
      "source": [
        "#Storing user ids\n",
        "users_ids = list(users_items_pivot_matrix_df.index)\n",
        ""
      ]
    },
    {
      "cell_type": "code",
      "execution_count": null,
      "metadata": {
        "id": "QxkcmI4KzvvR",
        "colab": {
          "base_uri": "https://localhost:8080/",
          "height": 505
        },
        "outputId": "4608840b-3e5d-4ff1-9635-5ccadb64d3f1"
      },
      "outputs": [
        {
          "output_type": "execute_result",
          "data": {
            "text/plain": [
              "ISBN     0002005018  0002251760  000648302X  0006551971  0006742939  \\\n",
              "User-ID                                                               \n",
              "114      0.0         0.0         0.0         0.0         0.0          \n",
              "243      0.0         0.0         0.0         0.0         0.0          \n",
              "244      0.0         0.0         0.0         0.0         0.0          \n",
              "254      0.0         0.0         0.0         0.0         0.0          \n",
              "388      0.0         0.0         0.0         0.0         0.0          \n",
              "446      0.0         0.0         0.0         0.0         0.0          \n",
              "503      0.0         0.0         0.0         0.0         0.0          \n",
              "505      0.0         0.0         0.0         0.0         0.0          \n",
              "507      0.0         0.0         0.0         0.0         0.0          \n",
              "638      0.0         0.0         0.0         0.0         0.0          \n",
              "\n",
              "ISBN     0007110928  0007122039  0007141076  0007154615  000716226X  ...  \\\n",
              "User-ID                                                              ...   \n",
              "114      0.0         0.0         0.0         0.0         0.0         ...   \n",
              "243      0.0         0.0         0.0         0.0         0.0         ...   \n",
              "244      0.0         0.0         0.0         0.0         0.0         ...   \n",
              "254      0.0         0.0         0.0         0.0         0.0         ...   \n",
              "388      0.0         0.0         0.0         0.0         0.0         ...   \n",
              "446      0.0         0.0         0.0         0.0         0.0         ...   \n",
              "503      0.0         0.0         0.0         0.0         0.0         ...   \n",
              "505      0.0         0.0         0.0         0.0         0.0         ...   \n",
              "507      0.0         0.0         0.0         0.0         0.0         ...   \n",
              "638      0.0         0.0         0.0         0.0         0.0         ...   \n",
              "\n",
              "ISBN     880781210X  8807813025  881787017X  8838910170  8845247414  \\\n",
              "User-ID                                                               \n",
              "114      0.0         0.0         0.0         0.0         0.0          \n",
              "243      0.0         0.0         0.0         0.0         0.0          \n",
              "244      0.0         0.0         0.0         0.0         0.0          \n",
              "254      0.0         0.0         0.0         0.0         0.0          \n",
              "388      0.0         0.0         0.0         0.0         0.0          \n",
              "446      0.0         0.0         0.0         0.0         0.0          \n",
              "503      0.0         0.0         0.0         0.0         0.0          \n",
              "505      0.0         0.0         0.0         0.0         0.0          \n",
              "507      0.0         0.0         0.0         0.0         0.0          \n",
              "638      0.0         0.0         0.0         0.0         0.0          \n",
              "\n",
              "ISBN     9074336329  950491036X  9681500555  968150108X  9726101794  \n",
              "User-ID                                                              \n",
              "114      0.0         0.0         0.0         0.0         0.0         \n",
              "243      0.0         0.0         0.0         0.0         0.0         \n",
              "244      0.0         0.0         0.0         0.0         0.0         \n",
              "254      0.0         0.0         0.0         0.0         0.0         \n",
              "388      0.0         0.0         0.0         0.0         0.0         \n",
              "446      0.0         0.0         0.0         0.0         0.0         \n",
              "503      0.0         0.0         0.0         0.0         0.0         \n",
              "505      0.0         0.0         0.0         0.0         0.0         \n",
              "507      0.0         0.0         0.0         0.0         0.0         \n",
              "638      0.0         0.0         0.0         0.0         0.0         \n",
              "\n",
              "[10 rows x 10469 columns]"
            ],
            "text/html": [
              "\n",
              "  <div id=\"df-ec7ccb05-775c-400b-863c-32faa8224f8e\">\n",
              "    <div class=\"colab-df-container\">\n",
              "      <div>\n",
              "<style scoped>\n",
              "    .dataframe tbody tr th:only-of-type {\n",
              "        vertical-align: middle;\n",
              "    }\n",
              "\n",
              "    .dataframe tbody tr th {\n",
              "        vertical-align: top;\n",
              "    }\n",
              "\n",
              "    .dataframe thead th {\n",
              "        text-align: right;\n",
              "    }\n",
              "</style>\n",
              "<table border=\"1\" class=\"dataframe\">\n",
              "  <thead>\n",
              "    <tr style=\"text-align: right;\">\n",
              "      <th>ISBN</th>\n",
              "      <th>0002005018</th>\n",
              "      <th>0002251760</th>\n",
              "      <th>000648302X</th>\n",
              "      <th>0006551971</th>\n",
              "      <th>0006742939</th>\n",
              "      <th>0007110928</th>\n",
              "      <th>0007122039</th>\n",
              "      <th>0007141076</th>\n",
              "      <th>0007154615</th>\n",
              "      <th>000716226X</th>\n",
              "      <th>...</th>\n",
              "      <th>880781210X</th>\n",
              "      <th>8807813025</th>\n",
              "      <th>881787017X</th>\n",
              "      <th>8838910170</th>\n",
              "      <th>8845247414</th>\n",
              "      <th>9074336329</th>\n",
              "      <th>950491036X</th>\n",
              "      <th>9681500555</th>\n",
              "      <th>968150108X</th>\n",
              "      <th>9726101794</th>\n",
              "    </tr>\n",
              "    <tr>\n",
              "      <th>User-ID</th>\n",
              "      <th></th>\n",
              "      <th></th>\n",
              "      <th></th>\n",
              "      <th></th>\n",
              "      <th></th>\n",
              "      <th></th>\n",
              "      <th></th>\n",
              "      <th></th>\n",
              "      <th></th>\n",
              "      <th></th>\n",
              "      <th></th>\n",
              "      <th></th>\n",
              "      <th></th>\n",
              "      <th></th>\n",
              "      <th></th>\n",
              "      <th></th>\n",
              "      <th></th>\n",
              "      <th></th>\n",
              "      <th></th>\n",
              "      <th></th>\n",
              "      <th></th>\n",
              "    </tr>\n",
              "  </thead>\n",
              "  <tbody>\n",
              "    <tr>\n",
              "      <th>114</th>\n",
              "      <td>0.0</td>\n",
              "      <td>0.0</td>\n",
              "      <td>0.0</td>\n",
              "      <td>0.0</td>\n",
              "      <td>0.0</td>\n",
              "      <td>0.0</td>\n",
              "      <td>0.0</td>\n",
              "      <td>0.0</td>\n",
              "      <td>0.0</td>\n",
              "      <td>0.0</td>\n",
              "      <td>...</td>\n",
              "      <td>0.0</td>\n",
              "      <td>0.0</td>\n",
              "      <td>0.0</td>\n",
              "      <td>0.0</td>\n",
              "      <td>0.0</td>\n",
              "      <td>0.0</td>\n",
              "      <td>0.0</td>\n",
              "      <td>0.0</td>\n",
              "      <td>0.0</td>\n",
              "      <td>0.0</td>\n",
              "    </tr>\n",
              "    <tr>\n",
              "      <th>243</th>\n",
              "      <td>0.0</td>\n",
              "      <td>0.0</td>\n",
              "      <td>0.0</td>\n",
              "      <td>0.0</td>\n",
              "      <td>0.0</td>\n",
              "      <td>0.0</td>\n",
              "      <td>0.0</td>\n",
              "      <td>0.0</td>\n",
              "      <td>0.0</td>\n",
              "      <td>0.0</td>\n",
              "      <td>...</td>\n",
              "      <td>0.0</td>\n",
              "      <td>0.0</td>\n",
              "      <td>0.0</td>\n",
              "      <td>0.0</td>\n",
              "      <td>0.0</td>\n",
              "      <td>0.0</td>\n",
              "      <td>0.0</td>\n",
              "      <td>0.0</td>\n",
              "      <td>0.0</td>\n",
              "      <td>0.0</td>\n",
              "    </tr>\n",
              "    <tr>\n",
              "      <th>244</th>\n",
              "      <td>0.0</td>\n",
              "      <td>0.0</td>\n",
              "      <td>0.0</td>\n",
              "      <td>0.0</td>\n",
              "      <td>0.0</td>\n",
              "      <td>0.0</td>\n",
              "      <td>0.0</td>\n",
              "      <td>0.0</td>\n",
              "      <td>0.0</td>\n",
              "      <td>0.0</td>\n",
              "      <td>...</td>\n",
              "      <td>0.0</td>\n",
              "      <td>0.0</td>\n",
              "      <td>0.0</td>\n",
              "      <td>0.0</td>\n",
              "      <td>0.0</td>\n",
              "      <td>0.0</td>\n",
              "      <td>0.0</td>\n",
              "      <td>0.0</td>\n",
              "      <td>0.0</td>\n",
              "      <td>0.0</td>\n",
              "    </tr>\n",
              "    <tr>\n",
              "      <th>254</th>\n",
              "      <td>0.0</td>\n",
              "      <td>0.0</td>\n",
              "      <td>0.0</td>\n",
              "      <td>0.0</td>\n",
              "      <td>0.0</td>\n",
              "      <td>0.0</td>\n",
              "      <td>0.0</td>\n",
              "      <td>0.0</td>\n",
              "      <td>0.0</td>\n",
              "      <td>0.0</td>\n",
              "      <td>...</td>\n",
              "      <td>0.0</td>\n",
              "      <td>0.0</td>\n",
              "      <td>0.0</td>\n",
              "      <td>0.0</td>\n",
              "      <td>0.0</td>\n",
              "      <td>0.0</td>\n",
              "      <td>0.0</td>\n",
              "      <td>0.0</td>\n",
              "      <td>0.0</td>\n",
              "      <td>0.0</td>\n",
              "    </tr>\n",
              "    <tr>\n",
              "      <th>388</th>\n",
              "      <td>0.0</td>\n",
              "      <td>0.0</td>\n",
              "      <td>0.0</td>\n",
              "      <td>0.0</td>\n",
              "      <td>0.0</td>\n",
              "      <td>0.0</td>\n",
              "      <td>0.0</td>\n",
              "      <td>0.0</td>\n",
              "      <td>0.0</td>\n",
              "      <td>0.0</td>\n",
              "      <td>...</td>\n",
              "      <td>0.0</td>\n",
              "      <td>0.0</td>\n",
              "      <td>0.0</td>\n",
              "      <td>0.0</td>\n",
              "      <td>0.0</td>\n",
              "      <td>0.0</td>\n",
              "      <td>0.0</td>\n",
              "      <td>0.0</td>\n",
              "      <td>0.0</td>\n",
              "      <td>0.0</td>\n",
              "    </tr>\n",
              "    <tr>\n",
              "      <th>446</th>\n",
              "      <td>0.0</td>\n",
              "      <td>0.0</td>\n",
              "      <td>0.0</td>\n",
              "      <td>0.0</td>\n",
              "      <td>0.0</td>\n",
              "      <td>0.0</td>\n",
              "      <td>0.0</td>\n",
              "      <td>0.0</td>\n",
              "      <td>0.0</td>\n",
              "      <td>0.0</td>\n",
              "      <td>...</td>\n",
              "      <td>0.0</td>\n",
              "      <td>0.0</td>\n",
              "      <td>0.0</td>\n",
              "      <td>0.0</td>\n",
              "      <td>0.0</td>\n",
              "      <td>0.0</td>\n",
              "      <td>0.0</td>\n",
              "      <td>0.0</td>\n",
              "      <td>0.0</td>\n",
              "      <td>0.0</td>\n",
              "    </tr>\n",
              "    <tr>\n",
              "      <th>503</th>\n",
              "      <td>0.0</td>\n",
              "      <td>0.0</td>\n",
              "      <td>0.0</td>\n",
              "      <td>0.0</td>\n",
              "      <td>0.0</td>\n",
              "      <td>0.0</td>\n",
              "      <td>0.0</td>\n",
              "      <td>0.0</td>\n",
              "      <td>0.0</td>\n",
              "      <td>0.0</td>\n",
              "      <td>...</td>\n",
              "      <td>0.0</td>\n",
              "      <td>0.0</td>\n",
              "      <td>0.0</td>\n",
              "      <td>0.0</td>\n",
              "      <td>0.0</td>\n",
              "      <td>0.0</td>\n",
              "      <td>0.0</td>\n",
              "      <td>0.0</td>\n",
              "      <td>0.0</td>\n",
              "      <td>0.0</td>\n",
              "    </tr>\n",
              "    <tr>\n",
              "      <th>505</th>\n",
              "      <td>0.0</td>\n",
              "      <td>0.0</td>\n",
              "      <td>0.0</td>\n",
              "      <td>0.0</td>\n",
              "      <td>0.0</td>\n",
              "      <td>0.0</td>\n",
              "      <td>0.0</td>\n",
              "      <td>0.0</td>\n",
              "      <td>0.0</td>\n",
              "      <td>0.0</td>\n",
              "      <td>...</td>\n",
              "      <td>0.0</td>\n",
              "      <td>0.0</td>\n",
              "      <td>0.0</td>\n",
              "      <td>0.0</td>\n",
              "      <td>0.0</td>\n",
              "      <td>0.0</td>\n",
              "      <td>0.0</td>\n",
              "      <td>0.0</td>\n",
              "      <td>0.0</td>\n",
              "      <td>0.0</td>\n",
              "    </tr>\n",
              "    <tr>\n",
              "      <th>507</th>\n",
              "      <td>0.0</td>\n",
              "      <td>0.0</td>\n",
              "      <td>0.0</td>\n",
              "      <td>0.0</td>\n",
              "      <td>0.0</td>\n",
              "      <td>0.0</td>\n",
              "      <td>0.0</td>\n",
              "      <td>0.0</td>\n",
              "      <td>0.0</td>\n",
              "      <td>0.0</td>\n",
              "      <td>...</td>\n",
              "      <td>0.0</td>\n",
              "      <td>0.0</td>\n",
              "      <td>0.0</td>\n",
              "      <td>0.0</td>\n",
              "      <td>0.0</td>\n",
              "      <td>0.0</td>\n",
              "      <td>0.0</td>\n",
              "      <td>0.0</td>\n",
              "      <td>0.0</td>\n",
              "      <td>0.0</td>\n",
              "    </tr>\n",
              "    <tr>\n",
              "      <th>638</th>\n",
              "      <td>0.0</td>\n",
              "      <td>0.0</td>\n",
              "      <td>0.0</td>\n",
              "      <td>0.0</td>\n",
              "      <td>0.0</td>\n",
              "      <td>0.0</td>\n",
              "      <td>0.0</td>\n",
              "      <td>0.0</td>\n",
              "      <td>0.0</td>\n",
              "      <td>0.0</td>\n",
              "      <td>...</td>\n",
              "      <td>0.0</td>\n",
              "      <td>0.0</td>\n",
              "      <td>0.0</td>\n",
              "      <td>0.0</td>\n",
              "      <td>0.0</td>\n",
              "      <td>0.0</td>\n",
              "      <td>0.0</td>\n",
              "      <td>0.0</td>\n",
              "      <td>0.0</td>\n",
              "      <td>0.0</td>\n",
              "    </tr>\n",
              "  </tbody>\n",
              "</table>\n",
              "<p>10 rows × 10469 columns</p>\n",
              "</div>\n",
              "      <button class=\"colab-df-convert\" onclick=\"convertToInteractive('df-ec7ccb05-775c-400b-863c-32faa8224f8e')\"\n",
              "              title=\"Convert this dataframe to an interactive table.\"\n",
              "              style=\"display:none;\">\n",
              "        \n",
              "  <svg xmlns=\"http://www.w3.org/2000/svg\" height=\"24px\"viewBox=\"0 0 24 24\"\n",
              "       width=\"24px\">\n",
              "    <path d=\"M0 0h24v24H0V0z\" fill=\"none\"/>\n",
              "    <path d=\"M18.56 5.44l.94 2.06.94-2.06 2.06-.94-2.06-.94-.94-2.06-.94 2.06-2.06.94zm-11 1L8.5 8.5l.94-2.06 2.06-.94-2.06-.94L8.5 2.5l-.94 2.06-2.06.94zm10 10l.94 2.06.94-2.06 2.06-.94-2.06-.94-.94-2.06-.94 2.06-2.06.94z\"/><path d=\"M17.41 7.96l-1.37-1.37c-.4-.4-.92-.59-1.43-.59-.52 0-1.04.2-1.43.59L10.3 9.45l-7.72 7.72c-.78.78-.78 2.05 0 2.83L4 21.41c.39.39.9.59 1.41.59.51 0 1.02-.2 1.41-.59l7.78-7.78 2.81-2.81c.8-.78.8-2.07 0-2.86zM5.41 20L4 18.59l7.72-7.72 1.47 1.35L5.41 20z\"/>\n",
              "  </svg>\n",
              "      </button>\n",
              "      \n",
              "  <style>\n",
              "    .colab-df-container {\n",
              "      display:flex;\n",
              "      flex-wrap:wrap;\n",
              "      gap: 12px;\n",
              "    }\n",
              "\n",
              "    .colab-df-convert {\n",
              "      background-color: #E8F0FE;\n",
              "      border: none;\n",
              "      border-radius: 50%;\n",
              "      cursor: pointer;\n",
              "      display: none;\n",
              "      fill: #1967D2;\n",
              "      height: 32px;\n",
              "      padding: 0 0 0 0;\n",
              "      width: 32px;\n",
              "    }\n",
              "\n",
              "    .colab-df-convert:hover {\n",
              "      background-color: #E2EBFA;\n",
              "      box-shadow: 0px 1px 2px rgba(60, 64, 67, 0.3), 0px 1px 3px 1px rgba(60, 64, 67, 0.15);\n",
              "      fill: #174EA6;\n",
              "    }\n",
              "\n",
              "    [theme=dark] .colab-df-convert {\n",
              "      background-color: #3B4455;\n",
              "      fill: #D2E3FC;\n",
              "    }\n",
              "\n",
              "    [theme=dark] .colab-df-convert:hover {\n",
              "      background-color: #434B5C;\n",
              "      box-shadow: 0px 1px 3px 1px rgba(0, 0, 0, 0.15);\n",
              "      filter: drop-shadow(0px 1px 2px rgba(0, 0, 0, 0.3));\n",
              "      fill: #FFFFFF;\n",
              "    }\n",
              "  </style>\n",
              "\n",
              "      <script>\n",
              "        const buttonEl =\n",
              "          document.querySelector('#df-ec7ccb05-775c-400b-863c-32faa8224f8e button.colab-df-convert');\n",
              "        buttonEl.style.display =\n",
              "          google.colab.kernel.accessAllowed ? 'block' : 'none';\n",
              "\n",
              "        async function convertToInteractive(key) {\n",
              "          const element = document.querySelector('#df-ec7ccb05-775c-400b-863c-32faa8224f8e');\n",
              "          const dataTable =\n",
              "            await google.colab.kernel.invokeFunction('convertToInteractive',\n",
              "                                                     [key], {});\n",
              "          if (!dataTable) return;\n",
              "\n",
              "          const docLinkHtml = 'Like what you see? Visit the ' +\n",
              "            '<a target=\"_blank\" href=https://colab.research.google.com/notebooks/data_table.ipynb>data table notebook</a>'\n",
              "            + ' to learn more about interactive tables.';\n",
              "          element.innerHTML = '';\n",
              "          dataTable['output_type'] = 'display_data';\n",
              "          await google.colab.output.renderOutput(dataTable, element);\n",
              "          const docLink = document.createElement('div');\n",
              "          docLink.innerHTML = docLinkHtml;\n",
              "          element.appendChild(docLink);\n",
              "        }\n",
              "      </script>\n",
              "    </div>\n",
              "  </div>\n",
              "  "
            ]
          },
          "metadata": {},
          "execution_count": 110
        }
      ],
      "source": [
        "\n",
        "users_items_pivot_matrix_df.head(10)\n",
        ""
      ]
    },
    {
      "cell_type": "code",
      "execution_count": null,
      "metadata": {
        "id": "Han6oysH2yla",
        "colab": {
          "base_uri": "https://localhost:8080/"
        },
        "outputId": "6decf69f-56c3-44c9-c277-504fc10eacc9"
      },
      "outputs": [
        {
          "output_type": "execute_result",
          "data": {
            "text/plain": [
              "[114, 243, 244, 254, 388, 446, 503, 505, 507, 638]"
            ]
          },
          "metadata": {},
          "execution_count": 113
        }
      ],
      "source": [
        "\n",
        "users_items_pivot_matrix = users_items_pivot_matrix_df.values\n",
        "users_items_pivot_matrix[:10]\n",
        "\n",
        "users_ids = list(users_items_pivot_matrix_df.index)\n",
        "users_ids[:10]\n"
      ]
    },
    {
      "cell_type": "code",
      "source": [
        "\n",
        "#The number of factors to factor the user-item matrix.\n",
        "NUMBER_OF_FACTORS_MF = 15\n",
        "#Performs matrix factorization of the original user item matrix\n",
        "U, sigma, Vt = svds(users_items_pivot_matrix, k = NUMBER_OF_FACTORS_MF)\n",
        "\n",
        "U.shape\n",
        "\n",
        "Vt.shape\n",
        "\n",
        "sigma = np.diag(sigma)\n",
        "sigma.shape\n",
        "\n",
        "all_user_predicted_ratings = np.dot(np.dot(U, sigma), Vt)\n",
        "all_user_predicted_ratings\n"
      ],
      "metadata": {
        "colab": {
          "base_uri": "https://localhost:8080/"
        },
        "id": "N0qZ4sbib4Rz",
        "outputId": "cdc2cfe2-fb97-4ea0-cf49-dcc90f3257e3"
      },
      "execution_count": null,
      "outputs": [
        {
          "output_type": "execute_result",
          "data": {
            "text/plain": [
              "array([[ 1.95489230e-03,  5.21314336e-03, -4.24537135e-03, ...,\n",
              "         9.97888232e-04,  2.16904708e-03, -3.64434525e-04],\n",
              "       [ 1.99779290e-03,  2.37950316e-03, -8.68135832e-04, ...,\n",
              "         1.77823314e-03, -8.64657278e-04,  9.09126510e-04],\n",
              "       [ 7.47985585e-04,  7.37357420e-04,  2.87112729e-03, ...,\n",
              "         4.98526506e-04, -1.76089676e-04,  2.88064859e-04],\n",
              "       ...,\n",
              "       [-4.67247541e-04, -3.26184737e-03, -1.38898296e-02, ...,\n",
              "        -3.20928362e-03, -1.11203513e-03, -9.76287195e-04],\n",
              "       [ 5.44207129e-04, -1.26990549e-02,  1.18790975e-03, ...,\n",
              "        -2.82863063e-03, -1.75953659e-03,  7.19435147e-03],\n",
              "       [ 1.00651975e-03,  3.27566076e-05,  7.16522374e-04, ...,\n",
              "         3.47263666e-04, -1.46983459e-04,  8.78513879e-04]])"
            ]
          },
          "metadata": {},
          "execution_count": 114
        }
      ]
    },
    {
      "cell_type": "code",
      "source": [
        "\n",
        "#Converting the reconstructed matrix back to a Pandas dataframe\n",
        "cf_preds_df = pd.DataFrame(all_user_predicted_ratings, columns = users_items_pivot_matrix_df.columns, index=users_ids).transpose()\n",
        "cf_preds_df.head(10)"
      ],
      "metadata": {
        "colab": {
          "base_uri": "https://localhost:8080/",
          "height": 661
        },
        "id": "30yLTRXecFX5",
        "outputId": "566da88c-28c9-4c0d-f5a3-1c561c8fcb1a"
      },
      "execution_count": null,
      "outputs": [
        {
          "output_type": "execute_result",
          "data": {
            "text/plain": [
              "                 114       243       244       254       388           446  \\\n",
              "ISBN                                                                         \n",
              "0002005018  0.001955  0.001998  0.000748  0.001509  0.000376 -3.315894e-07   \n",
              "0002251760  0.005213  0.002380  0.000737  0.024142  0.000149 -1.160931e-05   \n",
              "000648302X -0.004245 -0.000868  0.002871 -0.000737  0.000887 -1.862764e-04   \n",
              "0006551971 -0.000136 -0.000125  0.000050  0.001892  0.000131  3.492248e-05   \n",
              "0006742939 -0.000921  0.001539  0.001435  0.018369  0.000358  1.646898e-04   \n",
              "0007110928 -0.004113  0.006669  0.004820 -0.000369  0.000778  1.607001e-05   \n",
              "0007122039  0.000251  0.000339  0.000030  0.000160  0.000100  7.098408e-06   \n",
              "0007141076  0.000068  0.001431  0.000301 -0.000554  0.000151  5.850064e-05   \n",
              "0007154615 -0.003455  0.006013  0.005314  0.028517  0.001658 -4.283330e-06   \n",
              "000716226X  0.002865  0.002223  0.000590  0.003037  0.000680 -4.368584e-06   \n",
              "\n",
              "                 503       505       507       638  ...    278221    278314  \\\n",
              "ISBN                                                ...                       \n",
              "0002005018  0.000559 -0.000013  0.002167 -0.001372  ...  0.000615 -0.000030   \n",
              "0002251760  0.002576  0.008307  0.008111 -0.007180  ...  0.000674  0.000634   \n",
              "000648302X  0.001520  0.005631  0.001421  0.006179  ...  0.001967  0.002167   \n",
              "0006551971  0.000429  0.001404  0.000838  0.000336  ...  0.000598 -0.000062   \n",
              "0006742939  0.000865  0.001646 -0.000487 -0.001531  ...  0.001287  0.000088   \n",
              "0007110928  0.001497  0.001983  0.002599  0.000191  ...  0.003054  0.001753   \n",
              "0007122039  0.000128  0.000067  0.000264 -0.000577  ...  0.000138  0.000055   \n",
              "0007141076  0.000307 -0.000602  0.000310 -0.000728  ...  0.000668  0.000207   \n",
              "0007154615  0.007808 -0.001655  0.018910  0.001044  ...  0.008281  0.003639   \n",
              "000716226X  0.000745  0.000136  0.004855  0.007156  ...  0.000956  0.000097   \n",
              "\n",
              "              278356    278390    278418    278535    278554    278582  \\\n",
              "ISBN                                                                     \n",
              "0002005018 -0.001229  0.001409  0.000225 -0.002081  0.000436 -0.000467   \n",
              "0002251760 -0.004228  0.003577  0.015668 -0.012844  0.000640 -0.003262   \n",
              "000648302X -0.004959 -0.003900  0.005653 -0.000741 -0.001843 -0.013890   \n",
              "0006551971 -0.001299 -0.000118  0.001958 -0.001073 -0.000199 -0.000751   \n",
              "0006742939  0.006579 -0.001127  0.001651 -0.002188 -0.000029 -0.003363   \n",
              "0007110928 -0.002626 -0.004452  0.000992 -0.000277 -0.000572 -0.008574   \n",
              "0007122039 -0.000337  0.000326  0.000203 -0.000220  0.000039  0.000118   \n",
              "0007141076  0.000309  0.000559  0.000154  0.001991  0.000393  0.004668   \n",
              "0007154615 -0.008559  0.002511  0.009549 -0.003801  0.001254  0.043233   \n",
              "000716226X -0.001849  0.002986  0.000571 -0.001458  0.000272  0.002857   \n",
              "\n",
              "              278633    278843  \n",
              "ISBN                            \n",
              "0002005018  0.000544  0.001007  \n",
              "0002251760 -0.012699  0.000033  \n",
              "000648302X  0.001188  0.000717  \n",
              "0006551971 -0.000128 -0.000025  \n",
              "0006742939 -0.001720  0.004291  \n",
              "0007110928  0.000317  0.004438  \n",
              "0007122039 -0.000274  0.000068  \n",
              "0007141076  0.000295  0.001350  \n",
              "0007154615  0.000813  0.009899  \n",
              "000716226X  0.007865  0.000860  \n",
              "\n",
              "[10 rows x 5855 columns]"
            ],
            "text/html": [
              "\n",
              "  <div id=\"df-1b5e1b30-aa4f-4b59-9d98-51929f500546\">\n",
              "    <div class=\"colab-df-container\">\n",
              "      <div>\n",
              "<style scoped>\n",
              "    .dataframe tbody tr th:only-of-type {\n",
              "        vertical-align: middle;\n",
              "    }\n",
              "\n",
              "    .dataframe tbody tr th {\n",
              "        vertical-align: top;\n",
              "    }\n",
              "\n",
              "    .dataframe thead th {\n",
              "        text-align: right;\n",
              "    }\n",
              "</style>\n",
              "<table border=\"1\" class=\"dataframe\">\n",
              "  <thead>\n",
              "    <tr style=\"text-align: right;\">\n",
              "      <th></th>\n",
              "      <th>114</th>\n",
              "      <th>243</th>\n",
              "      <th>244</th>\n",
              "      <th>254</th>\n",
              "      <th>388</th>\n",
              "      <th>446</th>\n",
              "      <th>503</th>\n",
              "      <th>505</th>\n",
              "      <th>507</th>\n",
              "      <th>638</th>\n",
              "      <th>...</th>\n",
              "      <th>278221</th>\n",
              "      <th>278314</th>\n",
              "      <th>278356</th>\n",
              "      <th>278390</th>\n",
              "      <th>278418</th>\n",
              "      <th>278535</th>\n",
              "      <th>278554</th>\n",
              "      <th>278582</th>\n",
              "      <th>278633</th>\n",
              "      <th>278843</th>\n",
              "    </tr>\n",
              "    <tr>\n",
              "      <th>ISBN</th>\n",
              "      <th></th>\n",
              "      <th></th>\n",
              "      <th></th>\n",
              "      <th></th>\n",
              "      <th></th>\n",
              "      <th></th>\n",
              "      <th></th>\n",
              "      <th></th>\n",
              "      <th></th>\n",
              "      <th></th>\n",
              "      <th></th>\n",
              "      <th></th>\n",
              "      <th></th>\n",
              "      <th></th>\n",
              "      <th></th>\n",
              "      <th></th>\n",
              "      <th></th>\n",
              "      <th></th>\n",
              "      <th></th>\n",
              "      <th></th>\n",
              "      <th></th>\n",
              "    </tr>\n",
              "  </thead>\n",
              "  <tbody>\n",
              "    <tr>\n",
              "      <th>0002005018</th>\n",
              "      <td>0.001955</td>\n",
              "      <td>0.001998</td>\n",
              "      <td>0.000748</td>\n",
              "      <td>0.001509</td>\n",
              "      <td>0.000376</td>\n",
              "      <td>-3.315894e-07</td>\n",
              "      <td>0.000559</td>\n",
              "      <td>-0.000013</td>\n",
              "      <td>0.002167</td>\n",
              "      <td>-0.001372</td>\n",
              "      <td>...</td>\n",
              "      <td>0.000615</td>\n",
              "      <td>-0.000030</td>\n",
              "      <td>-0.001229</td>\n",
              "      <td>0.001409</td>\n",
              "      <td>0.000225</td>\n",
              "      <td>-0.002081</td>\n",
              "      <td>0.000436</td>\n",
              "      <td>-0.000467</td>\n",
              "      <td>0.000544</td>\n",
              "      <td>0.001007</td>\n",
              "    </tr>\n",
              "    <tr>\n",
              "      <th>0002251760</th>\n",
              "      <td>0.005213</td>\n",
              "      <td>0.002380</td>\n",
              "      <td>0.000737</td>\n",
              "      <td>0.024142</td>\n",
              "      <td>0.000149</td>\n",
              "      <td>-1.160931e-05</td>\n",
              "      <td>0.002576</td>\n",
              "      <td>0.008307</td>\n",
              "      <td>0.008111</td>\n",
              "      <td>-0.007180</td>\n",
              "      <td>...</td>\n",
              "      <td>0.000674</td>\n",
              "      <td>0.000634</td>\n",
              "      <td>-0.004228</td>\n",
              "      <td>0.003577</td>\n",
              "      <td>0.015668</td>\n",
              "      <td>-0.012844</td>\n",
              "      <td>0.000640</td>\n",
              "      <td>-0.003262</td>\n",
              "      <td>-0.012699</td>\n",
              "      <td>0.000033</td>\n",
              "    </tr>\n",
              "    <tr>\n",
              "      <th>000648302X</th>\n",
              "      <td>-0.004245</td>\n",
              "      <td>-0.000868</td>\n",
              "      <td>0.002871</td>\n",
              "      <td>-0.000737</td>\n",
              "      <td>0.000887</td>\n",
              "      <td>-1.862764e-04</td>\n",
              "      <td>0.001520</td>\n",
              "      <td>0.005631</td>\n",
              "      <td>0.001421</td>\n",
              "      <td>0.006179</td>\n",
              "      <td>...</td>\n",
              "      <td>0.001967</td>\n",
              "      <td>0.002167</td>\n",
              "      <td>-0.004959</td>\n",
              "      <td>-0.003900</td>\n",
              "      <td>0.005653</td>\n",
              "      <td>-0.000741</td>\n",
              "      <td>-0.001843</td>\n",
              "      <td>-0.013890</td>\n",
              "      <td>0.001188</td>\n",
              "      <td>0.000717</td>\n",
              "    </tr>\n",
              "    <tr>\n",
              "      <th>0006551971</th>\n",
              "      <td>-0.000136</td>\n",
              "      <td>-0.000125</td>\n",
              "      <td>0.000050</td>\n",
              "      <td>0.001892</td>\n",
              "      <td>0.000131</td>\n",
              "      <td>3.492248e-05</td>\n",
              "      <td>0.000429</td>\n",
              "      <td>0.001404</td>\n",
              "      <td>0.000838</td>\n",
              "      <td>0.000336</td>\n",
              "      <td>...</td>\n",
              "      <td>0.000598</td>\n",
              "      <td>-0.000062</td>\n",
              "      <td>-0.001299</td>\n",
              "      <td>-0.000118</td>\n",
              "      <td>0.001958</td>\n",
              "      <td>-0.001073</td>\n",
              "      <td>-0.000199</td>\n",
              "      <td>-0.000751</td>\n",
              "      <td>-0.000128</td>\n",
              "      <td>-0.000025</td>\n",
              "    </tr>\n",
              "    <tr>\n",
              "      <th>0006742939</th>\n",
              "      <td>-0.000921</td>\n",
              "      <td>0.001539</td>\n",
              "      <td>0.001435</td>\n",
              "      <td>0.018369</td>\n",
              "      <td>0.000358</td>\n",
              "      <td>1.646898e-04</td>\n",
              "      <td>0.000865</td>\n",
              "      <td>0.001646</td>\n",
              "      <td>-0.000487</td>\n",
              "      <td>-0.001531</td>\n",
              "      <td>...</td>\n",
              "      <td>0.001287</td>\n",
              "      <td>0.000088</td>\n",
              "      <td>0.006579</td>\n",
              "      <td>-0.001127</td>\n",
              "      <td>0.001651</td>\n",
              "      <td>-0.002188</td>\n",
              "      <td>-0.000029</td>\n",
              "      <td>-0.003363</td>\n",
              "      <td>-0.001720</td>\n",
              "      <td>0.004291</td>\n",
              "    </tr>\n",
              "    <tr>\n",
              "      <th>0007110928</th>\n",
              "      <td>-0.004113</td>\n",
              "      <td>0.006669</td>\n",
              "      <td>0.004820</td>\n",
              "      <td>-0.000369</td>\n",
              "      <td>0.000778</td>\n",
              "      <td>1.607001e-05</td>\n",
              "      <td>0.001497</td>\n",
              "      <td>0.001983</td>\n",
              "      <td>0.002599</td>\n",
              "      <td>0.000191</td>\n",
              "      <td>...</td>\n",
              "      <td>0.003054</td>\n",
              "      <td>0.001753</td>\n",
              "      <td>-0.002626</td>\n",
              "      <td>-0.004452</td>\n",
              "      <td>0.000992</td>\n",
              "      <td>-0.000277</td>\n",
              "      <td>-0.000572</td>\n",
              "      <td>-0.008574</td>\n",
              "      <td>0.000317</td>\n",
              "      <td>0.004438</td>\n",
              "    </tr>\n",
              "    <tr>\n",
              "      <th>0007122039</th>\n",
              "      <td>0.000251</td>\n",
              "      <td>0.000339</td>\n",
              "      <td>0.000030</td>\n",
              "      <td>0.000160</td>\n",
              "      <td>0.000100</td>\n",
              "      <td>7.098408e-06</td>\n",
              "      <td>0.000128</td>\n",
              "      <td>0.000067</td>\n",
              "      <td>0.000264</td>\n",
              "      <td>-0.000577</td>\n",
              "      <td>...</td>\n",
              "      <td>0.000138</td>\n",
              "      <td>0.000055</td>\n",
              "      <td>-0.000337</td>\n",
              "      <td>0.000326</td>\n",
              "      <td>0.000203</td>\n",
              "      <td>-0.000220</td>\n",
              "      <td>0.000039</td>\n",
              "      <td>0.000118</td>\n",
              "      <td>-0.000274</td>\n",
              "      <td>0.000068</td>\n",
              "    </tr>\n",
              "    <tr>\n",
              "      <th>0007141076</th>\n",
              "      <td>0.000068</td>\n",
              "      <td>0.001431</td>\n",
              "      <td>0.000301</td>\n",
              "      <td>-0.000554</td>\n",
              "      <td>0.000151</td>\n",
              "      <td>5.850064e-05</td>\n",
              "      <td>0.000307</td>\n",
              "      <td>-0.000602</td>\n",
              "      <td>0.000310</td>\n",
              "      <td>-0.000728</td>\n",
              "      <td>...</td>\n",
              "      <td>0.000668</td>\n",
              "      <td>0.000207</td>\n",
              "      <td>0.000309</td>\n",
              "      <td>0.000559</td>\n",
              "      <td>0.000154</td>\n",
              "      <td>0.001991</td>\n",
              "      <td>0.000393</td>\n",
              "      <td>0.004668</td>\n",
              "      <td>0.000295</td>\n",
              "      <td>0.001350</td>\n",
              "    </tr>\n",
              "    <tr>\n",
              "      <th>0007154615</th>\n",
              "      <td>-0.003455</td>\n",
              "      <td>0.006013</td>\n",
              "      <td>0.005314</td>\n",
              "      <td>0.028517</td>\n",
              "      <td>0.001658</td>\n",
              "      <td>-4.283330e-06</td>\n",
              "      <td>0.007808</td>\n",
              "      <td>-0.001655</td>\n",
              "      <td>0.018910</td>\n",
              "      <td>0.001044</td>\n",
              "      <td>...</td>\n",
              "      <td>0.008281</td>\n",
              "      <td>0.003639</td>\n",
              "      <td>-0.008559</td>\n",
              "      <td>0.002511</td>\n",
              "      <td>0.009549</td>\n",
              "      <td>-0.003801</td>\n",
              "      <td>0.001254</td>\n",
              "      <td>0.043233</td>\n",
              "      <td>0.000813</td>\n",
              "      <td>0.009899</td>\n",
              "    </tr>\n",
              "    <tr>\n",
              "      <th>000716226X</th>\n",
              "      <td>0.002865</td>\n",
              "      <td>0.002223</td>\n",
              "      <td>0.000590</td>\n",
              "      <td>0.003037</td>\n",
              "      <td>0.000680</td>\n",
              "      <td>-4.368584e-06</td>\n",
              "      <td>0.000745</td>\n",
              "      <td>0.000136</td>\n",
              "      <td>0.004855</td>\n",
              "      <td>0.007156</td>\n",
              "      <td>...</td>\n",
              "      <td>0.000956</td>\n",
              "      <td>0.000097</td>\n",
              "      <td>-0.001849</td>\n",
              "      <td>0.002986</td>\n",
              "      <td>0.000571</td>\n",
              "      <td>-0.001458</td>\n",
              "      <td>0.000272</td>\n",
              "      <td>0.002857</td>\n",
              "      <td>0.007865</td>\n",
              "      <td>0.000860</td>\n",
              "    </tr>\n",
              "  </tbody>\n",
              "</table>\n",
              "<p>10 rows × 5855 columns</p>\n",
              "</div>\n",
              "      <button class=\"colab-df-convert\" onclick=\"convertToInteractive('df-1b5e1b30-aa4f-4b59-9d98-51929f500546')\"\n",
              "              title=\"Convert this dataframe to an interactive table.\"\n",
              "              style=\"display:none;\">\n",
              "        \n",
              "  <svg xmlns=\"http://www.w3.org/2000/svg\" height=\"24px\"viewBox=\"0 0 24 24\"\n",
              "       width=\"24px\">\n",
              "    <path d=\"M0 0h24v24H0V0z\" fill=\"none\"/>\n",
              "    <path d=\"M18.56 5.44l.94 2.06.94-2.06 2.06-.94-2.06-.94-.94-2.06-.94 2.06-2.06.94zm-11 1L8.5 8.5l.94-2.06 2.06-.94-2.06-.94L8.5 2.5l-.94 2.06-2.06.94zm10 10l.94 2.06.94-2.06 2.06-.94-2.06-.94-.94-2.06-.94 2.06-2.06.94z\"/><path d=\"M17.41 7.96l-1.37-1.37c-.4-.4-.92-.59-1.43-.59-.52 0-1.04.2-1.43.59L10.3 9.45l-7.72 7.72c-.78.78-.78 2.05 0 2.83L4 21.41c.39.39.9.59 1.41.59.51 0 1.02-.2 1.41-.59l7.78-7.78 2.81-2.81c.8-.78.8-2.07 0-2.86zM5.41 20L4 18.59l7.72-7.72 1.47 1.35L5.41 20z\"/>\n",
              "  </svg>\n",
              "      </button>\n",
              "      \n",
              "  <style>\n",
              "    .colab-df-container {\n",
              "      display:flex;\n",
              "      flex-wrap:wrap;\n",
              "      gap: 12px;\n",
              "    }\n",
              "\n",
              "    .colab-df-convert {\n",
              "      background-color: #E8F0FE;\n",
              "      border: none;\n",
              "      border-radius: 50%;\n",
              "      cursor: pointer;\n",
              "      display: none;\n",
              "      fill: #1967D2;\n",
              "      height: 32px;\n",
              "      padding: 0 0 0 0;\n",
              "      width: 32px;\n",
              "    }\n",
              "\n",
              "    .colab-df-convert:hover {\n",
              "      background-color: #E2EBFA;\n",
              "      box-shadow: 0px 1px 2px rgba(60, 64, 67, 0.3), 0px 1px 3px 1px rgba(60, 64, 67, 0.15);\n",
              "      fill: #174EA6;\n",
              "    }\n",
              "\n",
              "    [theme=dark] .colab-df-convert {\n",
              "      background-color: #3B4455;\n",
              "      fill: #D2E3FC;\n",
              "    }\n",
              "\n",
              "    [theme=dark] .colab-df-convert:hover {\n",
              "      background-color: #434B5C;\n",
              "      box-shadow: 0px 1px 3px 1px rgba(0, 0, 0, 0.15);\n",
              "      filter: drop-shadow(0px 1px 2px rgba(0, 0, 0, 0.3));\n",
              "      fill: #FFFFFF;\n",
              "    }\n",
              "  </style>\n",
              "\n",
              "      <script>\n",
              "        const buttonEl =\n",
              "          document.querySelector('#df-1b5e1b30-aa4f-4b59-9d98-51929f500546 button.colab-df-convert');\n",
              "        buttonEl.style.display =\n",
              "          google.colab.kernel.accessAllowed ? 'block' : 'none';\n",
              "\n",
              "        async function convertToInteractive(key) {\n",
              "          const element = document.querySelector('#df-1b5e1b30-aa4f-4b59-9d98-51929f500546');\n",
              "          const dataTable =\n",
              "            await google.colab.kernel.invokeFunction('convertToInteractive',\n",
              "                                                     [key], {});\n",
              "          if (!dataTable) return;\n",
              "\n",
              "          const docLinkHtml = 'Like what you see? Visit the ' +\n",
              "            '<a target=\"_blank\" href=https://colab.research.google.com/notebooks/data_table.ipynb>data table notebook</a>'\n",
              "            + ' to learn more about interactive tables.';\n",
              "          element.innerHTML = '';\n",
              "          dataTable['output_type'] = 'display_data';\n",
              "          await google.colab.output.renderOutput(dataTable, element);\n",
              "          const docLink = document.createElement('div');\n",
              "          docLink.innerHTML = docLinkHtml;\n",
              "          element.appendChild(docLink);\n",
              "        }\n",
              "      </script>\n",
              "    </div>\n",
              "  </div>\n",
              "  "
            ]
          },
          "metadata": {},
          "execution_count": 115
        }
      ]
    },
    {
      "cell_type": "code",
      "source": [
        "#Checking length\n",
        "len(cf_preds_df.columns)\n",
        ""
      ],
      "metadata": {
        "colab": {
          "base_uri": "https://localhost:8080/"
        },
        "id": "kq4zfR_acKGG",
        "outputId": "cbca3150-f313-4f72-d3a6-272d580c6b26"
      },
      "execution_count": null,
      "outputs": [
        {
          "output_type": "execute_result",
          "data": {
            "text/plain": [
              "5855"
            ]
          },
          "metadata": {},
          "execution_count": 116
        }
      ]
    },
    {
      "cell_type": "code",
      "source": [
        "#Indexing by personId to speed up the searches during evaluation\n",
        "interactions_full_indexed_df = interactions_full_df.set_index('User-ID')\n",
        "interactions_train_indexed_df = interactions_train_df.set_index('User-ID')\n",
        "interactions_test_indexed_df = interactions_test_df.set_index('User-ID')"
      ],
      "metadata": {
        "id": "wrk4CnkbcOPH"
      },
      "execution_count": null,
      "outputs": []
    },
    {
      "cell_type": "code",
      "source": [
        "class CFRecommender:\n",
        "    #Storing model name\n",
        "    MODEL_NAME = 'Collaborative Filtering'\n",
        "\n",
        "    def __init__(self, cf_predictions_df, items_df=None):\n",
        "        #Creating attributes\n",
        "        self.cf_predictions_df = cf_predictions_df\n",
        "        self.items_df = items_df\n",
        "\n",
        "    def get_model_name(self):\n",
        "        '''This will return model name'''\n",
        "        return self.MODEL_NAME\n",
        "\n",
        "    def recommend_items(self, user_id, items_to_ignore=[], topn=10, verbose=False):\n",
        "        # Get and sort the user's predictions\n",
        "        sorted_user_predictions = self.cf_predictions_df[user_id].sort_values(ascending=False).reset_index().rename(columns={user_id: 'Book-Rating'})\n",
        "\n",
        "        # Recommend the highest predicted rating content that the user hasn't seen yet.\n",
        "        recommendations_df = sorted_user_predictions[~sorted_user_predictions['ISBN'].isin(items_to_ignore)].sort_values('Book-Rating', ascending = False).head(topn)\n",
        "\n",
        "        if verbose:\n",
        "            #runs only if verbose=True\n",
        "            if self.items_df is None:\n",
        "                raise Exception('\"items_df\" is required in verbose mode')\n",
        "            #Merging\n",
        "            recommendations_df = recommendations_df.merge(self.items_df, how = 'left',\n",
        "                                                          left_on = 'ISBN',\n",
        "                                                          right_on = 'ISBN')[[\"ISBN\",'Book-Title',\t'Book-Author', 'Year-Of-Publication',\t'Publisher']]\n",
        "\n",
        "        return recommendations_df\n",
        "\n",
        "#Creating object of the class\n",
        "cf_recommender_model = CFRecommender(cf_preds_df, books_df)"
      ],
      "metadata": {
        "id": "gidV2b9McVDO"
      },
      "execution_count": null,
      "outputs": []
    },
    {
      "cell_type": "code",
      "source": [
        "def get_items_interacted(person_id, interactions_df):\n",
        "    '''\n",
        "    This function will take user id as input and return interacted items\n",
        "    '''\n",
        "    interacted_items = interactions_df.loc[person_id]['ISBN']\n",
        "    #Repetation is avoided by taking set\n",
        "    return set(interacted_items if type(interacted_items) == pd.Series else [interacted_items])\n",
        ""
      ],
      "metadata": {
        "id": "vm2GeGg9cabH"
      },
      "execution_count": null,
      "outputs": []
    },
    {
      "cell_type": "code",
      "source": [
        "#Recommendation for a single user\n",
        "cf_recommender_model.recommend_items(users_ids[0],items_to_ignore= get_items_interacted(users_ids[0],interactions_train_indexed_df),verbose=True)\n",
        ""
      ],
      "metadata": {
        "colab": {
          "base_uri": "https://localhost:8080/",
          "height": 363
        },
        "id": "CIDOa87McenP",
        "outputId": "97d26348-9c2a-41a3-d4eb-50076b8e47dc"
      },
      "execution_count": null,
      "outputs": [
        {
          "output_type": "execute_result",
          "data": {
            "text/plain": [
              "         ISBN                                           Book-Title  \\\n",
              "0  0385504209  The Da Vinci Code                                     \n",
              "1  0312195516  The Red Tent (Bestselling Backlist)                   \n",
              "2  0142001740  The Secret Life of Bees                               \n",
              "3  1400031354  Tears of the Giraffe (No.1 Ladies Detective Agency)   \n",
              "4  0375726403  Empire Falls                                          \n",
              "5  0440236673  The Brethren                                          \n",
              "6  0375727345  House of Sand and Fog                                 \n",
              "7  0446610038  1st to Die: A Novel                                   \n",
              "8  0449212602  The Handmaid's Tale                                   \n",
              "9  0440234743  The Testament                                         \n",
              "\n",
              "              Book-Author  Year-Of-Publication          Publisher  \n",
              "0  Dan Brown               2003                 Doubleday          \n",
              "1  Anita Diamant           1998                 Picador USA        \n",
              "2  Sue Monk Kidd           2003                 Penguin Books      \n",
              "3  Alexander McCall Smith  2002                 Anchor             \n",
              "4  Richard Russo           2002                 Vintage Books USA  \n",
              "5  John Grisham            2000                 Island             \n",
              "6  Andre Dubus III         2000                 Vintage Books      \n",
              "7  James Patterson         2002                 Warner Vision      \n",
              "8  Margaret Atwood         1989                 Fawcett Books      \n",
              "9  John Grisham            1999                 Dell               "
            ],
            "text/html": [
              "\n",
              "  <div id=\"df-c0a72bbd-58fc-40ab-b3d0-9fd69a994086\">\n",
              "    <div class=\"colab-df-container\">\n",
              "      <div>\n",
              "<style scoped>\n",
              "    .dataframe tbody tr th:only-of-type {\n",
              "        vertical-align: middle;\n",
              "    }\n",
              "\n",
              "    .dataframe tbody tr th {\n",
              "        vertical-align: top;\n",
              "    }\n",
              "\n",
              "    .dataframe thead th {\n",
              "        text-align: right;\n",
              "    }\n",
              "</style>\n",
              "<table border=\"1\" class=\"dataframe\">\n",
              "  <thead>\n",
              "    <tr style=\"text-align: right;\">\n",
              "      <th></th>\n",
              "      <th>ISBN</th>\n",
              "      <th>Book-Title</th>\n",
              "      <th>Book-Author</th>\n",
              "      <th>Year-Of-Publication</th>\n",
              "      <th>Publisher</th>\n",
              "    </tr>\n",
              "  </thead>\n",
              "  <tbody>\n",
              "    <tr>\n",
              "      <th>0</th>\n",
              "      <td>0385504209</td>\n",
              "      <td>The Da Vinci Code</td>\n",
              "      <td>Dan Brown</td>\n",
              "      <td>2003</td>\n",
              "      <td>Doubleday</td>\n",
              "    </tr>\n",
              "    <tr>\n",
              "      <th>1</th>\n",
              "      <td>0312195516</td>\n",
              "      <td>The Red Tent (Bestselling Backlist)</td>\n",
              "      <td>Anita Diamant</td>\n",
              "      <td>1998</td>\n",
              "      <td>Picador USA</td>\n",
              "    </tr>\n",
              "    <tr>\n",
              "      <th>2</th>\n",
              "      <td>0142001740</td>\n",
              "      <td>The Secret Life of Bees</td>\n",
              "      <td>Sue Monk Kidd</td>\n",
              "      <td>2003</td>\n",
              "      <td>Penguin Books</td>\n",
              "    </tr>\n",
              "    <tr>\n",
              "      <th>3</th>\n",
              "      <td>1400031354</td>\n",
              "      <td>Tears of the Giraffe (No.1 Ladies Detective Agency)</td>\n",
              "      <td>Alexander McCall Smith</td>\n",
              "      <td>2002</td>\n",
              "      <td>Anchor</td>\n",
              "    </tr>\n",
              "    <tr>\n",
              "      <th>4</th>\n",
              "      <td>0375726403</td>\n",
              "      <td>Empire Falls</td>\n",
              "      <td>Richard Russo</td>\n",
              "      <td>2002</td>\n",
              "      <td>Vintage Books USA</td>\n",
              "    </tr>\n",
              "    <tr>\n",
              "      <th>5</th>\n",
              "      <td>0440236673</td>\n",
              "      <td>The Brethren</td>\n",
              "      <td>John Grisham</td>\n",
              "      <td>2000</td>\n",
              "      <td>Island</td>\n",
              "    </tr>\n",
              "    <tr>\n",
              "      <th>6</th>\n",
              "      <td>0375727345</td>\n",
              "      <td>House of Sand and Fog</td>\n",
              "      <td>Andre Dubus III</td>\n",
              "      <td>2000</td>\n",
              "      <td>Vintage Books</td>\n",
              "    </tr>\n",
              "    <tr>\n",
              "      <th>7</th>\n",
              "      <td>0446610038</td>\n",
              "      <td>1st to Die: A Novel</td>\n",
              "      <td>James Patterson</td>\n",
              "      <td>2002</td>\n",
              "      <td>Warner Vision</td>\n",
              "    </tr>\n",
              "    <tr>\n",
              "      <th>8</th>\n",
              "      <td>0449212602</td>\n",
              "      <td>The Handmaid's Tale</td>\n",
              "      <td>Margaret Atwood</td>\n",
              "      <td>1989</td>\n",
              "      <td>Fawcett Books</td>\n",
              "    </tr>\n",
              "    <tr>\n",
              "      <th>9</th>\n",
              "      <td>0440234743</td>\n",
              "      <td>The Testament</td>\n",
              "      <td>John Grisham</td>\n",
              "      <td>1999</td>\n",
              "      <td>Dell</td>\n",
              "    </tr>\n",
              "  </tbody>\n",
              "</table>\n",
              "</div>\n",
              "      <button class=\"colab-df-convert\" onclick=\"convertToInteractive('df-c0a72bbd-58fc-40ab-b3d0-9fd69a994086')\"\n",
              "              title=\"Convert this dataframe to an interactive table.\"\n",
              "              style=\"display:none;\">\n",
              "        \n",
              "  <svg xmlns=\"http://www.w3.org/2000/svg\" height=\"24px\"viewBox=\"0 0 24 24\"\n",
              "       width=\"24px\">\n",
              "    <path d=\"M0 0h24v24H0V0z\" fill=\"none\"/>\n",
              "    <path d=\"M18.56 5.44l.94 2.06.94-2.06 2.06-.94-2.06-.94-.94-2.06-.94 2.06-2.06.94zm-11 1L8.5 8.5l.94-2.06 2.06-.94-2.06-.94L8.5 2.5l-.94 2.06-2.06.94zm10 10l.94 2.06.94-2.06 2.06-.94-2.06-.94-.94-2.06-.94 2.06-2.06.94z\"/><path d=\"M17.41 7.96l-1.37-1.37c-.4-.4-.92-.59-1.43-.59-.52 0-1.04.2-1.43.59L10.3 9.45l-7.72 7.72c-.78.78-.78 2.05 0 2.83L4 21.41c.39.39.9.59 1.41.59.51 0 1.02-.2 1.41-.59l7.78-7.78 2.81-2.81c.8-.78.8-2.07 0-2.86zM5.41 20L4 18.59l7.72-7.72 1.47 1.35L5.41 20z\"/>\n",
              "  </svg>\n",
              "      </button>\n",
              "      \n",
              "  <style>\n",
              "    .colab-df-container {\n",
              "      display:flex;\n",
              "      flex-wrap:wrap;\n",
              "      gap: 12px;\n",
              "    }\n",
              "\n",
              "    .colab-df-convert {\n",
              "      background-color: #E8F0FE;\n",
              "      border: none;\n",
              "      border-radius: 50%;\n",
              "      cursor: pointer;\n",
              "      display: none;\n",
              "      fill: #1967D2;\n",
              "      height: 32px;\n",
              "      padding: 0 0 0 0;\n",
              "      width: 32px;\n",
              "    }\n",
              "\n",
              "    .colab-df-convert:hover {\n",
              "      background-color: #E2EBFA;\n",
              "      box-shadow: 0px 1px 2px rgba(60, 64, 67, 0.3), 0px 1px 3px 1px rgba(60, 64, 67, 0.15);\n",
              "      fill: #174EA6;\n",
              "    }\n",
              "\n",
              "    [theme=dark] .colab-df-convert {\n",
              "      background-color: #3B4455;\n",
              "      fill: #D2E3FC;\n",
              "    }\n",
              "\n",
              "    [theme=dark] .colab-df-convert:hover {\n",
              "      background-color: #434B5C;\n",
              "      box-shadow: 0px 1px 3px 1px rgba(0, 0, 0, 0.15);\n",
              "      filter: drop-shadow(0px 1px 2px rgba(0, 0, 0, 0.3));\n",
              "      fill: #FFFFFF;\n",
              "    }\n",
              "  </style>\n",
              "\n",
              "      <script>\n",
              "        const buttonEl =\n",
              "          document.querySelector('#df-c0a72bbd-58fc-40ab-b3d0-9fd69a994086 button.colab-df-convert');\n",
              "        buttonEl.style.display =\n",
              "          google.colab.kernel.accessAllowed ? 'block' : 'none';\n",
              "\n",
              "        async function convertToInteractive(key) {\n",
              "          const element = document.querySelector('#df-c0a72bbd-58fc-40ab-b3d0-9fd69a994086');\n",
              "          const dataTable =\n",
              "            await google.colab.kernel.invokeFunction('convertToInteractive',\n",
              "                                                     [key], {});\n",
              "          if (!dataTable) return;\n",
              "\n",
              "          const docLinkHtml = 'Like what you see? Visit the ' +\n",
              "            '<a target=\"_blank\" href=https://colab.research.google.com/notebooks/data_table.ipynb>data table notebook</a>'\n",
              "            + ' to learn more about interactive tables.';\n",
              "          element.innerHTML = '';\n",
              "          dataTable['output_type'] = 'display_data';\n",
              "          await google.colab.output.renderOutput(dataTable, element);\n",
              "          const docLink = document.createElement('div');\n",
              "          docLink.innerHTML = docLinkHtml;\n",
              "          element.appendChild(docLink);\n",
              "        }\n",
              "      </script>\n",
              "    </div>\n",
              "  </div>\n",
              "  "
            ]
          },
          "metadata": {},
          "execution_count": 120
        }
      ]
    },
    {
      "cell_type": "markdown",
      "source": [
        "**Evaluation - Singular Value Decomposition**"
      ],
      "metadata": {
        "id": "9fhfEen_cii_"
      }
    },
    {
      "cell_type": "code",
      "source": [
        "# Function for getting the set of items which a user has not interacted with\n",
        "def get_not_interacted_items_sample(person_id, sample_size, seed=42):\n",
        "    #Storing interacted items\n",
        "    interacted_items = get_items_interacted(person_id, interactions_full_indexed_df)\n",
        "    #Getting set of all items\n",
        "    all_items=set(interactions_full_indexed_df[\"ISBN\"])\n",
        "    #Obtaining non interacted items\n",
        "    non_interacted_items = all_items - interacted_items\n",
        "\n",
        "    random.seed(seed)\n",
        "    #Selecting random sample of given sample_size\n",
        "    non_interacted_items_sample = random.sample(non_interacted_items, sample_size)\n",
        "    return set(non_interacted_items_sample)\n",
        ""
      ],
      "metadata": {
        "id": "FX9QzSsrcmER"
      },
      "execution_count": null,
      "outputs": []
    },
    {
      "cell_type": "code",
      "source": [
        "#Top-N accuracy metrics\n",
        "EVAL_RANDOM_SAMPLE_NON_INTERACTED_ITEMS = 100\n",
        "\n",
        "class ModelEvaluator:\n",
        "\n",
        "    # Function to verify whether a particular item_id was present in the set of top N recommended items\n",
        "    def _verify_hit_top_n(self, item_id, recommended_items, topn):\n",
        "            try:\n",
        "                #Stores index of item id if it is present in the recommended_items\n",
        "                index = next(i for i, c in enumerate(recommended_items) if c == item_id)\n",
        "            except:\n",
        "                #If item id is not found in the recommended list\n",
        "                index = -1\n",
        "            #checking whether index is present in the topN items or not\n",
        "            hit = int(index in range(0, topn))\n",
        "            return hit, index\n",
        "\n",
        "    # Function to evaluate the performance of model for each user\n",
        "    def evaluate_model_for_user(self, model, person_id):\n",
        "\n",
        "        # Getting the items in test set\n",
        "        interacted_values_testset = interactions_test_indexed_df.loc[person_id]\n",
        "\n",
        "        #Obtaining unique interacted items by the user\n",
        "        if type(interacted_values_testset['ISBN']) == pd.Series:\n",
        "            person_interacted_items_testset = set(interacted_values_testset['ISBN'])\n",
        "        else:\n",
        "            person_interacted_items_testset = set([(interacted_values_testset['ISBN'])])\n",
        "\n",
        "        interacted_items_count_testset = len(person_interacted_items_testset)\n",
        "\n",
        "        # Getting a ranked recommendation list from the model for a given user\n",
        "        person_recs_df = model.recommend_items(person_id, items_to_ignore=get_items_interacted(person_id, interactions_train_indexed_df),topn=10000000000)\n",
        "\n",
        "        hits_at_5_count = 0\n",
        "        hits_at_10_count = 0\n",
        "\n",
        "        # For each item the user has interacted in test set\n",
        "        for item_id in person_interacted_items_testset:\n",
        "\n",
        "            # Getting a random sample of 100 items the user has not interacted with\n",
        "            non_interacted_items_sample = get_not_interacted_items_sample(person_id, sample_size=100, seed=42)\n",
        "\n",
        "            # Combining the current interacted item with the 100 random items\n",
        "            items_to_filter_recs = non_interacted_items_sample.union(set([item_id]))\n",
        "\n",
        "            # Filtering only recommendations that are either the interacted item or from a random sample of 100 non-interacted items\n",
        "            valid_recs_df = person_recs_df[person_recs_df['ISBN'].isin(items_to_filter_recs)]\n",
        "            valid_recs = valid_recs_df['ISBN'].values\n",
        "\n",
        "            # Verifying if the current interacted item is among the Top-N recommended items\n",
        "            hit_at_5, index_at_5 = self._verify_hit_top_n(item_id, valid_recs, 5)\n",
        "            #Counting hit at 5\n",
        "            hits_at_5_count += hit_at_5\n",
        "            hit_at_10, index_at_10 = self._verify_hit_top_n(item_id, valid_recs, 10)\n",
        "            #Counting hit at 10\n",
        "            hits_at_10_count += hit_at_10\n",
        "\n",
        "        # Recall is the rate of the interacted items that are ranked among the Top-N recommended items\n",
        "        recall_at_5 = hits_at_5_count / float(interacted_items_count_testset)\n",
        "        recall_at_10 = hits_at_10_count / float(interacted_items_count_testset)\n",
        "\n",
        "        #Creating a dictionary\n",
        "        person_metrics = {'hits@5_count':hits_at_5_count,\n",
        "                          'hits@10_count':hits_at_10_count,\n",
        "                          'interacted_count': interacted_items_count_testset,\n",
        "                          'recall@5': recall_at_5,\n",
        "                          'recall@10': recall_at_10}\n",
        "        return person_metrics\n",
        "\n",
        "\n",
        "    # Function to evaluate the performance of model at overall level\n",
        "    def evaluate_model(self, model):\n",
        "\n",
        "        people_metrics = []\n",
        "\n",
        "        #Calculating metrics for all users in the test set\n",
        "        for idx, person_id in enumerate(list(interactions_test_indexed_df.index.unique().values)):\n",
        "            #Returns dictionary containing person_metrics for each user\n",
        "            person_metrics = self.evaluate_model_for_user(model, person_id)\n",
        "            #Adds user_id to the dictionary\n",
        "            person_metrics['_person_id'] = person_id\n",
        "            #Appends each dictionary to the list\n",
        "            people_metrics.append(person_metrics)\n",
        "\n",
        "        print('%d users processed' % idx)\n",
        "        #Creates dataframe containing value of metrics for all the users using the list of dictionaries\n",
        "        detailed_results_df = pd.DataFrame(people_metrics).sort_values('interacted_count', ascending=False)\n",
        "\n",
        "        #Calculating global recall@5 and global recall@10\n",
        "        global_recall_at_5 = detailed_results_df['hits@5_count'].sum() / float(detailed_results_df['interacted_count'].sum())\n",
        "        global_recall_at_10 = detailed_results_df['hits@10_count'].sum() / float(detailed_results_df['interacted_count'].sum())\n",
        "\n",
        "        #Creates dictionary containing global metrics\n",
        "        global_metrics = {'modelName': model.get_model_name(),\n",
        "                          'recall@5': global_recall_at_5,\n",
        "                          'recall@10': global_recall_at_10}\n",
        "        return global_metrics, detailed_results_df\n",
        "\n",
        "model_evaluator = ModelEvaluator()\n",
        "\n",
        "\n"
      ],
      "metadata": {
        "id": "tP8Kr74ecudx"
      },
      "execution_count": null,
      "outputs": []
    },
    {
      "cell_type": "code",
      "source": [
        "#Printing result\n",
        "print('Evaluating Collaborative Filtering (SVD Matrix Factorization) model...')\n",
        "cf_global_metrics, cf_detailed_results_df = model_evaluator.evaluate_model(cf_recommender_model)\n",
        "\n",
        "print('\\nGlobal metrics:\\n%s' % cf_global_metrics)\n",
        "cf_detailed_results_df.head(10)"
      ],
      "metadata": {
        "colab": {
          "base_uri": "https://localhost:8080/",
          "height": 450
        },
        "id": "Tn1ELI6hdbdI",
        "outputId": "9b3ad3ea-acc5-40e9-d2d6-cfe5c305588c"
      },
      "execution_count": null,
      "outputs": [
        {
          "output_type": "stream",
          "name": "stdout",
          "text": [
            "Evaluating Collaborative Filtering (SVD Matrix Factorization) model...\n",
            "5854 users processed\n",
            "\n",
            "Global metrics:\n",
            "{'modelName': 'Collaborative Filtering', 'recall@5': 0.3123123123123123, 'recall@10': 0.4234675852322911}\n"
          ]
        },
        {
          "output_type": "execute_result",
          "data": {
            "text/plain": [
              "     hits@5_count  hits@10_count  interacted_count  recall@5  recall@10  \\\n",
              "2    49            106            536               0.091418  0.197761    \n",
              "94   54            74             138               0.391304  0.536232    \n",
              "146  33            42             92                0.358696  0.456522    \n",
              "290  22            34             88                0.250000  0.386364    \n",
              "188  34            43             72                0.472222  0.597222    \n",
              "112  19            25             72                0.263889  0.347222    \n",
              "320  28            30             61                0.459016  0.491803    \n",
              "163  9             20             54                0.166667  0.370370    \n",
              "741  34            44             54                0.629630  0.814815    \n",
              "135  5             17             52                0.096154  0.326923    \n",
              "\n",
              "     _person_id  \n",
              "2    11676       \n",
              "94   98391       \n",
              "146  153662      \n",
              "290  16795       \n",
              "188  114368      \n",
              "112  95359       \n",
              "320  104636      \n",
              "163  158295      \n",
              "741  123883      \n",
              "135  204864      "
            ],
            "text/html": [
              "\n",
              "  <div id=\"df-f4d02738-f1c5-4e97-b7cd-add4596464d6\">\n",
              "    <div class=\"colab-df-container\">\n",
              "      <div>\n",
              "<style scoped>\n",
              "    .dataframe tbody tr th:only-of-type {\n",
              "        vertical-align: middle;\n",
              "    }\n",
              "\n",
              "    .dataframe tbody tr th {\n",
              "        vertical-align: top;\n",
              "    }\n",
              "\n",
              "    .dataframe thead th {\n",
              "        text-align: right;\n",
              "    }\n",
              "</style>\n",
              "<table border=\"1\" class=\"dataframe\">\n",
              "  <thead>\n",
              "    <tr style=\"text-align: right;\">\n",
              "      <th></th>\n",
              "      <th>hits@5_count</th>\n",
              "      <th>hits@10_count</th>\n",
              "      <th>interacted_count</th>\n",
              "      <th>recall@5</th>\n",
              "      <th>recall@10</th>\n",
              "      <th>_person_id</th>\n",
              "    </tr>\n",
              "  </thead>\n",
              "  <tbody>\n",
              "    <tr>\n",
              "      <th>2</th>\n",
              "      <td>49</td>\n",
              "      <td>106</td>\n",
              "      <td>536</td>\n",
              "      <td>0.091418</td>\n",
              "      <td>0.197761</td>\n",
              "      <td>11676</td>\n",
              "    </tr>\n",
              "    <tr>\n",
              "      <th>94</th>\n",
              "      <td>54</td>\n",
              "      <td>74</td>\n",
              "      <td>138</td>\n",
              "      <td>0.391304</td>\n",
              "      <td>0.536232</td>\n",
              "      <td>98391</td>\n",
              "    </tr>\n",
              "    <tr>\n",
              "      <th>146</th>\n",
              "      <td>33</td>\n",
              "      <td>42</td>\n",
              "      <td>92</td>\n",
              "      <td>0.358696</td>\n",
              "      <td>0.456522</td>\n",
              "      <td>153662</td>\n",
              "    </tr>\n",
              "    <tr>\n",
              "      <th>290</th>\n",
              "      <td>22</td>\n",
              "      <td>34</td>\n",
              "      <td>88</td>\n",
              "      <td>0.250000</td>\n",
              "      <td>0.386364</td>\n",
              "      <td>16795</td>\n",
              "    </tr>\n",
              "    <tr>\n",
              "      <th>188</th>\n",
              "      <td>34</td>\n",
              "      <td>43</td>\n",
              "      <td>72</td>\n",
              "      <td>0.472222</td>\n",
              "      <td>0.597222</td>\n",
              "      <td>114368</td>\n",
              "    </tr>\n",
              "    <tr>\n",
              "      <th>112</th>\n",
              "      <td>19</td>\n",
              "      <td>25</td>\n",
              "      <td>72</td>\n",
              "      <td>0.263889</td>\n",
              "      <td>0.347222</td>\n",
              "      <td>95359</td>\n",
              "    </tr>\n",
              "    <tr>\n",
              "      <th>320</th>\n",
              "      <td>28</td>\n",
              "      <td>30</td>\n",
              "      <td>61</td>\n",
              "      <td>0.459016</td>\n",
              "      <td>0.491803</td>\n",
              "      <td>104636</td>\n",
              "    </tr>\n",
              "    <tr>\n",
              "      <th>163</th>\n",
              "      <td>9</td>\n",
              "      <td>20</td>\n",
              "      <td>54</td>\n",
              "      <td>0.166667</td>\n",
              "      <td>0.370370</td>\n",
              "      <td>158295</td>\n",
              "    </tr>\n",
              "    <tr>\n",
              "      <th>741</th>\n",
              "      <td>34</td>\n",
              "      <td>44</td>\n",
              "      <td>54</td>\n",
              "      <td>0.629630</td>\n",
              "      <td>0.814815</td>\n",
              "      <td>123883</td>\n",
              "    </tr>\n",
              "    <tr>\n",
              "      <th>135</th>\n",
              "      <td>5</td>\n",
              "      <td>17</td>\n",
              "      <td>52</td>\n",
              "      <td>0.096154</td>\n",
              "      <td>0.326923</td>\n",
              "      <td>204864</td>\n",
              "    </tr>\n",
              "  </tbody>\n",
              "</table>\n",
              "</div>\n",
              "      <button class=\"colab-df-convert\" onclick=\"convertToInteractive('df-f4d02738-f1c5-4e97-b7cd-add4596464d6')\"\n",
              "              title=\"Convert this dataframe to an interactive table.\"\n",
              "              style=\"display:none;\">\n",
              "        \n",
              "  <svg xmlns=\"http://www.w3.org/2000/svg\" height=\"24px\"viewBox=\"0 0 24 24\"\n",
              "       width=\"24px\">\n",
              "    <path d=\"M0 0h24v24H0V0z\" fill=\"none\"/>\n",
              "    <path d=\"M18.56 5.44l.94 2.06.94-2.06 2.06-.94-2.06-.94-.94-2.06-.94 2.06-2.06.94zm-11 1L8.5 8.5l.94-2.06 2.06-.94-2.06-.94L8.5 2.5l-.94 2.06-2.06.94zm10 10l.94 2.06.94-2.06 2.06-.94-2.06-.94-.94-2.06-.94 2.06-2.06.94z\"/><path d=\"M17.41 7.96l-1.37-1.37c-.4-.4-.92-.59-1.43-.59-.52 0-1.04.2-1.43.59L10.3 9.45l-7.72 7.72c-.78.78-.78 2.05 0 2.83L4 21.41c.39.39.9.59 1.41.59.51 0 1.02-.2 1.41-.59l7.78-7.78 2.81-2.81c.8-.78.8-2.07 0-2.86zM5.41 20L4 18.59l7.72-7.72 1.47 1.35L5.41 20z\"/>\n",
              "  </svg>\n",
              "      </button>\n",
              "      \n",
              "  <style>\n",
              "    .colab-df-container {\n",
              "      display:flex;\n",
              "      flex-wrap:wrap;\n",
              "      gap: 12px;\n",
              "    }\n",
              "\n",
              "    .colab-df-convert {\n",
              "      background-color: #E8F0FE;\n",
              "      border: none;\n",
              "      border-radius: 50%;\n",
              "      cursor: pointer;\n",
              "      display: none;\n",
              "      fill: #1967D2;\n",
              "      height: 32px;\n",
              "      padding: 0 0 0 0;\n",
              "      width: 32px;\n",
              "    }\n",
              "\n",
              "    .colab-df-convert:hover {\n",
              "      background-color: #E2EBFA;\n",
              "      box-shadow: 0px 1px 2px rgba(60, 64, 67, 0.3), 0px 1px 3px 1px rgba(60, 64, 67, 0.15);\n",
              "      fill: #174EA6;\n",
              "    }\n",
              "\n",
              "    [theme=dark] .colab-df-convert {\n",
              "      background-color: #3B4455;\n",
              "      fill: #D2E3FC;\n",
              "    }\n",
              "\n",
              "    [theme=dark] .colab-df-convert:hover {\n",
              "      background-color: #434B5C;\n",
              "      box-shadow: 0px 1px 3px 1px rgba(0, 0, 0, 0.15);\n",
              "      filter: drop-shadow(0px 1px 2px rgba(0, 0, 0, 0.3));\n",
              "      fill: #FFFFFF;\n",
              "    }\n",
              "  </style>\n",
              "\n",
              "      <script>\n",
              "        const buttonEl =\n",
              "          document.querySelector('#df-f4d02738-f1c5-4e97-b7cd-add4596464d6 button.colab-df-convert');\n",
              "        buttonEl.style.display =\n",
              "          google.colab.kernel.accessAllowed ? 'block' : 'none';\n",
              "\n",
              "        async function convertToInteractive(key) {\n",
              "          const element = document.querySelector('#df-f4d02738-f1c5-4e97-b7cd-add4596464d6');\n",
              "          const dataTable =\n",
              "            await google.colab.kernel.invokeFunction('convertToInteractive',\n",
              "                                                     [key], {});\n",
              "          if (!dataTable) return;\n",
              "\n",
              "          const docLinkHtml = 'Like what you see? Visit the ' +\n",
              "            '<a target=\"_blank\" href=https://colab.research.google.com/notebooks/data_table.ipynb>data table notebook</a>'\n",
              "            + ' to learn more about interactive tables.';\n",
              "          element.innerHTML = '';\n",
              "          dataTable['output_type'] = 'display_data';\n",
              "          await google.colab.output.renderOutput(dataTable, element);\n",
              "          const docLink = document.createElement('div');\n",
              "          docLink.innerHTML = docLinkHtml;\n",
              "          element.appendChild(docLink);\n",
              "        }\n",
              "      </script>\n",
              "    </div>\n",
              "  </div>\n",
              "  "
            ]
          },
          "metadata": {},
          "execution_count": 123
        }
      ]
    },
    {
      "cell_type": "markdown",
      "source": [
        "# **Conclusion**-\n",
        "\n",
        " the development of a more advanced and personalized book recommendation system for Amazon is crucial to improve the user experience and increase sales. By incorporating advanced algorithms and data analytics techniques, the system can accurately predict the user's book preferences and provide relevant recommendations in real-time. The personalized recommendations can not only enhance the user's engagement with the platform but also increase the likelihood of book purchases. Therefore, investing in the development of an improved Amazon book recommendation system is a smart business strategy that can lead to higher customer satisfaction and revenue growth."
      ],
      "metadata": {
        "id": "gCX9965dhzqZ"
      }
    },
    {
      "cell_type": "code",
      "source": [],
      "metadata": {
        "id": "dMFNLwMJ2VKX"
      },
      "execution_count": null,
      "outputs": []
    }
  ],
  "metadata": {
    "colab": {
      "provenance": [],
      "mount_file_id": "12VcUTsZvvXj5Zf8oHpMiAUA7VImyJIeB",
      "authorship_tag": "ABX9TyMkWoEKmLsfpx/AJFmqmU98",
      "include_colab_link": true
    },
    "kernelspec": {
      "display_name": "Python 3",
      "name": "python3"
    },
    "language_info": {
      "name": "python"
    }
  },
  "nbformat": 4,
  "nbformat_minor": 0
}