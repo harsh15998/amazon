{
  "nbformat": 4,
  "nbformat_minor": 0,
  "metadata": {
    "colab": {
      "provenance": [],
      "mount_file_id": "12VcUTsZvvXj5Zf8oHpMiAUA7VImyJIeB",
      "authorship_tag": "ABX9TyPUZT5YwBFfnEDNzH+oVfVN",
      "include_colab_link": true
    },
    "kernelspec": {
      "name": "python3",
      "display_name": "Python 3"
    },
    "language_info": {
      "name": "python"
    }
  },
  "cells": [
    {
      "cell_type": "markdown",
      "metadata": {
        "id": "view-in-github",
        "colab_type": "text"
      },
      "source": [
        "<a href=\"https://colab.research.google.com/github/harsh15998/amazon/blob/main/Untitled0.ipynb\" target=\"_parent\"><img src=\"https://colab.research.google.com/assets/colab-badge.svg\" alt=\"Open In Colab\"/></a>"
      ]
    },
    {
      "cell_type": "code",
      "execution_count": 1,
      "metadata": {
        "colab": {
          "base_uri": "https://localhost:8080/"
        },
        "id": "VLg6wWKZvqDn",
        "outputId": "b1679e98-246a-4aea-c3a5-14531650cab9"
      },
      "outputs": [
        {
          "output_type": "stream",
          "name": "stdout",
          "text": [
            "Drive already mounted at /content/drive; to attempt to forcibly remount, call drive.mount(\"/content/drive\", force_remount=True).\n"
          ]
        }
      ],
      "source": [
        "#mounting drive\n",
        "from google.colab import drive\n",
        "drive.mount('/content/drive')\n"
      ]
    },
    {
      "cell_type": "code",
      "source": [
        "# loading the required libraries \n",
        "import pandas as pd\n",
        "import numpy as np\n",
        "import matplotlib.pyplot as plt\n",
        "import seaborn as sns\n",
        "import warnings\n",
        "warnings.filterwarnings(\"ignore\")\n",
        "import re\n",
        "     "
      ],
      "metadata": {
        "id": "2xCSeEWhwuKZ"
      },
      "execution_count": 2,
      "outputs": []
    },
    {
      "cell_type": "code",
      "source": [
        "drive_path ='/content/drive/MyDrive/amazon/'"
      ],
      "metadata": {
        "id": "XHfj15-bw9i0"
      },
      "execution_count": 3,
      "outputs": []
    },
    {
      "cell_type": "code",
      "source": [
        "books_df=pd.read_csv(\"/content/drive/MyDrive/amazon/Books (1).csv\")\n",
        "\n",
        "     "
      ],
      "metadata": {
        "id": "jnBj4La8xKH6"
      },
      "execution_count": 8,
      "outputs": []
    },
    {
      "cell_type": "code",
      "source": [
        "ratings_df=pd.read_csv(\"/content/drive/MyDrive/amazon/Ratings (1).csv\")"
      ],
      "metadata": {
        "id": "5vvpQgNTyMZY"
      },
      "execution_count": 9,
      "outputs": []
    },
    {
      "cell_type": "code",
      "source": [
        "users_df=pd.read_csv(\"/content/drive/MyDrive/amazon/Users (1).csv\")"
      ],
      "metadata": {
        "id": "Bp9ottHqyVlN"
      },
      "execution_count": 10,
      "outputs": []
    }
  ]
}